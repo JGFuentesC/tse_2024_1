{
 "cells": [
  {
   "cell_type": "code",
   "execution_count": null,
   "metadata": {},
   "outputs": [],
   "source": [
    "import numpy as np\n",
    "import pandas as pd\n",
    "from multiprocessing import Pool\n",
    "from glob import glob \n",
    "import os\n",
    "from datetime import datetime,date\n",
    "from dateutil.relativedelta import relativedelta as rd\n",
    "import cufflinks as cf\n",
    "cf.go_offline()"
   ]
  },
  {
   "cell_type": "code",
   "execution_count": null,
   "metadata": {},
   "outputs": [],
   "source": [
    "def make_pool(func, params, threads):\n",
    "    \"\"\"\n",
    "    Ejecuta de forma simultánea múltiples llamadas a una función\n",
    "    :param func: function, objeto función a paralelizar\n",
    "    :param params: iterable, parámetros de evaluación paralela\n",
    "    :param threads: int, número de hilos de multiprocesamiento\n",
    "    :return: list, resultado de la ejecución paralela agrupada en una lista\n",
    "    \"\"\"\n",
    "    pool = Pool(threads)\n",
    "    data = pool.starmap(func, params)\n",
    "    pool.close()\n",
    "    pool.join()\n",
    "    del pool\n",
    "    return [x for x in data]"
   ]
  },
  {
   "cell_type": "code",
   "execution_count": null,
   "metadata": {},
   "outputs": [],
   "source": [
    "def f(x,y):\n",
    "    return (x*y)**2"
   ]
  },
  {
   "cell_type": "code",
   "execution_count": null,
   "metadata": {},
   "outputs": [],
   "source": [
    "X = list( np.arange(-10,10,0.001))\n",
    "Y = list ( np.arange(-10,10,0.001))\n",
    "len(X)*len(Y)"
   ]
  },
  {
   "cell_type": "code",
   "execution_count": null,
   "metadata": {},
   "outputs": [],
   "source": [
    "l = [f(x,y) for x in X for y in Y]"
   ]
  },
  {
   "cell_type": "code",
   "execution_count": null,
   "metadata": {},
   "outputs": [],
   "source": [
    "del l"
   ]
  },
  {
   "cell_type": "code",
   "execution_count": null,
   "metadata": {},
   "outputs": [],
   "source": [
    "l = make_pool(f,[(x,y) for x in X for y in X],16)"
   ]
  },
  {
   "cell_type": "code",
   "execution_count": null,
   "metadata": {},
   "outputs": [],
   "source": [
    "ruta = '/media/jose/090f6b94-de30-4aaf-9f8a-4e18b120d7f6/bd/02.  Para Ingeniería/aire/csv/*.csv'"
   ]
  },
  {
   "cell_type": "code",
   "execution_count": null,
   "metadata": {},
   "outputs": [],
   "source": [
    "archivos = glob(ruta)\n",
    "len(archivos)"
   ]
  },
  {
   "cell_type": "code",
   "execution_count": null,
   "metadata": {},
   "outputs": [],
   "source": [
    "arch = archivos[23]"
   ]
  },
  {
   "cell_type": "code",
   "execution_count": null,
   "metadata": {},
   "outputs": [],
   "source": [
    "def leerDatos(arch:str)->pd.DataFrame:\n",
    "    data = pd.read_csv(arch)\n",
    "    data['ts'] = pd.to_datetime(data['FECHA']+\" \"+(data['HORA'].map(int)-1).map(lambda x:f'{x:02d}:00:00'))\n",
    "    data = data.drop(['FECHA','HORA'],axis=1)\n",
    "    return data"
   ]
  },
  {
   "cell_type": "code",
   "execution_count": null,
   "metadata": {},
   "outputs": [],
   "source": [
    "data = pd.concat(map(leerDatos,archivos),ignore_index=True)\n",
    "data.shape"
   ]
  },
  {
   "cell_type": "code",
   "execution_count": null,
   "metadata": {},
   "outputs": [],
   "source": [
    "data.to_parquet('aire.parquet')"
   ]
  },
  {
   "cell_type": "code",
   "execution_count": null,
   "metadata": {},
   "outputs": [],
   "source": [
    "data  = pd.read_parquet('aire.parquet')"
   ]
  },
  {
   "cell_type": "code",
   "execution_count": null,
   "metadata": {},
   "outputs": [],
   "source": [
    "data.head()"
   ]
  },
  {
   "cell_type": "code",
   "execution_count": null,
   "metadata": {},
   "outputs": [],
   "source": [
    "vobs = 24 \n",
    "vpred = 1\n",
    "sub = 3\n",
    "ini ,fin =data['ts'].min(),data['ts'].max()\n",
    "print(ini,fin)\n",
    "anclai = ini+rd(hours=vobs-1)\n",
    "anclaf = fin-rd(hours=vpred)\n",
    "anclai,anclaf\n",
    "anclas = [anclai+rd(hours=i) for i in range((anclaf-anclai).days*24)]\n",
    "len(anclas)"
   ]
  },
  {
   "cell_type": "code",
   "execution_count": null,
   "metadata": {},
   "outputs": [],
   "source": [
    "def ingX(data:pd.DataFrame,ancla:datetime,sub:int)->pd.DataFrame:\n",
    "    ini = ancla-rd(hours=sub-1)\n",
    "    fin =  ancla\n",
    "    aux = data[(data['ts']>=ini)& (data['ts']<=fin)].copy()\n",
    "    funciones = [np.min,np.max,np.mean,np.std,np.median]\n",
    "    piv = aux.pivot_table(index='ESTACION',columns='CONTAMINANTE',values='VALOR',aggfunc=funciones)\n",
    "    piv.columns = [f'x_{x}_{y}_ult_{sub}' for x,y in piv.columns]\n",
    "    piv.reset_index(inplace=True)\n",
    "    piv.insert(1,'ancla',ancla)\n",
    "    return piv"
   ]
  },
  {
   "cell_type": "code",
   "execution_count": null,
   "metadata": {},
   "outputs": [],
   "source": [
    "ingX(data,datetime(2017,8,20,14),24)"
   ]
  },
  {
   "cell_type": "code",
   "execution_count": null,
   "metadata": {},
   "outputs": [],
   "source": []
  },
  {
   "cell_type": "code",
   "execution_count": null,
   "metadata": {},
   "outputs": [],
   "source": []
  },
  {
   "cell_type": "code",
   "execution_count": null,
   "metadata": {},
   "outputs": [],
   "source": []
  },
  {
   "cell_type": "code",
   "execution_count": null,
   "metadata": {},
   "outputs": [],
   "source": []
  },
  {
   "cell_type": "code",
   "execution_count": null,
   "metadata": {},
   "outputs": [],
   "source": []
  },
  {
   "cell_type": "code",
   "execution_count": null,
   "metadata": {},
   "outputs": [],
   "source": []
  }
 ],
 "metadata": {
  "kernelspec": {
   "display_name": "TSE MAC",
   "language": "python",
   "name": "tse"
  },
  "language_info": {
   "codemirror_mode": {
    "name": "ipython",
    "version": 3
   },
   "file_extension": ".py",
   "mimetype": "text/x-python",
   "name": "python",
   "nbconvert_exporter": "python",
   "pygments_lexer": "ipython3",
   "version": "3.10.12"
  },
  "orig_nbformat": 4
 },
 "nbformat": 4,
 "nbformat_minor": 2
}
