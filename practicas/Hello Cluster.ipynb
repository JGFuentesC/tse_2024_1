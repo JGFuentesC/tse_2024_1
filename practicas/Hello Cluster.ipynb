{
 "cells": [
  {
   "cell_type": "markdown",
   "metadata": {},
   "source": [
    "## Dependencias"
   ]
  },
  {
   "cell_type": "code",
   "execution_count": 21,
   "metadata": {},
   "outputs": [
    {
     "data": {
      "text/html": [
       "        <script type=\"text/javascript\">\n",
       "        window.PlotlyConfig = {MathJaxConfig: 'local'};\n",
       "        if (window.MathJax && window.MathJax.Hub && window.MathJax.Hub.Config) {window.MathJax.Hub.Config({SVG: {font: \"STIX-Web\"}});}\n",
       "        if (typeof require !== 'undefined') {\n",
       "        require.undef(\"plotly\");\n",
       "        requirejs.config({\n",
       "            paths: {\n",
       "                'plotly': ['https://cdn.plot.ly/plotly-2.25.2.min']\n",
       "            }\n",
       "        });\n",
       "        require(['plotly'], function(Plotly) {\n",
       "            window._Plotly = Plotly;\n",
       "        });\n",
       "        }\n",
       "        </script>\n",
       "        "
      ]
     },
     "metadata": {},
     "output_type": "display_data"
    }
   ],
   "source": [
    "import numpy as np\n",
    "import pandas as pd \n",
    "\n",
    "from sklearn.preprocessing import StandardScaler,MinMaxScaler\n",
    "from sklearn.cluster import KMeans,AgglomerativeClustering\n",
    "from sklearn.mixture import GaussianMixture\n",
    "from sklearn.metrics import silhouette_score\n",
    "from sklearn.decomposition import PCA\n",
    "from sklearn.pipeline import make_pipeline\n",
    "\n",
    "from varclushi import VarClusHi\n",
    "from scipy import stats\n",
    "\n",
    "import matplotlib.pyplot as plt\n",
    "import seaborn as sns\n",
    "import cufflinks as cf\n",
    "cf.go_offline() \n",
    "pd.set_option('display.max_columns', None)"
   ]
  },
  {
   "cell_type": "markdown",
   "metadata": {},
   "source": [
    "## Cargar datos"
   ]
  },
  {
   "cell_type": "code",
   "execution_count": 29,
   "metadata": {},
   "outputs": [
    {
     "data": {
      "text/plain": [
       "(329, 21)"
      ]
     },
     "execution_count": 29,
     "metadata": {},
     "output_type": "execute_result"
    }
   ],
   "source": [
    "data = pd.read_csv('data.csv')\n",
    "data.shape"
   ]
  },
  {
   "cell_type": "code",
   "execution_count": 30,
   "metadata": {},
   "outputs": [
    {
     "data": {
      "text/html": [
       "<div>\n",
       "<style scoped>\n",
       "    .dataframe tbody tr th:only-of-type {\n",
       "        vertical-align: middle;\n",
       "    }\n",
       "\n",
       "    .dataframe tbody tr th {\n",
       "        vertical-align: top;\n",
       "    }\n",
       "\n",
       "    .dataframe thead th {\n",
       "        text-align: right;\n",
       "    }\n",
       "</style>\n",
       "<table border=\"1\" class=\"dataframe\">\n",
       "  <thead>\n",
       "    <tr style=\"text-align: right;\">\n",
       "      <th></th>\n",
       "      <th>N°</th>\n",
       "      <th>DELEGACION</th>\n",
       "      <th>MERCADO</th>\n",
       "      <th>NUM_OFIC</th>\n",
       "      <th>NUM_LOCALE</th>\n",
       "      <th>Coord_Y</th>\n",
       "      <th>Coord_X</th>\n",
       "      <th>DIRECCION</th>\n",
       "      <th>COLONIA</th>\n",
       "      <th>TIPO</th>\n",
       "      <th>SUPERF_M2</th>\n",
       "      <th>INAUGURACI</th>\n",
       "      <th>ANTIGÜEDA</th>\n",
       "      <th>VOCACIÓN</th>\n",
       "      <th>DETALLE</th>\n",
       "      <th>FORMA</th>\n",
       "      <th>NIVELES</th>\n",
       "      <th>TAMAÑO1</th>\n",
       "      <th>PROTEGIDO</th>\n",
       "      <th>COORGEOG_X</th>\n",
       "      <th>COORGEOG_Y</th>\n",
       "    </tr>\n",
       "  </thead>\n",
       "  <tbody>\n",
       "    <tr>\n",
       "      <th>0</th>\n",
       "      <td>18.0</td>\n",
       "      <td>AZCAPOTZALCO</td>\n",
       "      <td>AZCAPOTZALCO</td>\n",
       "      <td>35.0</td>\n",
       "      <td>546.0</td>\n",
       "      <td>2.154268e+06</td>\n",
       "      <td>480539.52674</td>\n",
       "      <td>AV. AZCAPOTZALCO ENTRE ESPERANZA Y RAYON</td>\n",
       "      <td>AZCAPOTZALCO</td>\n",
       "      <td>TRADICIONAL</td>\n",
       "      <td>9346.0</td>\n",
       "      <td>1957.0</td>\n",
       "      <td>63.0</td>\n",
       "      <td>N/D</td>\n",
       "      <td>N/D</td>\n",
       "      <td>CUADRO</td>\n",
       "      <td>1</td>\n",
       "      <td>MEDIANO</td>\n",
       "      <td>SI</td>\n",
       "      <td>-99.185439</td>\n",
       "      <td>19.482872</td>\n",
       "    </tr>\n",
       "    <tr>\n",
       "      <th>1</th>\n",
       "      <td>20.0</td>\n",
       "      <td>AZCAPOTZALCO</td>\n",
       "      <td>CLAVERIA</td>\n",
       "      <td>46.0</td>\n",
       "      <td>98.0</td>\n",
       "      <td>2.152290e+06</td>\n",
       "      <td>480987.33324</td>\n",
       "      <td>IRAPUATO Y CLAVERIA S/N</td>\n",
       "      <td>CLAVERIA</td>\n",
       "      <td>TRADICIONAL</td>\n",
       "      <td>2063.0</td>\n",
       "      <td>1947.0</td>\n",
       "      <td>73.0</td>\n",
       "      <td>N/D</td>\n",
       "      <td>N/D</td>\n",
       "      <td>CUADRO</td>\n",
       "      <td>1</td>\n",
       "      <td>CHICO</td>\n",
       "      <td>NO</td>\n",
       "      <td>-99.181152</td>\n",
       "      <td>19.465003</td>\n",
       "    </tr>\n",
       "    <tr>\n",
       "      <th>2</th>\n",
       "      <td>17.0</td>\n",
       "      <td>AZCAPOTZALCO</td>\n",
       "      <td>ARENAL</td>\n",
       "      <td>125.0</td>\n",
       "      <td>198.0</td>\n",
       "      <td>2.152428e+06</td>\n",
       "      <td>484181.95416</td>\n",
       "      <td>ALAMO Y CALLE 6 ENTRE OLIVO Y CALLE 6</td>\n",
       "      <td>ARENAL</td>\n",
       "      <td>TRADICIONAL</td>\n",
       "      <td>3129.0</td>\n",
       "      <td>1963.0</td>\n",
       "      <td>57.0</td>\n",
       "      <td>N/D</td>\n",
       "      <td>N/D</td>\n",
       "      <td>RECTANGULO</td>\n",
       "      <td>1</td>\n",
       "      <td>CHICO</td>\n",
       "      <td>SI</td>\n",
       "      <td>-99.150715</td>\n",
       "      <td>19.466271</td>\n",
       "    </tr>\n",
       "  </tbody>\n",
       "</table>\n",
       "</div>"
      ],
      "text/plain": [
       "     N°    DELEGACION       MERCADO  NUM_OFIC  NUM_LOCALE       Coord_Y  \\\n",
       "0  18.0  AZCAPOTZALCO  AZCAPOTZALCO      35.0       546.0  2.154268e+06   \n",
       "1  20.0  AZCAPOTZALCO      CLAVERIA      46.0        98.0  2.152290e+06   \n",
       "2  17.0  AZCAPOTZALCO        ARENAL     125.0       198.0  2.152428e+06   \n",
       "\n",
       "        Coord_X                                 DIRECCION       COLONIA  \\\n",
       "0  480539.52674  AV. AZCAPOTZALCO ENTRE ESPERANZA Y RAYON  AZCAPOTZALCO   \n",
       "1  480987.33324                   IRAPUATO Y CLAVERIA S/N      CLAVERIA   \n",
       "2  484181.95416     ALAMO Y CALLE 6 ENTRE OLIVO Y CALLE 6        ARENAL   \n",
       "\n",
       "          TIPO  SUPERF_M2  INAUGURACI  ANTIGÜEDA VOCACIÓN DETALLE       FORMA  \\\n",
       "0  TRADICIONAL     9346.0      1957.0       63.0      N/D     N/D      CUADRO   \n",
       "1  TRADICIONAL     2063.0      1947.0       73.0      N/D     N/D      CUADRO   \n",
       "2  TRADICIONAL     3129.0      1963.0       57.0      N/D     N/D  RECTANGULO   \n",
       "\n",
       "   NIVELES  TAMAÑO1 PROTEGIDO  COORGEOG_X  COORGEOG_Y  \n",
       "0        1  MEDIANO        SI  -99.185439   19.482872  \n",
       "1        1    CHICO        NO  -99.181152   19.465003  \n",
       "2        1    CHICO        SI  -99.150715   19.466271  "
      ]
     },
     "execution_count": 30,
     "metadata": {},
     "output_type": "execute_result"
    }
   ],
   "source": [
    "data.head(3)"
   ]
  },
  {
   "cell_type": "code",
   "execution_count": 31,
   "metadata": {},
   "outputs": [],
   "source": [
    "um = ['N°','MERCADO']\n",
    "varc = ['NUM_LOCALE','SUPERF_M2','ANTIGÜEDA','NIVELES','COORGEOG_Y','COORGEOG_X']\n",
    "vard = ['DELEGACION','TIPO','PROTEGIDO','FORMA']"
   ]
  },
  {
   "cell_type": "code",
   "execution_count": 32,
   "metadata": {},
   "outputs": [],
   "source": [
    "data = data[um+varc+vard]"
   ]
  },
  {
   "cell_type": "code",
   "execution_count": 33,
   "metadata": {},
   "outputs": [
    {
     "data": {
      "text/html": [
       "<div>\n",
       "<style scoped>\n",
       "    .dataframe tbody tr th:only-of-type {\n",
       "        vertical-align: middle;\n",
       "    }\n",
       "\n",
       "    .dataframe tbody tr th {\n",
       "        vertical-align: top;\n",
       "    }\n",
       "\n",
       "    .dataframe thead th {\n",
       "        text-align: right;\n",
       "    }\n",
       "</style>\n",
       "<table border=\"1\" class=\"dataframe\">\n",
       "  <thead>\n",
       "    <tr style=\"text-align: right;\">\n",
       "      <th></th>\n",
       "      <th>N°</th>\n",
       "      <th>MERCADO</th>\n",
       "      <th>NUM_LOCALE</th>\n",
       "      <th>SUPERF_M2</th>\n",
       "      <th>ANTIGÜEDA</th>\n",
       "      <th>NIVELES</th>\n",
       "      <th>COORGEOG_Y</th>\n",
       "      <th>COORGEOG_X</th>\n",
       "      <th>DELEGACION</th>\n",
       "      <th>TIPO</th>\n",
       "      <th>PROTEGIDO</th>\n",
       "      <th>FORMA</th>\n",
       "    </tr>\n",
       "  </thead>\n",
       "  <tbody>\n",
       "    <tr>\n",
       "      <th>0</th>\n",
       "      <td>18.0</td>\n",
       "      <td>AZCAPOTZALCO</td>\n",
       "      <td>546.0</td>\n",
       "      <td>9346.0</td>\n",
       "      <td>63.0</td>\n",
       "      <td>1</td>\n",
       "      <td>19.482872</td>\n",
       "      <td>-99.185439</td>\n",
       "      <td>AZCAPOTZALCO</td>\n",
       "      <td>TRADICIONAL</td>\n",
       "      <td>SI</td>\n",
       "      <td>CUADRO</td>\n",
       "    </tr>\n",
       "    <tr>\n",
       "      <th>1</th>\n",
       "      <td>20.0</td>\n",
       "      <td>CLAVERIA</td>\n",
       "      <td>98.0</td>\n",
       "      <td>2063.0</td>\n",
       "      <td>73.0</td>\n",
       "      <td>1</td>\n",
       "      <td>19.465003</td>\n",
       "      <td>-99.181152</td>\n",
       "      <td>AZCAPOTZALCO</td>\n",
       "      <td>TRADICIONAL</td>\n",
       "      <td>NO</td>\n",
       "      <td>CUADRO</td>\n",
       "    </tr>\n",
       "    <tr>\n",
       "      <th>2</th>\n",
       "      <td>17.0</td>\n",
       "      <td>ARENAL</td>\n",
       "      <td>198.0</td>\n",
       "      <td>3129.0</td>\n",
       "      <td>57.0</td>\n",
       "      <td>1</td>\n",
       "      <td>19.466271</td>\n",
       "      <td>-99.150715</td>\n",
       "      <td>AZCAPOTZALCO</td>\n",
       "      <td>TRADICIONAL</td>\n",
       "      <td>SI</td>\n",
       "      <td>RECTANGULO</td>\n",
       "    </tr>\n",
       "    <tr>\n",
       "      <th>3</th>\n",
       "      <td>29.0</td>\n",
       "      <td>PROHOGAR</td>\n",
       "      <td>641.0</td>\n",
       "      <td>7167.0</td>\n",
       "      <td>57.0</td>\n",
       "      <td>1</td>\n",
       "      <td>19.475848</td>\n",
       "      <td>-99.153559</td>\n",
       "      <td>AZCAPOTZALCO</td>\n",
       "      <td>TRADICIONAL</td>\n",
       "      <td>NO</td>\n",
       "      <td>CUADRO</td>\n",
       "    </tr>\n",
       "    <tr>\n",
       "      <th>4</th>\n",
       "      <td>33.0</td>\n",
       "      <td>SANTA LUCIA</td>\n",
       "      <td>150.0</td>\n",
       "      <td>3116.0</td>\n",
       "      <td>56.0</td>\n",
       "      <td>1</td>\n",
       "      <td>19.476417</td>\n",
       "      <td>-99.196399</td>\n",
       "      <td>AZCAPOTZALCO</td>\n",
       "      <td>TRADICIONAL</td>\n",
       "      <td>NO</td>\n",
       "      <td>CUADRO</td>\n",
       "    </tr>\n",
       "  </tbody>\n",
       "</table>\n",
       "</div>"
      ],
      "text/plain": [
       "     N°       MERCADO  NUM_LOCALE  SUPERF_M2  ANTIGÜEDA  NIVELES  COORGEOG_Y  \\\n",
       "0  18.0  AZCAPOTZALCO       546.0     9346.0       63.0        1   19.482872   \n",
       "1  20.0      CLAVERIA        98.0     2063.0       73.0        1   19.465003   \n",
       "2  17.0        ARENAL       198.0     3129.0       57.0        1   19.466271   \n",
       "3  29.0      PROHOGAR       641.0     7167.0       57.0        1   19.475848   \n",
       "4  33.0   SANTA LUCIA       150.0     3116.0       56.0        1   19.476417   \n",
       "\n",
       "   COORGEOG_X    DELEGACION         TIPO PROTEGIDO       FORMA  \n",
       "0  -99.185439  AZCAPOTZALCO  TRADICIONAL        SI      CUADRO  \n",
       "1  -99.181152  AZCAPOTZALCO  TRADICIONAL        NO      CUADRO  \n",
       "2  -99.150715  AZCAPOTZALCO  TRADICIONAL        SI  RECTANGULO  \n",
       "3  -99.153559  AZCAPOTZALCO  TRADICIONAL        NO      CUADRO  \n",
       "4  -99.196399  AZCAPOTZALCO  TRADICIONAL        NO      CUADRO  "
      ]
     },
     "execution_count": 33,
     "metadata": {},
     "output_type": "execute_result"
    }
   ],
   "source": [
    "data.head()"
   ]
  },
  {
   "cell_type": "code",
   "execution_count": 36,
   "metadata": {},
   "outputs": [
    {
     "data": {
      "text/plain": [
       "(6, 4)"
      ]
     },
     "execution_count": 36,
     "metadata": {},
     "output_type": "execute_result"
    }
   ],
   "source": [
    "data.columns = ['id','nombre','c_num_locales','c_sup','c_antiguedad','c_niveles',\n",
    "'c_lat','c_lon','d_delegacion','d_tipo','d_protegido','d_forma']\n",
    "varc = [v for v in data.columns if v[0]=='c']\n",
    "vard = [v for v in data.columns if v[0]=='d']\n",
    "len(varc),len(vard)"
   ]
  },
  {
   "cell_type": "code",
   "execution_count": 37,
   "metadata": {},
   "outputs": [],
   "source": [
    "for v in varc:\n",
    "    data[v] = pd.to_numeric(data[v],errors='coerce')"
   ]
  },
  {
   "cell_type": "code",
   "execution_count": 38,
   "metadata": {},
   "outputs": [
    {
     "data": {
      "text/plain": [
       "d_delegacion\n",
       "GUSTAVO A. MADERO      51\n",
       "VENUSTIANO CARRANZA    42\n",
       "CUAUHTÉMOC             39\n",
       "COYOACÁN               22\n",
       "IZTAPALAPA             20\n",
       "TLALPAN                20\n",
       "MIGUEL HIDALGO         19\n",
       "AZCAPOTZALCO           19\n",
       "TLÁHUAC                18\n",
       "ÁLVARO OBREGÓN         16\n",
       "BENITO JUÁREZ          16\n",
       "IZTACALCO              16\n",
       "XOCHIMILCO             11\n",
       "MILPA ALTA             10\n",
       "MAGDALENA CONTRERAS     5\n",
       "CUAJIMALPA              5\n",
       "Name: count, dtype: int64"
      ]
     },
     "metadata": {},
     "output_type": "display_data"
    },
    {
     "data": {
      "text/plain": [
       "d_tipo\n",
       "TRADICIONAL                  276\n",
       "ESPECIALIZADO                 44\n",
       "TURISTICO Y ESPECIALIZADO      7\n",
       "TRADICIONAL Y TURISTICO        2\n",
       "Name: count, dtype: int64"
      ]
     },
     "metadata": {},
     "output_type": "display_data"
    },
    {
     "data": {
      "text/plain": [
       "d_protegido\n",
       "NO    287\n",
       "SI     42\n",
       "Name: count, dtype: int64"
      ]
     },
     "metadata": {},
     "output_type": "display_data"
    },
    {
     "data": {
      "text/plain": [
       "d_forma\n",
       "CUADRO         159\n",
       "RECTANGULO     137\n",
       "IRREGULAR       28\n",
       "CIRCULO          4\n",
       "RECTANGULAR      1\n",
       "Name: count, dtype: int64"
      ]
     },
     "metadata": {},
     "output_type": "display_data"
    }
   ],
   "source": [
    "for v in vard:\n",
    "    data[v] = data[v].fillna('MISSING')\n",
    "    display(data[v].value_counts())"
   ]
  },
  {
   "cell_type": "code",
   "execution_count": 39,
   "metadata": {},
   "outputs": [],
   "source": [
    "data['d_forma'].replace({'RECTANGULAR':'RECTANGULO'},inplace=True)"
   ]
  },
  {
   "cell_type": "markdown",
   "metadata": {},
   "source": [
    "## Análisis exploratorio de datos"
   ]
  },
  {
   "cell_type": "markdown",
   "metadata": {},
   "source": [
    "### Ausentes"
   ]
  },
  {
   "cell_type": "code",
   "execution_count": 40,
   "metadata": {},
   "outputs": [
    {
     "data": {
      "text/plain": [
       "c_num_locales    0\n",
       "c_sup            0\n",
       "c_antiguedad     0\n",
       "c_niveles        0\n",
       "c_lat            0\n",
       "c_lon            0\n",
       "dtype: int64"
      ]
     },
     "execution_count": 40,
     "metadata": {},
     "output_type": "execute_result"
    }
   ],
   "source": [
    "data[varc].isnull().sum()"
   ]
  },
  {
   "cell_type": "markdown",
   "metadata": {},
   "source": [
    "### Multicolinealidad"
   ]
  },
  {
   "cell_type": "code",
   "execution_count": 41,
   "metadata": {},
   "outputs": [],
   "source": [
    "vc = VarClusHi(data[varc],feat_list=varc).varclus()"
   ]
  },
  {
   "cell_type": "code",
   "execution_count": 42,
   "metadata": {},
   "outputs": [
    {
     "data": {
      "text/html": [
       "<div>\n",
       "<style scoped>\n",
       "    .dataframe tbody tr th:only-of-type {\n",
       "        vertical-align: middle;\n",
       "    }\n",
       "\n",
       "    .dataframe tbody tr th {\n",
       "        vertical-align: top;\n",
       "    }\n",
       "\n",
       "    .dataframe thead th {\n",
       "        text-align: right;\n",
       "    }\n",
       "</style>\n",
       "<table border=\"1\" class=\"dataframe\">\n",
       "  <thead>\n",
       "    <tr style=\"text-align: right;\">\n",
       "      <th></th>\n",
       "      <th>Cluster</th>\n",
       "      <th>Variable</th>\n",
       "      <th>RS_Own</th>\n",
       "      <th>RS_NC</th>\n",
       "      <th>RS_Ratio</th>\n",
       "    </tr>\n",
       "  </thead>\n",
       "  <tbody>\n",
       "    <tr>\n",
       "      <th>0</th>\n",
       "      <td>0</td>\n",
       "      <td>c_num_locales</td>\n",
       "      <td>0.884384</td>\n",
       "      <td>0.001202</td>\n",
       "      <td>0.115755</td>\n",
       "    </tr>\n",
       "    <tr>\n",
       "      <th>1</th>\n",
       "      <td>0</td>\n",
       "      <td>c_sup</td>\n",
       "      <td>0.876755</td>\n",
       "      <td>0.005430</td>\n",
       "      <td>0.123918</td>\n",
       "    </tr>\n",
       "    <tr>\n",
       "      <th>2</th>\n",
       "      <td>0</td>\n",
       "      <td>c_lat</td>\n",
       "      <td>0.171338</td>\n",
       "      <td>0.008720</td>\n",
       "      <td>0.835952</td>\n",
       "    </tr>\n",
       "    <tr>\n",
       "      <th>5</th>\n",
       "      <td>1</td>\n",
       "      <td>c_lon</td>\n",
       "      <td>0.513089</td>\n",
       "      <td>0.003733</td>\n",
       "      <td>0.488736</td>\n",
       "    </tr>\n",
       "    <tr>\n",
       "      <th>4</th>\n",
       "      <td>1</td>\n",
       "      <td>c_niveles</td>\n",
       "      <td>0.387847</td>\n",
       "      <td>0.001093</td>\n",
       "      <td>0.612822</td>\n",
       "    </tr>\n",
       "    <tr>\n",
       "      <th>3</th>\n",
       "      <td>1</td>\n",
       "      <td>c_antiguedad</td>\n",
       "      <td>0.283742</td>\n",
       "      <td>0.001649</td>\n",
       "      <td>0.717441</td>\n",
       "    </tr>\n",
       "  </tbody>\n",
       "</table>\n",
       "</div>"
      ],
      "text/plain": [
       "   Cluster       Variable    RS_Own     RS_NC  RS_Ratio\n",
       "0        0  c_num_locales  0.884384  0.001202  0.115755\n",
       "1        0          c_sup  0.876755  0.005430  0.123918\n",
       "2        0          c_lat  0.171338  0.008720  0.835952\n",
       "5        1          c_lon  0.513089  0.003733  0.488736\n",
       "4        1      c_niveles  0.387847  0.001093  0.612822\n",
       "3        1   c_antiguedad  0.283742  0.001649  0.717441"
      ]
     },
     "execution_count": 42,
     "metadata": {},
     "output_type": "execute_result"
    }
   ],
   "source": [
    "vc.rsquare.sort_values(by=['Cluster','RS_Ratio'])"
   ]
  },
  {
   "cell_type": "code",
   "execution_count": 43,
   "metadata": {},
   "outputs": [],
   "source": [
    "mc = ['c_num_locales','c_lat','c_lon','c_antiguedad']"
   ]
  },
  {
   "cell_type": "markdown",
   "metadata": {},
   "source": [
    "### Univariado"
   ]
  },
  {
   "cell_type": "code",
   "execution_count": 44,
   "metadata": {},
   "outputs": [
    {
     "name": "stderr",
     "output_type": "stream",
     "text": [
      "/home/jose/entornos/tse/lib/python3.10/site-packages/seaborn/axisgrid.py:118: UserWarning:\n",
      "\n",
      "The figure layout has changed to tight\n",
      "\n"
     ]
    },
    {
     "data": {
      "text/plain": [
       "<seaborn.axisgrid.PairGrid at 0x7fb49947bdc0>"
      ]
     },
     "execution_count": 44,
     "metadata": {},
     "output_type": "execute_result"
    },
    {
     "data": {
      "image/png": "[encoded data removed]",
      "text/plain": [
       "<Figure size 1000x1000 with 20 Axes>"
      ]
     },
     "metadata": {},
     "output_type": "display_data"
    }
   ],
   "source": [
    "sns.pairplot(data[mc])"
   ]
  },
  {
   "cell_type": "markdown",
   "metadata": {},
   "source": [
    "## Transformación de espacios"
   ]
  },
  {
   "cell_type": "markdown",
   "metadata": {},
   "source": [
    "### Natural $\\mathcal{X} $ "
   ]
  },
  {
   "cell_type": "code",
   "execution_count": 46,
   "metadata": {},
   "outputs": [],
   "source": [
    "X = data[mc].copy()"
   ]
  },
  {
   "cell_type": "markdown",
   "metadata": {},
   "source": [
    "### Híper-caja $\\mathcal{X}_{[0,1]}$"
   ]
  },
  {
   "cell_type": "code",
   "execution_count": 47,
   "metadata": {},
   "outputs": [],
   "source": [
    "sc = MinMaxScaler()\n",
    "X01 = pd.DataFrame(sc.fit_transform(X),columns=X.columns)"
   ]
  },
  {
   "cell_type": "markdown",
   "metadata": {},
   "source": [
    "### PCA $\\mathcal{X}_{p} $ "
   ]
  },
  {
   "cell_type": "code",
   "execution_count": 54,
   "metadata": {},
   "outputs": [
    {
     "data": {
      "text/plain": [
       "array([0.33049195, 0.5882677 , 0.82081363])"
      ]
     },
     "execution_count": 54,
     "metadata": {},
     "output_type": "execute_result"
    }
   ],
   "source": [
    "pipe = make_pipeline(StandardScaler(),PCA(n_components=3),MinMaxScaler())\n",
    "Xp = pd.DataFrame(pipe.fit_transform(X),columns=['p1','p2','p3'])\n",
    "pipe.steps[1][1].explained_variance_ratio_.cumsum()"
   ]
  },
  {
   "cell_type": "code",
   "execution_count": 63,
   "metadata": {},
   "outputs": [],
   "source": [
    "um = ['id','nombre']"
   ]
  },
  {
   "cell_type": "code",
   "execution_count": 64,
   "metadata": {},
   "outputs": [],
   "source": [
    "X[um] = X01[um] = Xp[um] = data[um]"
   ]
  },
  {
   "cell_type": "markdown",
   "metadata": {},
   "source": [
    "## Inspección visual de los clusters"
   ]
  },
  {
   "cell_type": "code",
   "execution_count": 65,
   "metadata": {},
   "outputs": [
    {
     "data": {
      "application/vnd.plotly.v1+json": {
       "config": {
        "linkText": "Export to plot.ly",
        "plotlyServerURL": "https://plot.ly",
        "showLink": true
       },
       "data": [
        {
         "marker": {
          "color": [
           "rgba(128, 0, 128, 1.0)",
           "rgba(128, 0, 128, 0.9975683890577507)",
           "rgba(128, 0, 128, 0.9951367781155014)",
           "rgba(128, 0, 128, 0.9927051671732523)",
           "rgba(128, 0, 128, 0.990273556231003)",
           "rgba(128, 0, 128, 0.9878419452887537)",
           "rgba(128, 0, 128, 0.9854103343465044)",
           "rgba(128, 0, 128, 0.9829787234042553)",
           "rgba(128, 0, 128, 0.980547112462006)",
           "rgba(128, 0, 128, 0.9781155015197567)",
           "rgba(128, 0, 128, 0.9756838905775074)",
           "rgba(128, 0, 128, 0.9732522796352583)",
           "rgba(128, 0, 128, 0.970820668693009)",
           "rgba(128, 0, 128, 0.9683890577507597)",
           "rgba(128, 0, 128, 0.9659574468085104)",
           "rgba(128, 0, 128, 0.9635258358662613)",
           "rgba(128, 0, 128, 0.961094224924012)",
           "rgba(128, 0, 128, 0.9586626139817627)",
           "rgba(128, 0, 128, 0.9562310030395134)",
           "rgba(128, 0, 128, 0.9537993920972643)",
           "rgba(128, 0, 128, 0.951367781155015)",
           "rgba(128, 0, 128, 0.9489361702127657)",
           "rgba(128, 0, 128, 0.9465045592705164)",
           "rgba(128, 0, 128, 0.9440729483282673)",
           "rgba(128, 0, 128, 0.941641337386018)",
           "rgba(128, 0, 128, 0.9392097264437687)",
           "rgba(128, 0, 128, 0.9367781155015193)",
           "rgba(128, 0, 128, 0.9343465045592703)",
           "rgba(128, 0, 128, 0.931914893617021)",
           "rgba(128, 0, 128, 0.9294832826747716)",
           "rgba(128, 0, 128, 0.9270516717325223)",
           "rgba(128, 0, 128, 0.9246200607902733)",
           "rgba(128, 0, 128, 0.922188449848024)",
           "rgba(128, 0, 128, 0.9197568389057746)",
           "rgba(128, 0, 128, 0.9173252279635253)",
           "rgba(128, 0, 128, 0.9148936170212763)",
           "rgba(128, 0, 128, 0.9124620060790269)",
           "rgba(128, 0, 128, 0.9100303951367776)",
           "rgba(128, 0, 128, 0.9075987841945283)",
           "rgba(128, 0, 128, 0.9051671732522792)",
           "rgba(128, 0, 128, 0.9027355623100299)",
           "rgba(128, 0, 128, 0.9003039513677806)",
           "rgba(128, 0, 128, 0.8978723404255313)",
           "rgba(128, 0, 128, 0.8954407294832822)",
           "rgba(128, 0, 128, 0.8930091185410329)",
           "rgba(128, 0, 128, 0.8905775075987836)",
           "rgba(128, 0, 128, 0.8881458966565343)",
           "rgba(128, 0, 128, 0.8857142857142852)",
           "rgba(128, 0, 128, 0.8832826747720359)",
           "rgba(128, 0, 128, 0.8808510638297866)",
           "rgba(128, 0, 128, 0.8784194528875373)",
           "rgba(128, 0, 128, 0.8759878419452882)",
           "rgba(128, 0, 128, 0.8735562310030389)",
           "rgba(128, 0, 128, 0.8711246200607896)",
           "rgba(128, 0, 128, 0.8686930091185403)",
           "rgba(128, 0, 128, 0.8662613981762912)",
           "rgba(128, 0, 128, 0.8638297872340419)",
           "rgba(128, 0, 128, 0.8613981762917926)",
           "rgba(128, 0, 128, 0.8589665653495433)",
           "rgba(128, 0, 128, 0.8565349544072942)",
           "rgba(128, 0, 128, 0.8541033434650449)",
           "rgba(128, 0, 128, 0.8516717325227956)",
           "rgba(128, 0, 128, 0.8492401215805463)",
           "rgba(128, 0, 128, 0.8468085106382972)",
           "rgba(128, 0, 128, 0.8443768996960479)",
           "rgba(128, 0, 128, 0.8419452887537986)",
           "rgba(128, 0, 128, 0.8395136778115493)",
           "rgba(128, 0, 128, 0.8370820668693002)",
           "rgba(128, 0, 128, 0.8346504559270509)",
           "rgba(128, 0, 128, 0.8322188449848016)",
           "rgba(128, 0, 128, 0.8297872340425523)",
           "rgba(128, 0, 128, 0.8273556231003032)",
           "rgba(128, 0, 128, 0.8249240121580539)",
           "rgba(128, 0, 128, 0.8224924012158046)",
           "rgba(128, 0, 128, 0.8200607902735553)",
           "rgba(128, 0, 128, 0.8176291793313062)",
           "rgba(128, 0, 128, 0.8151975683890569)",
           "rgba(128, 0, 128, 0.8127659574468076)",
           "rgba(128, 0, 128, 0.8103343465045583)",
           "rgba(128, 0, 128, 0.8079027355623092)",
           "rgba(128, 0, 128, 0.8054711246200599)",
           "rgba(128, 0, 128, 0.8030395136778106)",
           "rgba(128, 0, 128, 0.8006079027355613)",
           "rgba(128, 0, 128, 0.7981762917933122)",
           "rgba(128, 0, 128, 0.7957446808510629)",
           "rgba(128, 0, 128, 0.7933130699088136)",
           "rgba(128, 0, 128, 0.7908814589665643)",
           "rgba(128, 0, 128, 0.7884498480243152)",
           "rgba(128, 0, 128, 0.7860182370820659)",
           "rgba(128, 0, 128, 0.7835866261398166)",
           "rgba(128, 0, 128, 0.7811550151975672)",
           "rgba(128, 0, 128, 0.7787234042553182)",
           "rgba(128, 0, 128, 0.7762917933130689)",
           "rgba(128, 0, 128, 0.7738601823708195)",
           "rgba(128, 0, 128, 0.7714285714285702)",
           "rgba(128, 0, 128, 0.7689969604863212)",
           "rgba(128, 0, 128, 0.7665653495440719)",
           "rgba(128, 0, 128, 0.7641337386018225)",
           "rgba(128, 0, 128, 0.7617021276595732)",
           "rgba(128, 0, 128, 0.7592705167173242)",
           "rgba(128, 0, 128, 0.7568389057750748)",
           "rgba(128, 0, 128, 0.7544072948328255)",
           "rgba(128, 0, 128, 0.7519756838905762)",
           "rgba(128, 0, 128, 0.7495440729483271)",
           "rgba(128, 0, 128, 0.7471124620060778)",
           "rgba(128, 0, 128, 0.7446808510638285)",
           "rgba(128, 0, 128, 0.7422492401215792)",
           "rgba(128, 0, 128, 0.7398176291793301)",
           "rgba(128, 0, 128, 0.7373860182370808)",
           "rgba(128, 0, 128, 0.7349544072948315)",
           "rgba(128, 0, 128, 0.7325227963525822)",
           "rgba(128, 0, 128, 0.7300911854103331)",
           "rgba(128, 0, 128, 0.7276595744680838)",
           "rgba(128, 0, 128, 0.7252279635258345)",
           "rgba(128, 0, 128, 0.7227963525835852)",
           "rgba(128, 0, 128, 0.7203647416413361)",
           "rgba(128, 0, 128, 0.7179331306990868)",
           "rgba(128, 0, 128, 0.7155015197568375)",
           "rgba(128, 0, 128, 0.7130699088145882)",
           "rgba(128, 0, 128, 0.7106382978723391)",
           "rgba(128, 0, 128, 0.7082066869300898)",
           "rgba(128, 0, 128, 0.7057750759878405)",
           "rgba(128, 0, 128, 0.7033434650455912)",
           "rgba(128, 0, 128, 0.7009118541033421)",
           "rgba(128, 0, 128, 0.6984802431610928)",
           "rgba(128, 0, 128, 0.6960486322188435)",
           "rgba(128, 0, 128, 0.6936170212765942)",
           "rgba(128, 0, 128, 0.6911854103343451)",
           "rgba(128, 0, 128, 0.6887537993920958)",
           "rgba(128, 0, 128, 0.6863221884498465)",
           "rgba(128, 0, 128, 0.6838905775075972)",
           "rgba(128, 0, 128, 0.6814589665653481)",
           "rgba(128, 0, 128, 0.6790273556230988)",
           "rgba(128, 0, 128, 0.6765957446808495)",
           "rgba(128, 0, 128, 0.6741641337386002)",
           "rgba(128, 0, 128, 0.6717325227963511)",
           "rgba(128, 0, 128, 0.6693009118541018)",
           "rgba(128, 0, 128, 0.6668693009118525)",
           "rgba(128, 0, 128, 0.6644376899696032)",
           "rgba(128, 0, 128, 0.6620060790273541)",
           "rgba(128, 0, 128, 0.6595744680851048)",
           "rgba(128, 0, 128, 0.6571428571428555)",
           "rgba(128, 0, 128, 0.6547112462006062)",
           "rgba(128, 0, 128, 0.6522796352583571)",
           "rgba(128, 0, 128, 0.6498480243161078)",
           "rgba(128, 0, 128, 0.6474164133738585)",
           "rgba(128, 0, 128, 0.6449848024316092)",
           "rgba(128, 0, 128, 0.6425531914893601)",
           "rgba(128, 0, 128, 0.6401215805471108)",
           "rgba(128, 0, 128, 0.6376899696048615)",
           "rgba(128, 0, 128, 0.6352583586626122)",
           "rgba(128, 0, 128, 0.6328267477203631)",
           "rgba(128, 0, 128, 0.6303951367781138)",
           "rgba(128, 0, 128, 0.6279635258358645)",
           "rgba(128, 0, 128, 0.6255319148936151)",
           "rgba(128, 0, 128, 0.6231003039513661)",
           "rgba(128, 0, 128, 0.6206686930091168)",
           "rgba(128, 0, 128, 0.6182370820668674)",
           "rgba(128, 0, 128, 0.6158054711246181)",
           "rgba(128, 0, 128, 0.6133738601823691)",
           "rgba(128, 0, 128, 0.6109422492401198)",
           "rgba(128, 0, 128, 0.6085106382978704)",
           "rgba(128, 0, 128, 0.6060790273556211)",
           "rgba(128, 0, 128, 0.603647416413372)",
           "rgba(128, 0, 128, 0.6012158054711227)",
           "rgba(128, 0, 128, 0.5987841945288734)",
           "rgba(128, 0, 128, 0.5963525835866241)",
           "rgba(128, 0, 128, 0.593920972644375)",
           "rgba(128, 0, 128, 0.5914893617021257)",
           "rgba(128, 0, 128, 0.5890577507598764)",
           "rgba(128, 0, 128, 0.5866261398176271)",
           "rgba(128, 0, 128, 0.584194528875378)",
           "rgba(128, 0, 128, 0.5817629179331287)",
           "rgba(128, 0, 128, 0.5793313069908794)",
           "rgba(128, 0, 128, 0.5768996960486301)",
           "rgba(128, 0, 128, 0.574468085106381)",
           "rgba(128, 0, 128, 0.5720364741641317)",
           "rgba(128, 0, 128, 0.5696048632218824)",
           "rgba(128, 0, 128, 0.5671732522796331)",
           "rgba(128, 0, 128, 0.564741641337384)",
           "rgba(128, 0, 128, 0.5623100303951347)",
           "rgba(128, 0, 128, 0.5598784194528854)",
           "rgba(128, 0, 128, 0.5574468085106361)",
           "rgba(128, 0, 128, 0.555015197568387)",
           "rgba(128, 0, 128, 0.5525835866261377)",
           "rgba(128, 0, 128, 0.5501519756838884)",
           "rgba(128, 0, 128, 0.5477203647416391)",
           "rgba(128, 0, 128, 0.54528875379939)",
           "rgba(128, 0, 128, 0.5428571428571407)",
           "rgba(128, 0, 128, 0.5404255319148914)",
           "rgba(128, 0, 128, 0.5379939209726421)",
           "rgba(128, 0, 128, 0.535562310030393)",
           "rgba(128, 0, 128, 0.5331306990881437)",
           "rgba(128, 0, 128, 0.5306990881458944)",
           "rgba(128, 0, 128, 0.5282674772036451)",
           "rgba(128, 0, 128, 0.525835866261396)",
           "rgba(128, 0, 128, 0.5234042553191467)",
           "rgba(128, 0, 128, 0.5209726443768974)",
           "rgba(128, 0, 128, 0.5185410334346481)",
           "rgba(128, 0, 128, 0.516109422492399)",
           "rgba(128, 0, 128, 0.5136778115501497)",
           "rgba(128, 0, 128, 0.5112462006079004)",
           "rgba(128, 0, 128, 0.5088145896656511)",
           "rgba(128, 0, 128, 0.506382978723402)",
           "rgba(128, 0, 128, 0.5039513677811527)",
           "rgba(128, 0, 128, 0.5015197568389034)",
           "rgba(128, 0, 128, 0.4990881458966541)",
           "rgba(128, 0, 128, 0.49665653495440504)",
           "rgba(128, 0, 128, 0.49422492401215573)",
           "rgba(128, 0, 128, 0.4917933130699064)",
           "rgba(128, 0, 128, 0.4893617021276571)",
           "rgba(128, 0, 128, 0.48693009118540803)",
           "rgba(128, 0, 128, 0.4844984802431587)",
           "rgba(128, 0, 128, 0.4820668693009094)",
           "rgba(128, 0, 128, 0.4796352583586601)",
           "rgba(128, 0, 128, 0.477203647416411)",
           "rgba(128, 0, 128, 0.4747720364741617)",
           "rgba(128, 0, 128, 0.4723404255319124)",
           "rgba(128, 0, 128, 0.4699088145896631)",
           "rgba(128, 0, 128, 0.467477203647414)",
           "rgba(128, 0, 128, 0.4650455927051647)",
           "rgba(128, 0, 128, 0.4626139817629154)",
           "rgba(128, 0, 128, 0.4601823708206661)",
           "rgba(128, 0, 128, 0.457750759878417)",
           "rgba(128, 0, 128, 0.4553191489361677)",
           "rgba(128, 0, 128, 0.4528875379939184)",
           "rgba(128, 0, 128, 0.4504559270516691)",
           "rgba(128, 0, 128, 0.44802431610942)",
           "rgba(128, 0, 128, 0.4455927051671707)",
           "rgba(128, 0, 128, 0.4431610942249214)",
           "rgba(128, 0, 128, 0.4407294832826721)",
           "rgba(128, 0, 128, 0.438297872340423)",
           "rgba(128, 0, 128, 0.4358662613981737)",
           "rgba(128, 0, 128, 0.4334346504559244)",
           "rgba(128, 0, 128, 0.4310030395136751)",
           "rgba(128, 0, 128, 0.428571428571426)",
           "rgba(128, 0, 128, 0.4261398176291767)",
           "rgba(128, 0, 128, 0.4237082066869274)",
           "rgba(128, 0, 128, 0.4212765957446781)",
           "rgba(128, 0, 128, 0.418844984802429)",
           "rgba(128, 0, 128, 0.4164133738601797)",
           "rgba(128, 0, 128, 0.4139817629179304)",
           "rgba(128, 0, 128, 0.41155015197568107)",
           "rgba(128, 0, 128, 0.409118541033432)",
           "rgba(128, 0, 128, 0.4066869300911827)",
           "rgba(128, 0, 128, 0.40425531914893337)",
           "rgba(128, 0, 128, 0.40182370820668406)",
           "rgba(128, 0, 128, 0.399392097264435)",
           "rgba(128, 0, 128, 0.39696048632218567)",
           "rgba(128, 0, 128, 0.39452887537993636)",
           "rgba(128, 0, 128, 0.39209726443768705)",
           "rgba(128, 0, 128, 0.38966565349543797)",
           "rgba(128, 0, 128, 0.38723404255318866)",
           "rgba(128, 0, 128, 0.38480243161093936)",
           "rgba(128, 0, 128, 0.38237082066869005)",
           "rgba(128, 0, 128, 0.37993920972644096)",
           "rgba(128, 0, 128, 0.37750759878419166)",
           "rgba(128, 0, 128, 0.37507598784194235)",
           "rgba(128, 0, 128, 0.37264437689969304)",
           "rgba(128, 0, 128, 0.37021276595744396)",
           "rgba(128, 0, 128, 0.36778115501519465)",
           "rgba(128, 0, 128, 0.36534954407294534)",
           "rgba(128, 0, 128, 0.36291793313069604)",
           "rgba(128, 0, 128, 0.36048632218844695)",
           "rgba(128, 0, 128, 0.35805471124619764)",
           "rgba(128, 0, 128, 0.35562310030394834)",
           "rgba(128, 0, 128, 0.35319148936169903)",
           "rgba(128, 0, 128, 0.35075987841944994)",
           "rgba(128, 0, 128, 0.34832826747720064)",
           "rgba(128, 0, 128, 0.34589665653495133)",
           "rgba(128, 0, 128, 0.343465045592702)",
           "rgba(128, 0, 128, 0.34103343465045294)",
           "rgba(128, 0, 128, 0.33860182370820363)",
           "rgba(128, 0, 128, 0.3361702127659543)",
           "rgba(128, 0, 128, 0.333738601823705)",
           "rgba(128, 0, 128, 0.33130699088145593)",
           "rgba(128, 0, 128, 0.3288753799392066)",
           "rgba(128, 0, 128, 0.3264437689969573)",
           "rgba(128, 0, 128, 0.324012158054708)",
           "rgba(128, 0, 128, 0.3215805471124589)",
           "rgba(128, 0, 128, 0.3191489361702096)",
           "rgba(128, 0, 128, 0.3167173252279603)",
           "rgba(128, 0, 128, 0.314285714285711)",
           "rgba(128, 0, 128, 0.3118541033434619)",
           "rgba(128, 0, 128, 0.3094224924012126)",
           "rgba(128, 0, 128, 0.3069908814589633)",
           "rgba(128, 0, 128, 0.304559270516714)",
           "rgba(128, 0, 128, 0.3021276595744649)",
           "rgba(128, 0, 128, 0.2996960486322156)",
           "rgba(128, 0, 128, 0.2972644376899663)",
           "rgba(128, 0, 128, 0.294832826747717)",
           "rgba(128, 0, 128, 0.2924012158054679)",
           "rgba(128, 0, 128, 0.2899696048632186)",
           "rgba(128, 0, 128, 0.2875379939209693)",
           "rgba(128, 0, 128, 0.28510638297872)",
           "rgba(128, 0, 128, 0.2826747720364709)",
           "rgba(128, 0, 128, 0.2802431610942216)",
           "rgba(128, 0, 128, 0.2778115501519723)",
           "rgba(128, 0, 128, 0.275379939209723)",
           "rgba(128, 0, 128, 0.2729483282674739)",
           "rgba(128, 0, 128, 0.2705167173252246)",
           "rgba(128, 0, 128, 0.2680851063829753)",
           "rgba(128, 0, 128, 0.265653495440726)",
           "rgba(128, 0, 128, 0.2632218844984769)",
           "rgba(128, 0, 128, 0.2607902735562276)",
           "rgba(128, 0, 128, 0.2583586626139783)",
           "rgba(128, 0, 128, 0.25592705167172897)",
           "rgba(128, 0, 128, 0.2534954407294799)",
           "rgba(128, 0, 128, 0.2510638297872306)",
           "rgba(128, 0, 128, 0.24863221884498127)",
           "rgba(128, 0, 128, 0.24620060790273196)",
           "rgba(128, 0, 128, 0.24376899696048288)",
           "rgba(128, 0, 128, 0.24133738601823357)",
           "rgba(128, 0, 128, 0.23890577507598426)",
           "rgba(128, 0, 128, 0.23647416413373495)",
           "rgba(128, 0, 128, 0.23404255319148587)",
           "rgba(128, 0, 128, 0.23161094224923656)",
           "rgba(128, 0, 128, 0.22917933130698726)",
           "rgba(128, 0, 128, 0.22674772036473795)",
           "rgba(128, 0, 128, 0.22431610942248886)",
           "rgba(128, 0, 128, 0.22188449848023956)",
           "rgba(128, 0, 128, 0.21945288753799025)",
           "rgba(128, 0, 128, 0.21702127659574094)",
           "rgba(128, 0, 128, 0.21458966565349186)",
           "rgba(128, 0, 128, 0.21215805471124255)",
           "rgba(128, 0, 128, 0.20972644376899324)",
           "rgba(128, 0, 128, 0.20729483282674394)",
           "rgba(128, 0, 128, 0.20486322188449485)",
           "rgba(128, 0, 128, 0.20243161094224554)"
          ],
          "opacity": 0.8,
          "size": [
           10,
           10,
           10,
           10,
           10,
           10,
           10,
           10,
           10,
           10,
           10,
           10,
           10,
           10,
           10,
           10,
           10,
           10,
           10,
           10,
           10,
           10,
           10,
           10,
           10,
           10,
           10,
           10,
           10,
           10,
           10,
           10,
           10,
           10,
           10,
           10,
           10,
           10,
           10,
           10,
           10,
           10,
           10,
           10,
           10,
           10,
           10,
           10,
           10,
           10,
           10,
           10,
           10,
           10,
           10,
           10,
           10,
           10,
           10,
           10,
           10,
           10,
           10,
           10,
           10,
           10,
           10,
           10,
           10,
           10,
           10,
           10,
           10,
           10,
           10,
           10,
           10,
           10,
           10,
           10,
           10,
           10,
           10,
           10,
           10,
           10,
           10,
           10,
           10,
           10,
           10,
           10,
           10,
           10,
           10,
           10,
           10,
           10,
           10,
           10,
           10,
           10,
           10,
           10,
           10,
           10,
           10,
           10,
           10,
           10,
           10,
           10,
           10,
           10,
           10,
           10,
           10,
           10,
           10,
           10,
           10,
           10,
           10,
           10,
           10,
           10,
           10,
           10,
           10,
           10,
           10,
           10,
           10,
           10,
           10,
           10,
           10,
           10,
           10,
           10,
           10,
           10,
           10,
           10,
           10,
           10,
           10,
           10,
           10,
           10,
           10,
           10,
           10,
           10,
           10,
           10,
           10,
           10,
           10,
           10,
           10,
           10,
           10,
           10,
           10,
           10,
           10,
           10,
           10,
           10,
           10,
           10,
           10,
           10,
           10,
           10,
           10,
           10,
           10,
           10,
           10,
           10,
           10,
           10,
           10,
           10,
           10,
           10,
           10,
           10,
           10,
           10,
           10,
           10,
           10,
           10,
           10,
           10,
           10,
           10,
           10,
           10,
           10,
           10,
           10,
           10,
           10,
           10,
           10,
           10,
           10,
           10,
           10,
           10,
           10,
           10,
           10,
           10,
           10,
           10,
           10,
           10,
           10,
           10,
           10,
           10,
           10,
           10,
           10,
           10,
           10,
           10,
           10,
           10,
           10,
           10,
           10,
           10,
           10,
           10,
           10,
           10,
           10,
           10,
           10,
           10,
           10,
           10,
           10,
           10,
           10,
           10,
           10,
           10,
           10,
           10,
           10,
           10,
           10,
           10,
           10,
           10,
           10,
           10,
           10,
           10,
           10,
           10,
           10,
           10,
           10,
           10,
           10,
           10,
           10,
           10,
           10,
           10,
           10,
           10,
           10,
           10,
           10,
           10,
           10,
           10,
           10,
           10,
           10,
           10,
           10,
           10,
           10,
           10,
           10,
           10,
           10,
           10,
           10,
           10,
           10,
           10,
           10,
           10,
           10,
           10,
           10,
           10,
           10,
           10,
           10,
           10,
           10,
           10,
           10,
           10,
           10,
           10,
           10,
           10,
           10,
           10,
           10,
           10,
           10,
           10,
           10,
           10,
           10
          ],
          "symbol": "circle"
         },
         "mode": "markers",
         "text": [
          "AZCAPOTZALCO",
          "CLAVERIA",
          "ARENAL",
          "PROHOGAR",
          "SANTA LUCIA",
          "COSMOPOLITA",
          "VICTORIA DE LAS DEMOCRACIAS",
          "OBRERO POPULAR",
          "NUEVA SANTA MARIA",
          "BENITO JUAREZ",
          "TLATILCO",
          "SAN JUAN TLIHUACA",
          "JARDIN 23 DE ABRIL",
          "JARDIN FORTUNA NACIONAL",
          "PROVIDENCIA",
          "LAMINADORES",
          "PANTACO",
          "PASTEROS",
          "COYOACAN",
          "PRADO CHURUBUSCO",
          "SANTA URSULA COAPA (PESCADITOS)",
          "EL RELOJ",
          "XOTEPINGO",
          "CHURUBUSCO",
          "AVANTE",
          "RUIZ CORTINEZ (LA CRUZ)",
          "AJUSCO MONTSERRAT (LA BOLA)",
          "SAN FRANCISCO CULHUACAN",
          "AJUSCO MOCTEZUMA",
          "EDUCACION PETROLERA",
          "LOS REYES COYOACAN",
          "SANTO DOMINGO LAS ROSAS",
          "CARMEN SERDAN",
          "MARGARITA MAZA DE JUAREZ",
          "EMILIANO ZAPATA",
          "SANTO DOMINGO LOS REYES",
          "COPILCO EL ALTO",
          "HERMOSILLO",
          "EL VERDE",
          "BAZAR DEL ARTESANO MEXICANO",
          "CUAJIMALPA",
          "SAN MATEO TLALTENANGO",
          "ROSA TORRES",
          "HUIZACHITO",
          "VILLA ZONA",
          "RAMON CORONA",
          "CARRERA LARDIZABAL",
          "RIO BLANCO",
          "ESTRELLA",
          "DIEZ DE MAYO",
          "GERTRUDIS SANCHEZ",
          "SALVADO DIAZ MIRON",
          "GABRIEL HERNANDEZ",
          "VASCO DE QUIROGA",
          "TRES ESTRELLAS",
          "PROGRESO NACIONAL",
          "VILLA COMIDAS (VIEJO)",
          "AMPLIACION CASAS ALEMAN",
          "MARTIN CARRERA",
          "SAN JUAN DE ARAGON UNIDAD I",
          "VICENTE GUERRERO (NUEVA ATZACOALCO)",
          "MAXIMINO AVILA CAMACHO",
          "PANAMERICANA",
          "FERNANDO CASAS ALEMAN",
          "JUAN GONZALEZ ROMERO",
          "BONDOJITO",
          "SANTA ROSA",
          "SANTA MARIA TICOMAN",
          "PUEBLO DE SAN JUAN DE ARAGON",
          "SAN BARTOLO ATEPEHUACAN",
          "SAN PEDRO ZACATENCO",
          "MAGDALENA DE LAS SALINAS (NUEVA VALLEJO)",
          "SAN JUAN DE ARAGON UNIDAD 7",
          "SAN FELIPE DE JESUS",
          "SAN JUAN DE ARAGON UNIDAD 2",
          "SAN JUAN DE ARAGON UNIDAD 3",
          "SANTA ISABEL TOLA",
          "PRADERA",
          "CAMPESTRE ARAGON",
          "AMPLIACION GABRIEL HERNANDEZ",
          "VEINTICINCO DE JULIO",
          "SAN PEDRO EL CHICO",
          "MA. ESTHER ZUNO DE ECHEVERRIA",
          "SAN JUAN DE ARAGON UNIDAD 4 Y 5",
          "CUCHILLA DEL TESORO",
          "SAN JUAN DE ARAGON UNIDAD 6",
          "PRIMERO DE SEPTIEMBRE",
          "ALFREDO ROBLES DOMINGUEZ",
          "CUATRO DE FEBRERO",
          "CUAUTEPEC",
          "FERROPLAZA",
          "LINDAVISTA VALLEJO PATERA",
          "IZTACALCO",
          "AGRICOLA ORIENTAL",
          "MILITAR MARTE",
          "PANTITLAN CALLE 4",
          "JUVENTINO ROSAS",
          "BRAMADERO",
          "TLACOTAL",
          "LA CRUZ",
          "VEINTICUATRO DE DICIEMBRE",
          "SANTA ANITA",
          "APATLACO",
          "LEANDRO VALLE",
          "EL RODEO",
          "EJIDOS DE LA MAGDALENA MIXHUCA",
          "SAN MIGUEL IZTACALCO",
          "JOSE LOPEZ PORTILLO",
          "IZTAPALAPA",
          "SANTA MARIA AZTAHUACAN",
          "SAN ANDRES TETEPILCO",
          "SECTOR POPULAR",
          "PROGRESO DEL SUR",
          "ESCUADRON 201",
          "CULHUACAN",
          "SAN JUANICO",
          "SANTA CRUZ MEYEHUALCO",
          "SAN LORENZO XICOTENCATL",
          "LA PURISIMA",
          "SIFON",
          "SAN LORENZO TEZONCO",
          "JUAN DE LA BARRERA",
          "GUADALUPE DEL MORAL",
          "CONSTITUYENTES DE 1917",
          "SAN JOSE ACULCO",
          "FRANCISCO VILLA",
          "JACARANDAS",
          "MAGDALENA CONTRERAS (LA LOMA)",
          "TURISTICO MAGDALENA",
          "TIHUATLAN",
          "CERRO DEL JUDIO",
          "CONTRERAS LA CRUZ",
          "BENITO JUAREZ (MILPA ALTA)",
          "SAN PEDRO ATOCPAN",
          "SAN SALVADOR CUAUHTENCO (DOCE DE OCTUBRE",
          "SAN ANTONIO TECOMITL",
          "SAN PABLO OZTOTEPEC",
          "SANTA ANA TLACOTENCO",
          "VILLA MILPA ALTA (MERCADO ANTOJITOS)",
          "BENITO JUAREZ  (ANEXO)",
          "SAN BARTOLOME XICOMULCO",
          "SANTA MARIA NONOALCO",
          "MELCHOR MUZQUIZ ZONA",
          "SEIS DE ENERO DE 1915",
          "TIZAPAN",
          "JOSE MARIA PINO SUAREZ",
          "MELCHOR MUZQUIZ (FLORES)",
          "SANTA FE",
          "MARIA G. GARCIA DE RUIZ",
          "CRISTO REY",
          "OLIVAR DEL CONDE",
          "PANTEON JARDIN (FLORES)",
          "PUENTE COLORADO",
          "CORPUS CRISTY",
          "MOLINO DE SANTO DOMINGO",
          "CENTENARIO",
          "JALALPA EL GRANDE",
          "CENTRAL DE TLAHUAC",
          "MIXQUIC",
          "SAN JUAN IXTAYOPAN",
          "ZAPOTITLAN",
          "TLALTENCO (SAN FRANCISCO)",
          "SANTA CECILIA",
          "ABRAHAM DEL LLANO (NOPALERA)",
          "LOS OLIVOS",
          "MIGUEL HIDALGO",
          "AGRICOLA METROPOLITANA (FELIPE ASTORGA OCHOA)",
          "SANTA CATARINA",
          "DEL MAR",
          "SAN JOSE",
          "SELENE",
          "EMILIANO ZAPATA (TETELCO)",
          "ZAPOTITLA",
          "AMPLIACION SELENE",
          "TIPICO REGIONAL",
          "LA PAZ",
          "COMIDAS HUIPULCO",
          "VILLA COAPA",
          "LAZARO CARDENAS",
          "FUENTES BROTANTES",
          "ARTESANIAS VASCO DE QUIROGA",
          "ISIDRO FABELA",
          "SAN ANDRES TOTOLTEPEC",
          "FLORES SAN FERNANDO",
          "MIGUEL HIDALGO",
          "TORRES DE PADIERNA",
          "SAN NICOLAS TOTOLAPAN",
          "JOSE MARIA MORELOS Y PAVON",
          "PLAZA MEXICANA DEL SUR",
          "HUESO PERIFERICO",
          "VEINTICUATRO DE FEBRERO",
          "DR. Y GRAL JOSE GONZALEZ VARELA",
          "TLALCOLIGIA",
          "MIRADOR",
          "VEINTIUNO DE ABRIL",
          "XOCHIMILCO ZONA (XOCHITL)",
          "NATIVITAS",
          "TULYEHUALCO",
          "SAN GREGORIO ATLAPULCO",
          "XOCHIMILCO ANEXO",
          "SANTA CRUZ ACALPIXCA",
          "AMPLIACION SAN MARCOS",
          "GUADALUPE I. RAMIREZ",
          "TIERRA NUEVA",
          "AMPLIACION TEPEPAN",
          "AHUALAPA",
          "ALAMOS",
          "LAGO",
          "PORTALES ZONA",
          "VEINTICUATRO DE AGOSTO",
          "PRIMERO DE DICIEMBRE",
          "LA MODERNA",
          "MIXCOAC",
          "LAZARO CARDENAS(DEL VALLE)",
          "SAN PEDRO DE LOS PINOS",
          "POSTAL ZONA",
          "POSTAL ANEXO",
          "INDEPENDENCIA",
          "SANTA MARIA NATIVITAS",
          "TLACOQUEMECATL",
          "SANTA CRUZ ATOYAC",
          "PORTALES ANEXO",
          "LAGUNILLA ROPA Y TELAS",
          "LAGUNILLA ZONA",
          "LAGUNILLA VARIOS",
          "LAGUNILLA SAN CAMILITO",
          "MARTINEZ DE LA TORRE (ANEXO)",
          "SAN COSME",
          "MARTINEZ DE LA TORRE (ZONA)",
          "JUAREZ",
          "SAN LUCAS",
          "DOS DE ABRIL",
          "INSURGENTES",
          "TEPITO ZONA",
          "ABELARDO L. RODRIGUEZ (ZONA)",
          "BEETHOVEN",
          "HIDALGO ZONA",
          "LA DALIA",
          "MELCHOR OCAMPO",
          "SAN JOAQUIN ZONA (PERALVILLO)",
          "TEPITO FIERROS VIEJOS",
          "MORELIA",
          "BUGAMBILIA",
          "TEPITO VARIOS",
          "TEPITO ROPA Y TELAS (granaditas)",
          "PEQUEÑO COMERCIO",
          "PALACIO DE LAS FLORES",
          "SAN JUAN PUGIBET",
          "SAN JUAN ARCOS DE BELEM",
          "ABELARDO L. RODRIGUEZ (CORONAS)",
          "SAN JUAN CURIOSIDADES",
          "HIDALGO ANEXO",
          "ISABEL LA CATOLICA",
          "CUAUHTEMOC",
          "MERCED MIXCALCO",
          "SAN JOAQUIN (ANEXO)",
          "FRANCISCO SARABIA",
          "MICHOACAN",
          "PAULINO  NAVARRO",
          "ANAHUAC ZONA",
          "TACUBA",
          "TACUBAYA",
          "GRANADA",
          "ANAHUAC ANEXO",
          "PLUTARCO ELIAS CALLES       (EL CHORRITO)",
          "MONTE ATHOS",
          "DIECIOCHO DE MARZO",
          "LAGO GARDA",
          "ZACATITO",
          "ARGENTINA",
          "ESCANDON",
          "ING. GONZALO PEÑA MANTEROLA (CARTAGENA)",
          "AMERICA",
          "LAGO GASCASONICA",
          "PRADO NORTE",
          "PRADO SUR",
          "SAN ISIDRO ZONA",
          "SAN ISIDRO ANEXO",
          "JAMAICA ZONA",
          "MOCTEZUMA",
          "UNIDAD RASTRO",
          "ROMERO RUBIO",
          "MERCED AMPUDIA",
          "JAMAICA COMIDAS",
          "PUEBLA",
          "MERCED NAVE MENOR",
          "MERCED NAVE MAYOR",
          "MERCED COMIDAS",
          "MERCED FLORES",
          "MERCED ANEXO",
          "SONORA",
          "SONORA ANEXO",
          "ALVARO OBREGON",
          "IGNACIO ZARAGOZA",
          "PENSADOR MEXICANO",
          "JARDIN BALBUENA",
          "MORELOS",
          "VEINTE DE ABRIL",
          "FEDERAL",
          "AVIACION CIVIL",
          "AQUILES SERDAN",
          "EMILIO CARRANZA",
          "ADOLFO LOPEZ MATEOS",
          "PLAN DE AYALA CARACOL",
          "JAMAICA NUEVO",
          "PANTITLAN ARENAL",
          "UNIDAD KENNEDY",
          "VALLE GOMEZ",
          "CALZADO LA CENTRAL",
          "SANTA JUANITA",
          "ARENAL 4a SECCION",
          "PEÑON DE LOS BAÑOS",
          "LIC. OCTAVIO SENTIES",
          "MINILLAS",
          "NUEVO SAN LAZARO",
          "DEL PARQUE",
          "LUIS PRECIADO DE LA TORRE",
          "MERCED BANQUETON",
          "PASAJE CHAPULTEPEC",
          "COLIMA",
          "LA ESTACION",
          "REYNOSA TAMAULIPAS",
          "CONTADERO",
          "EMILIANO ZAPATA",
          "24 DE SEPTIEMBRE",
          "VEINTICUATRO DE FEBRERO",
          "MERCED PASO A DESNIVEL",
          "MERCED PASO A DESNIVEL GOMEZ PEDRAZA",
          "PROVIDENCIA"
         ],
         "type": "scatter3d",
         "x": [
          0.5849445922845036,
          0.5076831506089116,
          0.5021782293272464,
          0.5711377036439068,
          0.5348516370622487,
          0.507583781304897,
          0.5089974233344385,
          0.5066216091382961,
          0.5041041266495859,
          0.5169281899669436,
          0.5026998392789066,
          0.5534915098662119,
          0.5532423733977355,
          0.5340416309758569,
          0.5563652561407764,
          0.5095042077451462,
          0.5008630629807067,
          0.5454268354194906,
          0.4668315624705245,
          0.3961673017039993,
          0.4050550244742668,
          0.37801937967665483,
          0.39925725460882006,
          0.4132647319756469,
          0.38119542998668665,
          0.3882280607750214,
          0.41389568514671315,
          0.3982929005239585,
          0.40909700924028,
          0.38282954204085273,
          0.4046862681941826,
          0.40620056612585875,
          0.3603936475170324,
          0.359433059357438,
          0.35096918904132623,
          0.392539208747622,
          0.4075470100623473,
          0.3842025859475156,
          0.36554637669196294,
          0.4829065771630073,
          0.5203038082870264,
          0.4861787267727546,
          0.528250479933742,
          0.503424028941958,
          0.5895217015345954,
          0.5266625467759185,
          0.46856070876050027,
          0.5070275210779633,
          0.4736497658391807,
          0.48883679197965296,
          0.2984667184499547,
          0.4745617702159302,
          0.48943159484578813,
          0.48448764309056624,
          0.40849834578786265,
          0.5568178997533373,
          0.489679421913789,
          0.4613214741087391,
          0.49170278849284543,
          0.4556089638588868,
          0.5063455400313579,
          0.4906806022323449,
          0.5378923977350668,
          0.4584933754349814,
          0.31804766800689266,
          0.46797813425842905,
          0.5527974728092468,
          0.5139338189732068,
          0.4386316068259809,
          0.507440449699232,
          0.49955613579486197,
          0.49961540751234523,
          0.4509956341623839,
          0.47908665535763334,
          0.4357436920908774,
          0.44139302203307323,
          0.4826951686883801,
          0.4377317957820359,
          0.4576629332743357,
          0.4790654803571218,
          0.48326312115283393,
          0.4459781480814335,
          0.4767663841829798,
          0.43012412982135434,
          0.4156505737010374,
          0.4436220852456632,
          0.4988368401007629,
          0.3066654208152542,
          0.47888444693095467,
          0.5394637503204605,
          0.4854174217871078,
          0.5144007532726901,
          0.41726763044352005,
          0.41995194708754513,
          0.42530310555240003,
          0.41246180421405815,
          0.4217737749207591,
          0.4214786606452336,
          0.4294878931637608,
          0.4413293712992869,
          0.39502658128830764,
          0.4293259523101562,
          0.41346898910068364,
          0.38976178600062394,
          0.38731193521567175,
          0.39575999084268,
          0.41313707365769725,
          0.42966626207459074,
          0.3868952012123399,
          0.3194749423797602,
          0.4239235875031384,
          0.41587298062536443,
          0.3845187080221712,
          0.417617230297555,
          0.37181508654042905,
          0.4042574674907064,
          0.33604040047177663,
          0.34558245229517726,
          0.36095395969789856,
          0.4075319119969468,
          0.3393850001361182,
          0.37322044846223046,
          0.37379981412529345,
          0.3554071741445142,
          0.39547111065619356,
          0.33644763631393715,
          0.3365005661340326,
          0.4381866187902096,
          0.4338681186680391,
          0.43089350088557266,
          0.4538845200627581,
          0.4377490022400878,
          0.22204153677109995,
          0.22460854027417607,
          0.24639281024949514,
          0.20131067326408633,
          0.23585553937053633,
          0,
          0.19722963519030295,
          0.22248718209070553,
          0.07648448564765808,
          0.4593298108989296,
          0.46242383769508405,
          0.45914332548539444,
          0.43881029621506523,
          0.48855249948073104,
          0.4245819113574934,
          0.5057545709640253,
          0.4780193392476506,
          0.4743529972192493,
          0.4806383611160829,
          0.43480064854758826,
          0.45637127880261286,
          0.4842286000472407,
          0.48013643088079255,
          0.4713634983637625,
          0.4855988187060741,
          0.2555904964004206,
          0.1903330357669418,
          0.22473552018802068,
          0.28662481870403855,
          0.27949383469216454,
          0.25262487410551704,
          0.3032213657779921,
          0.31020229769898083,
          0.2895178117432602,
          0.29205340185614237,
          0.24792945025336705,
          0.30347514671799664,
          0.24289063864463276,
          0.26730969081872835,
          0.17504102917110592,
          0.3054092151128799,
          0.2516817803924587,
          0.24090444925289675,
          0.3770140736699629,
          0.36411882440486515,
          0.36156026964764143,
          0.36114846645868015,
          0.37540224398223,
          0.39941330360608973,
          0.38847068050262906,
          0.3496439825480692,
          0.3725186251575334,
          0.3859919082641781,
          0.41234554881768937,
          0.4206653871773208,
          0.3454719887415757,
          0.37207230225774485,
          0.34201674658042647,
          0.4137338883963841,
          0.35797063908036153,
          0.3691250235633495,
          0.422953732140235,
          0.4025376328342815,
          0.36155029292605206,
          0.326274224943227,
          0.24856393202912058,
          0.28397530050274755,
          0.43172835184575925,
          0.27843549831670605,
          0.32679563767694386,
          0.3081292131734096,
          0.32303771861637937,
          0.3350849753988937,
          0.2729205247666813,
          0.46056769632537226,
          0.42033842970243557,
          0.4857342674775656,
          0.4632923679266764,
          0.4640415784107603,
          0.4381629531978932,
          0.5011201864516976,
          0.49648747086582173,
          0.4723483919301396,
          0.4506696237297668,
          0.4232408356205873,
          0.4455595151756713,
          0.4318249240901556,
          0.4448410656030771,
          0.42988755282746166,
          0.4217943482104168,
          0.5906221276299011,
          0.5260414396768113,
          0.4947180746196541,
          0.4598773906429165,
          0.5027135960726328,
          0.5389766710879647,
          0.5373092058328657,
          0.5114473647968611,
          0.4667957756876711,
          0.4625527509105077,
          0.4864975560475123,
          0.5156898435463971,
          0.47001720702038324,
          0.5634028381521643,
          0.5678391461806311,
          0.5289663378928715,
          0.5160013518692003,
          0.5292575998851713,
          0.5357986088209746,
          0.4554153330331068,
          0.4953737857152417,
          0.5215410632403272,
          0.5398371256632412,
          0.4444307662743025,
          0.4653874314502797,
          0.49429926208787445,
          0.4962418869143334,
          0.4596254461118854,
          0.46942871073942527,
          0.49368724237777134,
          0.4481221608773322,
          0.47238364864461435,
          0.5599918203986564,
          0.5010743941959316,
          0.4745193397319104,
          0.4567102381001303,
          0.43870936828618423,
          0.5266634837951275,
          0.6618501446937078,
          0.5233218669174601,
          0.5076199418706079,
          0.5090054424253303,
          0.5132082998136448,
          0.49587338179883916,
          0.43448368789954267,
          0.5315477280164236,
          0.5344099574619754,
          0.6328344753370362,
          0.48331409579705353,
          0.5531614001462151,
          0.509601220925056,
          0.5515633206430114,
          0.5083320794231012,
          0.4872834891580271,
          0.5060664027005585,
          0.5048382920438109,
          0.4925225795089486,
          0.48539790060547655,
          0.5341167124958939,
          0.5106508126078873,
          0.44958231475914195,
          0.4226174900800081,
          0.42712983492410417,
          0.5148614702483267,
          1,
          0.457796658266377,
          0.4438130675357891,
          0.4529636210509318,
          0.4813171546172349,
          0.4622846892778703,
          0.4428423502401755,
          0.45456368851078194,
          0.4363043415059606,
          0.4227944340586579,
          0.5555792038995854,
          0.45027763634742857,
          0.4142989951590291,
          0.40483942322722216,
          0.4514222658394304,
          0.45492889489380983,
          0.4184923547846495,
          0.40541130054625024,
          0.593406185457226,
          0.4050852497265997,
          0.44222349980557196,
          0.47835058608926045,
          0.46214946302737897,
          0.4463988171877734,
          0.41136965223941285,
          0.4262354230797882,
          0.43665363949309594,
          0.4719197759691498,
          0.4213708991633111,
          0.4325769622899223,
          0.4376845217823267,
          0.4896752038558114,
          0.4694466353682497,
          0.46230962015995336,
          0.3052649384510975,
          0.545965801678831,
          0.5115271089183966,
          0.48791309338576855,
          0.4315339983030456,
          0.40449732127710786,
          0.43781193280334524,
          0.4362334648714506,
          0.4598438965869609
         ],
         "y": [
          0.24734446559146542,
          0.16022701892686977,
          0.2011856922601595,
          0.2891243877932093,
          0.15543732562396886,
          0.18227447597975968,
          0.18650839719113063,
          0.1643880317026622,
          0.17038543229403438,
          0.166799143815942,
          0.17732972861486782,
          0.15924984884040372,
          0.14022934494688377,
          0.1307568883484158,
          0.1446542648167329,
          0.18864089408202916,
          0.15537733385166622,
          0.15604321399043874,
          0.20765392216889697,
          0.16814725992815419,
          0.16042244261890323,
          0.138919072065606,
          0.147380246522296,
          0.15702858131670197,
          0.14676623868229016,
          0.12315606032802177,
          0.15046748427777448,
          0.18583529764357584,
          0.14477450672188275,
          0.1486895094739144,
          0.12291209097136373,
          0.11928482118575173,
          0.1669120846176011,
          0.15430902702581442,
          0.14846001004920883,
          0.09833658930232314,
          0.10425480591590065,
          0.14235928412713025,
          0.16917356334661712,
          0.20342821528735422,
          0.02192670511298503,
          0.01306404715013404,
          0.037503362331747,
          0.013069034061477941,
          0.3860308691464146,
          0.2786333656083537,
          0.2371975730878219,
          0.2828389617448846,
          0.22159486687138819,
          0.27591916703959046,
          0.9094319807460236,
          0.2431023390300747,
          0.2638436865327088,
          0.26168092422369155,
          0.15014405179068852,
          0.2276926662172291,
          0.24369602531629622,
          0.26112314920012686,
          0.2544454852787078,
          0.24850913645236827,
          0.30647050419596733,
          0.2018355112509319,
          0.2552607039201805,
          0.24739601972762235,
          0.9307010760538333,
          0.23610667593752155,
          0.19229777038137008,
          0.21733483742319754,
          0.23404826327269368,
          0.2108989488261082,
          0.21958746521309455,
          0.18323196579697257,
          0.2655385158440261,
          0.2867207568153162,
          0.2351329230713778,
          0.27075029649845705,
          0.21709468135710555,
          0.25804239409436597,
          0.2540312661915515,
          0.22861894395279203,
          0.27505319615233514,
          0.21490945814652973,
          0.21030764088670006,
          0.2616932689181741,
          0.25583008804689056,
          0.26488576691546845,
          0.21812442021988623,
          0.8518144734282024,
          0.24438848281510306,
          0.20367659508363606,
          0.20940704020846004,
          0.18209583848157235,
          0.17493368205555895,
          0.27051803934035124,
          0.1819589261473208,
          0.27047665978747076,
          0.21655953754734314,
          0.2403343745972356,
          0.2339459017068388,
          0.2186067687801345,
          0.25641280837758784,
          0.18028593926927097,
          0.18527497857989408,
          0.24541859342106254,
          0.20600452297438313,
          0.20723183104730236,
          0.18131702873216773,
          0.27556795463221173,
          0.21856989916127487,
          0.2531114414408545,
          0.1888444042992404,
          0.19888518804143926,
          0.1844830204160668,
          0.2212471216412085,
          0.17476046843593745,
          0.17803045050249003,
          0.2455249140318796,
          0.26028468254302656,
          0.2129413137825188,
          0.1949102270026453,
          0.21350465149539163,
          0.26125931926214435,
          0.21511634534144336,
          0.23455924484653407,
          0.19338294042155793,
          0.2140210175885469,
          0.21646551800170122,
          0.04951160182839803,
          0.03300651341896019,
          0.05250628046416353,
          0.040566724500946255,
          0.046712755489009244,
          0.22187739090060327,
          0.16048258848328642,
          0.12306590290935042,
          0.2312924449657928,
          0.14484243696756235,
          0.8618676180012814,
          0.18582670278564897,
          0.22213829728815632,
          0.8180531131619806,
          0.11752819698661865,
          0.15141141713038272,
          0.11548921691615793,
          0.10601147281915245,
          0.13573110686599513,
          0.0962133874330768,
          0.0839111900046976,
          0.10247294263313753,
          0.11585536385490701,
          0.11019586979192053,
          0.07775810161346303,
          0.056714968406822414,
          0.05510745576885548,
          0.10115475017884386,
          0.06254828047339886,
          0.04377500928740455,
          0.2514257774629399,
          0.2558332779684507,
          0.22848504421731294,
          0.21116844417457353,
          0.23708720918970233,
          0.23165480286016343,
          0.19921454527492458,
          0.19184232134257137,
          0.19999406147144527,
          0.18850948401244275,
          0.2732027232854152,
          0.19750680882272048,
          0.23399020620479902,
          0.24347918959584688,
          0.22930309134522217,
          0.2218645150261594,
          0.2418152476309221,
          0.21997022460507173,
          0.1365349893145941,
          0.10635504470950471,
          0.152439025894354,
          0.12491637994404489,
          0.07503796222714146,
          0.0982281037472514,
          0.09026376176709526,
          0.07661779970643956,
          0.10285037500036948,
          0.08334940769557338,
          0.03583669169345227,
          0.02894303341883095,
          0.13609475333229282,
          0.10929243689450656,
          0.159158375962581,
          0.04992123970663817,
          0.08559680875242202,
          0.08511160972404275,
          0.05226423886179296,
          0.037196790304785426,
          0.2231616565303754,
          0.1968997279461872,
          0.22730143388486848,
          0.18994570120727905,
          0.324945967411159,
          0.15467608430376337,
          0.13749237189434882,
          0.13217451276596626,
          0.12952386933713222,
          0.11242186084180515,
          0.15812386546947646,
          0.19691353500037834,
          0.16904539599595597,
          0.25617618993380586,
          0.18291731012898702,
          0.18677435111438775,
          0.18773575004186466,
          0.19485403810371818,
          0.2138021872056015,
          0.14844080076603028,
          0.19194507086048465,
          0.15326541075541886,
          0.17949543469501128,
          0.15804316533789778,
          0.132745473456856,
          0.1396525812630459,
          0.16479224184560093,
          0.37399183019643256,
          0.28327207456186393,
          0.23580181048176888,
          0.18084408067982066,
          0.22847441170122337,
          0.24881839294735236,
          0.2806704409285529,
          0.23659450079844074,
          0.2174486497382437,
          0.20302783912989317,
          0.18220670435168343,
          0.2802680443830481,
          0.23053204959720996,
          0.3351700878863155,
          0.3425572005273533,
          0.23387111682130318,
          0.2335845152936942,
          0.26636527570309115,
          0.3073317481044981,
          0.17579913355784005,
          0.19528480435743772,
          0.2884803596214025,
          0.3141858516082562,
          0.17994561053722863,
          0.17765388905476567,
          0.2289070014996548,
          0.2372349647816733,
          0.20432081131138446,
          0.18881289872999965,
          0.23556089244182002,
          0.18641391449779937,
          0.1542610037122778,
          0.3561523790694062,
          0.22661118559858684,
          0.20114160193737624,
          0.13739720686806722,
          0.17913957090922428,
          0.2200186039196148,
          0.37295781761354263,
          0.21019552155899324,
          0.1474351727632705,
          0.19189526924675374,
          0.18184962929304663,
          0.104762468957991,
          0.26755370508618154,
          0.19170671719690022,
          0.1456705367685412,
          0.30369570056405515,
          0.16859501220990197,
          0.24644111492200063,
          0.16125881809776246,
          0.19929683251860528,
          0.11940885139573376,
          0.10614041489595898,
          0.0997902883687204,
          0.09641729221510145,
          0.27592880924257257,
          0.3011207449996567,
          0.332711992387815,
          0.324998772088855,
          0.20539580267563912,
          0.1811303674113357,
          0.2569318595317608,
          0.30186574804316946,
          1,
          0.21797079158142824,
          0.1943702961054946,
          0.20887725927204892,
          0.25186862999419357,
          0.22509933809790567,
          0.21343431188689757,
          0.27964341287968825,
          0.23999792108102017,
          0.21623224864387514,
          0.3646870372968744,
          0.24029549634961372,
          0.22016899332429515,
          0.23159054831502654,
          0.24877200043893571,
          0.2004320710400719,
          0.2536668273748496,
          0.23580556114389511,
          0.4263161255238497,
          0.24903404213134145,
          0.21785076344015938,
          0.2216701178533181,
          0.2201295663854553,
          0.207059163367267,
          0.2637247656321481,
          0.22231969418447134,
          0.19614859480840527,
          0.22355189820797297,
          0.18282506004160384,
          0.1974703743332714,
          0.20570527165347025,
          0.258804065175239,
          0.13097879488437536,
          0.1401785943708979,
          0.1987275444101507,
          0.18452279028776228,
          0,
          0.25245085721656574,
          0.25008291093186186,
          0.03426693261777847,
          0.1891611194958573,
          0.18244768620300508,
          0.26758765358796605
         ],
         "z": [
          0.4513015713739516,
          0.39606248608081196,
          0.4364059964573393,
          0.491583354316036,
          0.39256406551309597,
          0.41753633729044015,
          0.42392353768015034,
          0.4105294802760193,
          0.4126936941564726,
          0.40435483532357647,
          0.4246433093467609,
          0.3857706781972186,
          0.37825280646416615,
          0.3762398810868438,
          0.3749484373342199,
          0.42483362773737277,
          0.39775905579656656,
          0.38376105939687544,
          0.48514873317833274,
          0.46761482367050167,
          0.47867724538368894,
          0.4593441961499758,
          0.4577360587022303,
          0.4569744009089639,
          0.4647671476858958,
          0.4563858508848643,
          0.46667101144034023,
          0.49021592609864717,
          0.463391175151126,
          0.4618352955772801,
          0.45034702200584503,
          0.4462393612983066,
          0.4941543636246049,
          0.48709351510802706,
          0.4830303416787735,
          0.4334880575069752,
          0.4359451546697569,
          0.46206052445791873,
          0.5111147833280629,
          0.5076606213531963,
          0.3333030030765773,
          0.3362528637751182,
          0.34553529256077753,
          0.33303037013791337,
          0.5578465344850263,
          0.48947276240948867,
          0.4641211200800436,
          0.5013193626352965,
          0.4506951089917153,
          0.4995657501044116,
          0.04892189916271428,
          0.4659085070208853,
          0.47513552921926694,
          0.4760487992242011,
          0.4522877693427003,
          0.4293001862837418,
          0.46230546497242675,
          0.48569195214910643,
          0.4720582442573173,
          0.48321480770470315,
          0.5053418705126074,
          0.43557683328582986,
          0.4693320934885406,
          0.4839849012089878,
          0.04722648205148583,
          0.4694869144779005,
          0.4111014616708211,
          0.4295439794852018,
          0.46913093747953066,
          0.43392149025091575,
          0.4368343306018273,
          0.4217947372064909,
          0.4934075187078751,
          0.4992878904734123,
          0.47776961816245195,
          0.5056091588458957,
          0.4378749344176886,
          0.4869899623518126,
          0.4836133516753647,
          0.4562579128762324,
          0.4935564214178583,
          0.4627824348734955,
          0.4475343377893553,
          0.5039920286412966,
          0.5071814255770256,
          0.5067259806530627,
          0.4589995409860015,
          0,
          0.46854980323978224,
          0.4144030864771392,
          0.4634578987476134,
          0.4173261792568302,
          0.4657567552672224,
          0.5292344367309625,
          0.4630739849719135,
          0.5279652933691218,
          0.4874057897143268,
          0.5054208720882553,
          0.49762310670410886,
          0.4818586196527279,
          0.5240900081725443,
          0.4560179745986074,
          0.4695401838776639,
          0.5179718808019109,
          0.4852403696266451,
          0.48881156885826393,
          0.4683484703879607,
          0.5376307087648926,
          0.5032019082351917,
          0.5470415796007272,
          0.4725443720139428,
          0.48395666820396355,
          0.4839323765765714,
          0.5014795476723958,
          0.48433200640446444,
          0.46750175529387084,
          0.5345409415084048,
          0.537512922972132,
          0.5086967071371875,
          0.48130387493975935,
          0.5303369586953217,
          0.5324668165111885,
          0.5039392362393904,
          0.5310522172161748,
          0.4838404303333839,
          0.5244024717562814,
          0.5282002969585733,
          0.3848096553895525,
          0.373096600103279,
          0.38807582855572936,
          0.38262424343029555,
          0.3945653232483003,
          0.5932273514328131,
          0.5455963456568523,
          0.5179695902199879,
          0.5977090997916906,
          0.5412522468559567,
          0.16081557232704657,
          0.5685280607392642,
          0.5931180502155362,
          0.10455378666478282,
          0.40833031800270037,
          0.4458101010655502,
          0.403053671638395,
          0.4143564503165468,
          0.41472191745063014,
          0.40665670667087517,
          0.38525518791501157,
          0.39121070343856834,
          0.40057505350977896,
          0.4062189688391725,
          0.3894313699652493,
          0.37898414120864954,
          0.3689542826827541,
          0.39550713901937656,
          0.39229000393052016,
          0.3756467847562894,
          0.582283334047704,
          0.6240625693680976,
          0.5917161765099105,
          0.5450256341921315,
          0.5705070065681912,
          0.5710814527310324,
          0.5345653627574182,
          0.5311491827125193,
          0.5343693278733848,
          0.5317951036835995,
          0.5951842547782218,
          0.5341746621811142,
          0.579240816653426,
          0.5768310038611728,
          0.6094639234565351,
          0.5461024091089516,
          0.5817760091525896,
          0.5707253207833889,
          0.4381041513321979,
          0.45468290536276373,
          0.4885210531165878,
          0.46545252366785206,
          0.4286710729628079,
          0.43683794933921033,
          0.43329209352932285,
          0.44571264752163425,
          0.44943177912555515,
          0.43093930761817806,
          0.399732071132598,
          0.3866399470068456,
          0.4814516213029481,
          0.46792817954304866,
          0.49937944959722813,
          0.4113791926626716,
          0.44598151269875147,
          0.44633873108629646,
          0.40047217838919064,
          0.4063010497853367,
          0.545811804486364,
          0.5362146369219417,
          0.5808942352303187,
          0.548253470219178,
          0.6156489278840307,
          0.5247629334693842,
          0.49581097593587686,
          0.49272350845586455,
          0.49293755123975685,
          0.4769171305987935,
          0.5244259339770317,
          0.46537576449008294,
          0.44659505668500404,
          0.5134157404208524,
          0.45513784202486823,
          0.45126644918045844,
          0.4616523341919583,
          0.4607243023511979,
          0.4694318404436128,
          0.4237036802286186,
          0.46234525326438103,
          0.43620302778775516,
          0.45675092230312325,
          0.44103467253145606,
          0.42435423981344067,
          0.4354366397962568,
          0.4479600612354434,
          0.5641036788744547,
          0.5022939132336793,
          0.47054684650820255,
          0.4326134135838682,
          0.4623091283760837,
          0.477190662023377,
          0.49816301323669937,
          0.47443295105877753,
          0.4659714273583564,
          0.42858504053429775,
          0.4352022489808896,
          0.5005967285489136,
          0.4598559465606007,
          0.5322937718550509,
          0.5530603766618444,
          0.4606965536717765,
          0.4806156602765166,
          0.48226797776732616,
          0.5180344368210367,
          0.4420134941994328,
          0.43792125133561477,
          0.5059051493681698,
          0.5249634007854622,
          0.4391622731196873,
          0.44019866299497423,
          0.4685309308433161,
          0.4757196172797282,
          0.451558072517941,
          0.4481937096831182,
          0.4799221693594967,
          0.4514704902707067,
          0.4149403005842908,
          0.5583584335891306,
          0.4555630545495459,
          0.43357256765579155,
          0.40232576022676597,
          0.45656631593186137,
          0.45387756409290014,
          0.5468387481797305,
          0.46253538961549384,
          0.40195233121837454,
          0.43713034131821055,
          0.43748508961331545,
          0.3770269693834827,
          0.5187780858137168,
          0.42660716121756,
          0.3917155616093657,
          0.5013865306516283,
          0.4339159418301847,
          0.48598818301259367,
          0.4209958478812589,
          0.42841750147692576,
          0.38617986948331207,
          0.3730506861503234,
          0.36925171079893687,
          0.36683823360764556,
          0.5193812949966704,
          0.5285471410971463,
          0.5402240962982032,
          0.5397193819791916,
          0.45478594727677235,
          0.45169684501873436,
          0.5115472828257672,
          0.5252661688754711,
          1,
          0.46734325421621903,
          0.45137979355716784,
          0.4619743737554785,
          0.4922520983850038,
          0.4743007684550397,
          0.4747862350768556,
          0.5239663099486147,
          0.48514941530478833,
          0.47537306998689116,
          0.5646917063800473,
          0.5006787123592862,
          0.4804749116279372,
          0.4940643635202013,
          0.489619656651141,
          0.46041624008133447,
          0.509254483037818,
          0.4951945490810404,
          0.6175830377974397,
          0.5047874940719448,
          0.4769493461783544,
          0.4630276930422616,
          0.46817416379925125,
          0.46549763934097593,
          0.5215327292515188,
          0.48478539441498253,
          0.45538437118230535,
          0.47611775561703484,
          0.4638368684677027,
          0.4536280347882217,
          0.47518177961569125,
          0.5009566765576386,
          0.40857018830158975,
          0.40983066566503246,
          0.5449513965464947,
          0.40795619211316264,
          0.33249480640646056,
          0.47979042656590326,
          0.490964977528521,
          0.4029641309394979,
          0.44836130276521,
          0.44997024483757975,
          0.49942149312188955
         ]
        }
       ],
       "layout": {
        "legend": {
         "bgcolor": "#F5F6F9",
         "font": {
          "color": "#4D5663"
         }
        },
        "paper_bgcolor": "#F5F6F9",
        "plot_bgcolor": "#F5F6F9",
        "scene": {
         "xaxis": {
          "gridcolor": "#9499A3",
          "showgrid": true,
          "tickfont": {
           "color": "#4D5663"
          },
          "title": {
           "font": {
            "color": "#4D5663"
           },
           "text": ""
          },
          "zerolinecolor": "#9499A3"
         },
         "yaxis": {
          "gridcolor": "#9499A3",
          "showgrid": true,
          "tickfont": {
           "color": "#4D5663"
          },
          "title": {
           "font": {
            "color": "#4D5663"
           },
           "text": ""
          },
          "zerolinecolor": "#9499A3"
         },
         "zaxis": {
          "gridcolor": "#9499A3",
          "showgrid": true,
          "tickfont": {
           "color": "#4D5663"
          },
          "title": {
           "font": {
            "color": "#4D5663"
           },
           "text": ""
          },
          "zerolinecolor": "#9499A3"
         }
        },
        "template": {
         "data": {
          "bar": [
           {
            "error_x": {
             "color": "#2a3f5f"
            },
            "error_y": {
             "color": "#2a3f5f"
            },
            "marker": {
             "line": {
              "color": "#E5ECF6",
              "width": 0.5
             },
             "pattern": {
              "fillmode": "overlay",
              "size": 10,
              "solidity": 0.2
             }
            },
            "type": "bar"
           }
          ],
          "barpolar": [
           {
            "marker": {
             "line": {
              "color": "#E5ECF6",
              "width": 0.5
             },
             "pattern": {
              "fillmode": "overlay",
              "size": 10,
              "solidity": 0.2
             }
            },
            "type": "barpolar"
           }
          ],
          "carpet": [
           {
            "aaxis": {
             "endlinecolor": "#2a3f5f",
             "gridcolor": "white",
             "linecolor": "white",
             "minorgridcolor": "white",
             "startlinecolor": "#2a3f5f"
            },
            "baxis": {
             "endlinecolor": "#2a3f5f",
             "gridcolor": "white",
             "linecolor": "white",
             "minorgridcolor": "white",
             "startlinecolor": "#2a3f5f"
            },
            "type": "carpet"
           }
          ],
          "choropleth": [
           {
            "colorbar": {
             "outlinewidth": 0,
             "ticks": ""
            },
            "type": "choropleth"
           }
          ],
          "contour": [
           {
            "colorbar": {
             "outlinewidth": 0,
             "ticks": ""
            },
            "colorscale": [
             [
              0,
              "#0d0887"
             ],
             [
              0.1111111111111111,
              "#46039f"
             ],
             [
              0.2222222222222222,
              "#7201a8"
             ],
             [
              0.3333333333333333,
              "#9c179e"
             ],
             [
              0.4444444444444444,
              "#bd3786"
             ],
             [
              0.5555555555555556,
              "#d8576b"
             ],
             [
              0.6666666666666666,
              "#ed7953"
             ],
             [
              0.7777777777777778,
              "#fb9f3a"
             ],
             [
              0.8888888888888888,
              "#fdca26"
             ],
             [
              1,
              "#f0f921"
             ]
            ],
            "type": "contour"
           }
          ],
          "contourcarpet": [
           {
            "colorbar": {
             "outlinewidth": 0,
             "ticks": ""
            },
            "type": "contourcarpet"
           }
          ],
          "heatmap": [
           {
            "colorbar": {
             "outlinewidth": 0,
             "ticks": ""
            },
            "colorscale": [
             [
              0,
              "#0d0887"
             ],
             [
              0.1111111111111111,
              "#46039f"
             ],
             [
              0.2222222222222222,
              "#7201a8"
             ],
             [
              0.3333333333333333,
              "#9c179e"
             ],
             [
              0.4444444444444444,
              "#bd3786"
             ],
             [
              0.5555555555555556,
              "#d8576b"
             ],
             [
              0.6666666666666666,
              "#ed7953"
             ],
             [
              0.7777777777777778,
              "#fb9f3a"
             ],
             [
              0.8888888888888888,
              "#fdca26"
             ],
             [
              1,
              "#f0f921"
             ]
            ],
            "type": "heatmap"
           }
          ],
          "heatmapgl": [
           {
            "colorbar": {
             "outlinewidth": 0,
             "ticks": ""
            },
            "colorscale": [
             [
              0,
              "#0d0887"
             ],
             [
              0.1111111111111111,
              "#46039f"
             ],
             [
              0.2222222222222222,
              "#7201a8"
             ],
             [
              0.3333333333333333,
              "#9c179e"
             ],
             [
              0.4444444444444444,
              "#bd3786"
             ],
             [
              0.5555555555555556,
              "#d8576b"
             ],
             [
              0.6666666666666666,
              "#ed7953"
             ],
             [
              0.7777777777777778,
              "#fb9f3a"
             ],
             [
              0.8888888888888888,
              "#fdca26"
             ],
             [
              1,
              "#f0f921"
             ]
            ],
            "type": "heatmapgl"
           }
          ],
          "histogram": [
           {
            "marker": {
             "pattern": {
              "fillmode": "overlay",
              "size": 10,
              "solidity": 0.2
             }
            },
            "type": "histogram"
           }
          ],
          "histogram2d": [
           {
            "colorbar": {
             "outlinewidth": 0,
             "ticks": ""
            },
            "colorscale": [
             [
              0,
              "#0d0887"
             ],
             [
              0.1111111111111111,
              "#46039f"
             ],
             [
              0.2222222222222222,
              "#7201a8"
             ],
             [
              0.3333333333333333,
              "#9c179e"
             ],
             [
              0.4444444444444444,
              "#bd3786"
             ],
             [
              0.5555555555555556,
              "#d8576b"
             ],
             [
              0.6666666666666666,
              "#ed7953"
             ],
             [
              0.7777777777777778,
              "#fb9f3a"
             ],
             [
              0.8888888888888888,
              "#fdca26"
             ],
             [
              1,
              "#f0f921"
             ]
            ],
            "type": "histogram2d"
           }
          ],
          "histogram2dcontour": [
           {
            "colorbar": {
             "outlinewidth": 0,
             "ticks": ""
            },
            "colorscale": [
             [
              0,
              "#0d0887"
             ],
             [
              0.1111111111111111,
              "#46039f"
             ],
             [
              0.2222222222222222,
              "#7201a8"
             ],
             [
              0.3333333333333333,
              "#9c179e"
             ],
             [
              0.4444444444444444,
              "#bd3786"
             ],
             [
              0.5555555555555556,
              "#d8576b"
             ],
             [
              0.6666666666666666,
              "#ed7953"
             ],
             [
              0.7777777777777778,
              "#fb9f3a"
             ],
             [
              0.8888888888888888,
              "#fdca26"
             ],
             [
              1,
              "#f0f921"
             ]
            ],
            "type": "histogram2dcontour"
           }
          ],
          "mesh3d": [
           {
            "colorbar": {
             "outlinewidth": 0,
             "ticks": ""
            },
            "type": "mesh3d"
           }
          ],
          "parcoords": [
           {
            "line": {
             "colorbar": {
              "outlinewidth": 0,
              "ticks": ""
             }
            },
            "type": "parcoords"
           }
          ],
          "pie": [
           {
            "automargin": true,
            "type": "pie"
           }
          ],
          "scatter": [
           {
            "fillpattern": {
             "fillmode": "overlay",
             "size": 10,
             "solidity": 0.2
            },
            "type": "scatter"
           }
          ],
          "scatter3d": [
           {
            "line": {
             "colorbar": {
              "outlinewidth": 0,
              "ticks": ""
             }
            },
            "marker": {
             "colorbar": {
              "outlinewidth": 0,
              "ticks": ""
             }
            },
            "type": "scatter3d"
           }
          ],
          "scattercarpet": [
           {
            "marker": {
             "colorbar": {
              "outlinewidth": 0,
              "ticks": ""
             }
            },
            "type": "scattercarpet"
           }
          ],
          "scattergeo": [
           {
            "marker": {
             "colorbar": {
              "outlinewidth": 0,
              "ticks": ""
             }
            },
            "type": "scattergeo"
           }
          ],
          "scattergl": [
           {
            "marker": {
             "colorbar": {
              "outlinewidth": 0,
              "ticks": ""
             }
            },
            "type": "scattergl"
           }
          ],
          "scattermapbox": [
           {
            "marker": {
             "colorbar": {
              "outlinewidth": 0,
              "ticks": ""
             }
            },
            "type": "scattermapbox"
           }
          ],
          "scatterpolar": [
           {
            "marker": {
             "colorbar": {
              "outlinewidth": 0,
              "ticks": ""
             }
            },
            "type": "scatterpolar"
           }
          ],
          "scatterpolargl": [
           {
            "marker": {
             "colorbar": {
              "outlinewidth": 0,
              "ticks": ""
             }
            },
            "type": "scatterpolargl"
           }
          ],
          "scatterternary": [
           {
            "marker": {
             "colorbar": {
              "outlinewidth": 0,
              "ticks": ""
             }
            },
            "type": "scatterternary"
           }
          ],
          "surface": [
           {
            "colorbar": {
             "outlinewidth": 0,
             "ticks": ""
            },
            "colorscale": [
             [
              0,
              "#0d0887"
             ],
             [
              0.1111111111111111,
              "#46039f"
             ],
             [
              0.2222222222222222,
              "#7201a8"
             ],
             [
              0.3333333333333333,
              "#9c179e"
             ],
             [
              0.4444444444444444,
              "#bd3786"
             ],
             [
              0.5555555555555556,
              "#d8576b"
             ],
             [
              0.6666666666666666,
              "#ed7953"
             ],
             [
              0.7777777777777778,
              "#fb9f3a"
             ],
             [
              0.8888888888888888,
              "#fdca26"
             ],
             [
              1,
              "#f0f921"
             ]
            ],
            "type": "surface"
           }
          ],
          "table": [
           {
            "cells": {
             "fill": {
              "color": "#EBF0F8"
             },
             "line": {
              "color": "white"
             }
            },
            "header": {
             "fill": {
              "color": "#C8D4E3"
             },
             "line": {
              "color": "white"
             }
            },
            "type": "table"
           }
          ]
         },
         "layout": {
          "annotationdefaults": {
           "arrowcolor": "#2a3f5f",
           "arrowhead": 0,
           "arrowwidth": 1
          },
          "autotypenumbers": "strict",
          "coloraxis": {
           "colorbar": {
            "outlinewidth": 0,
            "ticks": ""
           }
          },
          "colorscale": {
           "diverging": [
            [
             0,
             "#8e0152"
            ],
            [
             0.1,
             "#c51b7d"
            ],
            [
             0.2,
             "#de77ae"
            ],
            [
             0.3,
             "#f1b6da"
            ],
            [
             0.4,
             "#fde0ef"
            ],
            [
             0.5,
             "#f7f7f7"
            ],
            [
             0.6,
             "#e6f5d0"
            ],
            [
             0.7,
             "#b8e186"
            ],
            [
             0.8,
             "#7fbc41"
            ],
            [
             0.9,
             "#4d9221"
            ],
            [
             1,
             "#276419"
            ]
           ],
           "sequential": [
            [
             0,
             "#0d0887"
            ],
            [
             0.1111111111111111,
             "#46039f"
            ],
            [
             0.2222222222222222,
             "#7201a8"
            ],
            [
             0.3333333333333333,
             "#9c179e"
            ],
            [
             0.4444444444444444,
             "#bd3786"
            ],
            [
             0.5555555555555556,
             "#d8576b"
            ],
            [
             0.6666666666666666,
             "#ed7953"
            ],
            [
             0.7777777777777778,
             "#fb9f3a"
            ],
            [
             0.8888888888888888,
             "#fdca26"
            ],
            [
             1,
             "#f0f921"
            ]
           ],
           "sequentialminus": [
            [
             0,
             "#0d0887"
            ],
            [
             0.1111111111111111,
             "#46039f"
            ],
            [
             0.2222222222222222,
             "#7201a8"
            ],
            [
             0.3333333333333333,
             "#9c179e"
            ],
            [
             0.4444444444444444,
             "#bd3786"
            ],
            [
             0.5555555555555556,
             "#d8576b"
            ],
            [
             0.6666666666666666,
             "#ed7953"
            ],
            [
             0.7777777777777778,
             "#fb9f3a"
            ],
            [
             0.8888888888888888,
             "#fdca26"
            ],
            [
             1,
             "#f0f921"
            ]
           ]
          },
          "colorway": [
           "#636efa",
           "#EF553B",
           "#00cc96",
           "#ab63fa",
           "#FFA15A",
           "#19d3f3",
           "#FF6692",
           "#B6E880",
           "#FF97FF",
           "#FECB52"
          ],
          "font": {
           "color": "#2a3f5f"
          },
          "geo": {
           "bgcolor": "white",
           "lakecolor": "white",
           "landcolor": "#E5ECF6",
           "showlakes": true,
           "showland": true,
           "subunitcolor": "white"
          },
          "hoverlabel": {
           "align": "left"
          },
          "hovermode": "closest",
          "mapbox": {
           "style": "light"
          },
          "paper_bgcolor": "white",
          "plot_bgcolor": "#E5ECF6",
          "polar": {
           "angularaxis": {
            "gridcolor": "white",
            "linecolor": "white",
            "ticks": ""
           },
           "bgcolor": "#E5ECF6",
           "radialaxis": {
            "gridcolor": "white",
            "linecolor": "white",
            "ticks": ""
           }
          },
          "scene": {
           "xaxis": {
            "backgroundcolor": "#E5ECF6",
            "gridcolor": "white",
            "gridwidth": 2,
            "linecolor": "white",
            "showbackground": true,
            "ticks": "",
            "zerolinecolor": "white"
           },
           "yaxis": {
            "backgroundcolor": "#E5ECF6",
            "gridcolor": "white",
            "gridwidth": 2,
            "linecolor": "white",
            "showbackground": true,
            "ticks": "",
            "zerolinecolor": "white"
           },
           "zaxis": {
            "backgroundcolor": "#E5ECF6",
            "gridcolor": "white",
            "gridwidth": 2,
            "linecolor": "white",
            "showbackground": true,
            "ticks": "",
            "zerolinecolor": "white"
           }
          },
          "shapedefaults": {
           "line": {
            "color": "#2a3f5f"
           }
          },
          "ternary": {
           "aaxis": {
            "gridcolor": "white",
            "linecolor": "white",
            "ticks": ""
           },
           "baxis": {
            "gridcolor": "white",
            "linecolor": "white",
            "ticks": ""
           },
           "bgcolor": "#E5ECF6",
           "caxis": {
            "gridcolor": "white",
            "linecolor": "white",
            "ticks": ""
           }
          },
          "title": {
           "x": 0.05
          },
          "xaxis": {
           "automargin": true,
           "gridcolor": "white",
           "linecolor": "white",
           "ticks": "",
           "title": {
            "standoff": 15
           },
           "zerolinecolor": "white",
           "zerolinewidth": 2
          },
          "yaxis": {
           "automargin": true,
           "gridcolor": "white",
           "linecolor": "white",
           "ticks": "",
           "title": {
            "standoff": 15
           },
           "zerolinecolor": "white",
           "zerolinewidth": 2
          }
         }
        },
        "title": {
         "font": {
          "color": "#4D5663"
         }
        }
       }
      },
      "text/html": [
       "<div>                            <div id=\"3ba3767c-1a95-49ec-91ad-21aaf7981a3f\" class=\"plotly-graph-div\" style=\"height:525px; width:100%;\"></div>            <script type=\"text/javascript\">                require([\"plotly\"], function(Plotly) {                    window.PLOTLYENV=window.PLOTLYENV || {};\n",
       "                    window.PLOTLYENV.BASE_URL='https://plot.ly';                                    if (document.getElementById(\"3ba3767c-1a95-49ec-91ad-21aaf7981a3f\")) {                    Plotly.newPlot(                        \"3ba3767c-1a95-49ec-91ad-21aaf7981a3f\",                        [{\"marker\":{\"color\":[\"rgba(128, 0, 128, 1.0)\",\"rgba(128, 0, 128, 0.9975683890577507)\",\"rgba(128, 0, 128, 0.9951367781155014)\",\"rgba(128, 0, 128, 0.9927051671732523)\",\"rgba(128, 0, 128, 0.990273556231003)\",\"rgba(128, 0, 128, 0.9878419452887537)\",\"rgba(128, 0, 128, 0.9854103343465044)\",\"rgba(128, 0, 128, 0.9829787234042553)\",\"rgba(128, 0, 128, 0.980547112462006)\",\"rgba(128, 0, 128, 0.9781155015197567)\",\"rgba(128, 0, 128, 0.9756838905775074)\",\"rgba(128, 0, 128, 0.9732522796352583)\",\"rgba(128, 0, 128, 0.970820668693009)\",\"rgba(128, 0, 128, 0.9683890577507597)\",\"rgba(128, 0, 128, 0.9659574468085104)\",\"rgba(128, 0, 128, 0.9635258358662613)\",\"rgba(128, 0, 128, 0.961094224924012)\",\"rgba(128, 0, 128, 0.9586626139817627)\",\"rgba(128, 0, 128, 0.9562310030395134)\",\"rgba(128, 0, 128, 0.9537993920972643)\",\"rgba(128, 0, 128, 0.951367781155015)\",\"rgba(128, 0, 128, 0.9489361702127657)\",\"rgba(128, 0, 128, 0.9465045592705164)\",\"rgba(128, 0, 128, 0.9440729483282673)\",\"rgba(128, 0, 128, 0.941641337386018)\",\"rgba(128, 0, 128, 0.9392097264437687)\",\"rgba(128, 0, 128, 0.9367781155015193)\",\"rgba(128, 0, 128, 0.9343465045592703)\",\"rgba(128, 0, 128, 0.931914893617021)\",\"rgba(128, 0, 128, 0.9294832826747716)\",\"rgba(128, 0, 128, 0.9270516717325223)\",\"rgba(128, 0, 128, 0.9246200607902733)\",\"rgba(128, 0, 128, 0.922188449848024)\",\"rgba(128, 0, 128, 0.9197568389057746)\",\"rgba(128, 0, 128, 0.9173252279635253)\",\"rgba(128, 0, 128, 0.9148936170212763)\",\"rgba(128, 0, 128, 0.9124620060790269)\",\"rgba(128, 0, 128, 0.9100303951367776)\",\"rgba(128, 0, 128, 0.9075987841945283)\",\"rgba(128, 0, 128, 0.9051671732522792)\",\"rgba(128, 0, 128, 0.9027355623100299)\",\"rgba(128, 0, 128, 0.9003039513677806)\",\"rgba(128, 0, 128, 0.8978723404255313)\",\"rgba(128, 0, 128, 0.8954407294832822)\",\"rgba(128, 0, 128, 0.8930091185410329)\",\"rgba(128, 0, 128, 0.8905775075987836)\",\"rgba(128, 0, 128, 0.8881458966565343)\",\"rgba(128, 0, 128, 0.8857142857142852)\",\"rgba(128, 0, 128, 0.8832826747720359)\",\"rgba(128, 0, 128, 0.8808510638297866)\",\"rgba(128, 0, 128, 0.8784194528875373)\",\"rgba(128, 0, 128, 0.8759878419452882)\",\"rgba(128, 0, 128, 0.8735562310030389)\",\"rgba(128, 0, 128, 0.8711246200607896)\",\"rgba(128, 0, 128, 0.8686930091185403)\",\"rgba(128, 0, 128, 0.8662613981762912)\",\"rgba(128, 0, 128, 0.8638297872340419)\",\"rgba(128, 0, 128, 0.8613981762917926)\",\"rgba(128, 0, 128, 0.8589665653495433)\",\"rgba(128, 0, 128, 0.8565349544072942)\",\"rgba(128, 0, 128, 0.8541033434650449)\",\"rgba(128, 0, 128, 0.8516717325227956)\",\"rgba(128, 0, 128, 0.8492401215805463)\",\"rgba(128, 0, 128, 0.8468085106382972)\",\"rgba(128, 0, 128, 0.8443768996960479)\",\"rgba(128, 0, 128, 0.8419452887537986)\",\"rgba(128, 0, 128, 0.8395136778115493)\",\"rgba(128, 0, 128, 0.8370820668693002)\",\"rgba(128, 0, 128, 0.8346504559270509)\",\"rgba(128, 0, 128, 0.8322188449848016)\",\"rgba(128, 0, 128, 0.8297872340425523)\",\"rgba(128, 0, 128, 0.8273556231003032)\",\"rgba(128, 0, 128, 0.8249240121580539)\",\"rgba(128, 0, 128, 0.8224924012158046)\",\"rgba(128, 0, 128, 0.8200607902735553)\",\"rgba(128, 0, 128, 0.8176291793313062)\",\"rgba(128, 0, 128, 0.8151975683890569)\",\"rgba(128, 0, 128, 0.8127659574468076)\",\"rgba(128, 0, 128, 0.8103343465045583)\",\"rgba(128, 0, 128, 0.8079027355623092)\",\"rgba(128, 0, 128, 0.8054711246200599)\",\"rgba(128, 0, 128, 0.8030395136778106)\",\"rgba(128, 0, 128, 0.8006079027355613)\",\"rgba(128, 0, 128, 0.7981762917933122)\",\"rgba(128, 0, 128, 0.7957446808510629)\",\"rgba(128, 0, 128, 0.7933130699088136)\",\"rgba(128, 0, 128, 0.7908814589665643)\",\"rgba(128, 0, 128, 0.7884498480243152)\",\"rgba(128, 0, 128, 0.7860182370820659)\",\"rgba(128, 0, 128, 0.7835866261398166)\",\"rgba(128, 0, 128, 0.7811550151975672)\",\"rgba(128, 0, 128, 0.7787234042553182)\",\"rgba(128, 0, 128, 0.7762917933130689)\",\"rgba(128, 0, 128, 0.7738601823708195)\",\"rgba(128, 0, 128, 0.7714285714285702)\",\"rgba(128, 0, 128, 0.7689969604863212)\",\"rgba(128, 0, 128, 0.7665653495440719)\",\"rgba(128, 0, 128, 0.7641337386018225)\",\"rgba(128, 0, 128, 0.7617021276595732)\",\"rgba(128, 0, 128, 0.7592705167173242)\",\"rgba(128, 0, 128, 0.7568389057750748)\",\"rgba(128, 0, 128, 0.7544072948328255)\",\"rgba(128, 0, 128, 0.7519756838905762)\",\"rgba(128, 0, 128, 0.7495440729483271)\",\"rgba(128, 0, 128, 0.7471124620060778)\",\"rgba(128, 0, 128, 0.7446808510638285)\",\"rgba(128, 0, 128, 0.7422492401215792)\",\"rgba(128, 0, 128, 0.7398176291793301)\",\"rgba(128, 0, 128, 0.7373860182370808)\",\"rgba(128, 0, 128, 0.7349544072948315)\",\"rgba(128, 0, 128, 0.7325227963525822)\",\"rgba(128, 0, 128, 0.7300911854103331)\",\"rgba(128, 0, 128, 0.7276595744680838)\",\"rgba(128, 0, 128, 0.7252279635258345)\",\"rgba(128, 0, 128, 0.7227963525835852)\",\"rgba(128, 0, 128, 0.7203647416413361)\",\"rgba(128, 0, 128, 0.7179331306990868)\",\"rgba(128, 0, 128, 0.7155015197568375)\",\"rgba(128, 0, 128, 0.7130699088145882)\",\"rgba(128, 0, 128, 0.7106382978723391)\",\"rgba(128, 0, 128, 0.7082066869300898)\",\"rgba(128, 0, 128, 0.7057750759878405)\",\"rgba(128, 0, 128, 0.7033434650455912)\",\"rgba(128, 0, 128, 0.7009118541033421)\",\"rgba(128, 0, 128, 0.6984802431610928)\",\"rgba(128, 0, 128, 0.6960486322188435)\",\"rgba(128, 0, 128, 0.6936170212765942)\",\"rgba(128, 0, 128, 0.6911854103343451)\",\"rgba(128, 0, 128, 0.6887537993920958)\",\"rgba(128, 0, 128, 0.6863221884498465)\",\"rgba(128, 0, 128, 0.6838905775075972)\",\"rgba(128, 0, 128, 0.6814589665653481)\",\"rgba(128, 0, 128, 0.6790273556230988)\",\"rgba(128, 0, 128, 0.6765957446808495)\",\"rgba(128, 0, 128, 0.6741641337386002)\",\"rgba(128, 0, 128, 0.6717325227963511)\",\"rgba(128, 0, 128, 0.6693009118541018)\",\"rgba(128, 0, 128, 0.6668693009118525)\",\"rgba(128, 0, 128, 0.6644376899696032)\",\"rgba(128, 0, 128, 0.6620060790273541)\",\"rgba(128, 0, 128, 0.6595744680851048)\",\"rgba(128, 0, 128, 0.6571428571428555)\",\"rgba(128, 0, 128, 0.6547112462006062)\",\"rgba(128, 0, 128, 0.6522796352583571)\",\"rgba(128, 0, 128, 0.6498480243161078)\",\"rgba(128, 0, 128, 0.6474164133738585)\",\"rgba(128, 0, 128, 0.6449848024316092)\",\"rgba(128, 0, 128, 0.6425531914893601)\",\"rgba(128, 0, 128, 0.6401215805471108)\",\"rgba(128, 0, 128, 0.6376899696048615)\",\"rgba(128, 0, 128, 0.6352583586626122)\",\"rgba(128, 0, 128, 0.6328267477203631)\",\"rgba(128, 0, 128, 0.6303951367781138)\",\"rgba(128, 0, 128, 0.6279635258358645)\",\"rgba(128, 0, 128, 0.6255319148936151)\",\"rgba(128, 0, 128, 0.6231003039513661)\",\"rgba(128, 0, 128, 0.6206686930091168)\",\"rgba(128, 0, 128, 0.6182370820668674)\",\"rgba(128, 0, 128, 0.6158054711246181)\",\"rgba(128, 0, 128, 0.6133738601823691)\",\"rgba(128, 0, 128, 0.6109422492401198)\",\"rgba(128, 0, 128, 0.6085106382978704)\",\"rgba(128, 0, 128, 0.6060790273556211)\",\"rgba(128, 0, 128, 0.603647416413372)\",\"rgba(128, 0, 128, 0.6012158054711227)\",\"rgba(128, 0, 128, 0.5987841945288734)\",\"rgba(128, 0, 128, 0.5963525835866241)\",\"rgba(128, 0, 128, 0.593920972644375)\",\"rgba(128, 0, 128, 0.5914893617021257)\",\"rgba(128, 0, 128, 0.5890577507598764)\",\"rgba(128, 0, 128, 0.5866261398176271)\",\"rgba(128, 0, 128, 0.584194528875378)\",\"rgba(128, 0, 128, 0.5817629179331287)\",\"rgba(128, 0, 128, 0.5793313069908794)\",\"rgba(128, 0, 128, 0.5768996960486301)\",\"rgba(128, 0, 128, 0.574468085106381)\",\"rgba(128, 0, 128, 0.5720364741641317)\",\"rgba(128, 0, 128, 0.5696048632218824)\",\"rgba(128, 0, 128, 0.5671732522796331)\",\"rgba(128, 0, 128, 0.564741641337384)\",\"rgba(128, 0, 128, 0.5623100303951347)\",\"rgba(128, 0, 128, 0.5598784194528854)\",\"rgba(128, 0, 128, 0.5574468085106361)\",\"rgba(128, 0, 128, 0.555015197568387)\",\"rgba(128, 0, 128, 0.5525835866261377)\",\"rgba(128, 0, 128, 0.5501519756838884)\",\"rgba(128, 0, 128, 0.5477203647416391)\",\"rgba(128, 0, 128, 0.54528875379939)\",\"rgba(128, 0, 128, 0.5428571428571407)\",\"rgba(128, 0, 128, 0.5404255319148914)\",\"rgba(128, 0, 128, 0.5379939209726421)\",\"rgba(128, 0, 128, 0.535562310030393)\",\"rgba(128, 0, 128, 0.5331306990881437)\",\"rgba(128, 0, 128, 0.5306990881458944)\",\"rgba(128, 0, 128, 0.5282674772036451)\",\"rgba(128, 0, 128, 0.525835866261396)\",\"rgba(128, 0, 128, 0.5234042553191467)\",\"rgba(128, 0, 128, 0.5209726443768974)\",\"rgba(128, 0, 128, 0.5185410334346481)\",\"rgba(128, 0, 128, 0.516109422492399)\",\"rgba(128, 0, 128, 0.5136778115501497)\",\"rgba(128, 0, 128, 0.5112462006079004)\",\"rgba(128, 0, 128, 0.5088145896656511)\",\"rgba(128, 0, 128, 0.506382978723402)\",\"rgba(128, 0, 128, 0.5039513677811527)\",\"rgba(128, 0, 128, 0.5015197568389034)\",\"rgba(128, 0, 128, 0.4990881458966541)\",\"rgba(128, 0, 128, 0.49665653495440504)\",\"rgba(128, 0, 128, 0.49422492401215573)\",\"rgba(128, 0, 128, 0.4917933130699064)\",\"rgba(128, 0, 128, 0.4893617021276571)\",\"rgba(128, 0, 128, 0.48693009118540803)\",\"rgba(128, 0, 128, 0.4844984802431587)\",\"rgba(128, 0, 128, 0.4820668693009094)\",\"rgba(128, 0, 128, 0.4796352583586601)\",\"rgba(128, 0, 128, 0.477203647416411)\",\"rgba(128, 0, 128, 0.4747720364741617)\",\"rgba(128, 0, 128, 0.4723404255319124)\",\"rgba(128, 0, 128, 0.4699088145896631)\",\"rgba(128, 0, 128, 0.467477203647414)\",\"rgba(128, 0, 128, 0.4650455927051647)\",\"rgba(128, 0, 128, 0.4626139817629154)\",\"rgba(128, 0, 128, 0.4601823708206661)\",\"rgba(128, 0, 128, 0.457750759878417)\",\"rgba(128, 0, 128, 0.4553191489361677)\",\"rgba(128, 0, 128, 0.4528875379939184)\",\"rgba(128, 0, 128, 0.4504559270516691)\",\"rgba(128, 0, 128, 0.44802431610942)\",\"rgba(128, 0, 128, 0.4455927051671707)\",\"rgba(128, 0, 128, 0.4431610942249214)\",\"rgba(128, 0, 128, 0.4407294832826721)\",\"rgba(128, 0, 128, 0.438297872340423)\",\"rgba(128, 0, 128, 0.4358662613981737)\",\"rgba(128, 0, 128, 0.4334346504559244)\",\"rgba(128, 0, 128, 0.4310030395136751)\",\"rgba(128, 0, 128, 0.428571428571426)\",\"rgba(128, 0, 128, 0.4261398176291767)\",\"rgba(128, 0, 128, 0.4237082066869274)\",\"rgba(128, 0, 128, 0.4212765957446781)\",\"rgba(128, 0, 128, 0.418844984802429)\",\"rgba(128, 0, 128, 0.4164133738601797)\",\"rgba(128, 0, 128, 0.4139817629179304)\",\"rgba(128, 0, 128, 0.41155015197568107)\",\"rgba(128, 0, 128, 0.409118541033432)\",\"rgba(128, 0, 128, 0.4066869300911827)\",\"rgba(128, 0, 128, 0.40425531914893337)\",\"rgba(128, 0, 128, 0.40182370820668406)\",\"rgba(128, 0, 128, 0.399392097264435)\",\"rgba(128, 0, 128, 0.39696048632218567)\",\"rgba(128, 0, 128, 0.39452887537993636)\",\"rgba(128, 0, 128, 0.39209726443768705)\",\"rgba(128, 0, 128, 0.38966565349543797)\",\"rgba(128, 0, 128, 0.38723404255318866)\",\"rgba(128, 0, 128, 0.38480243161093936)\",\"rgba(128, 0, 128, 0.38237082066869005)\",\"rgba(128, 0, 128, 0.37993920972644096)\",\"rgba(128, 0, 128, 0.37750759878419166)\",\"rgba(128, 0, 128, 0.37507598784194235)\",\"rgba(128, 0, 128, 0.37264437689969304)\",\"rgba(128, 0, 128, 0.37021276595744396)\",\"rgba(128, 0, 128, 0.36778115501519465)\",\"rgba(128, 0, 128, 0.36534954407294534)\",\"rgba(128, 0, 128, 0.36291793313069604)\",\"rgba(128, 0, 128, 0.36048632218844695)\",\"rgba(128, 0, 128, 0.35805471124619764)\",\"rgba(128, 0, 128, 0.35562310030394834)\",\"rgba(128, 0, 128, 0.35319148936169903)\",\"rgba(128, 0, 128, 0.35075987841944994)\",\"rgba(128, 0, 128, 0.34832826747720064)\",\"rgba(128, 0, 128, 0.34589665653495133)\",\"rgba(128, 0, 128, 0.343465045592702)\",\"rgba(128, 0, 128, 0.34103343465045294)\",\"rgba(128, 0, 128, 0.33860182370820363)\",\"rgba(128, 0, 128, 0.3361702127659543)\",\"rgba(128, 0, 128, 0.333738601823705)\",\"rgba(128, 0, 128, 0.33130699088145593)\",\"rgba(128, 0, 128, 0.3288753799392066)\",\"rgba(128, 0, 128, 0.3264437689969573)\",\"rgba(128, 0, 128, 0.324012158054708)\",\"rgba(128, 0, 128, 0.3215805471124589)\",\"rgba(128, 0, 128, 0.3191489361702096)\",\"rgba(128, 0, 128, 0.3167173252279603)\",\"rgba(128, 0, 128, 0.314285714285711)\",\"rgba(128, 0, 128, 0.3118541033434619)\",\"rgba(128, 0, 128, 0.3094224924012126)\",\"rgba(128, 0, 128, 0.3069908814589633)\",\"rgba(128, 0, 128, 0.304559270516714)\",\"rgba(128, 0, 128, 0.3021276595744649)\",\"rgba(128, 0, 128, 0.2996960486322156)\",\"rgba(128, 0, 128, 0.2972644376899663)\",\"rgba(128, 0, 128, 0.294832826747717)\",\"rgba(128, 0, 128, 0.2924012158054679)\",\"rgba(128, 0, 128, 0.2899696048632186)\",\"rgba(128, 0, 128, 0.2875379939209693)\",\"rgba(128, 0, 128, 0.28510638297872)\",\"rgba(128, 0, 128, 0.2826747720364709)\",\"rgba(128, 0, 128, 0.2802431610942216)\",\"rgba(128, 0, 128, 0.2778115501519723)\",\"rgba(128, 0, 128, 0.275379939209723)\",\"rgba(128, 0, 128, 0.2729483282674739)\",\"rgba(128, 0, 128, 0.2705167173252246)\",\"rgba(128, 0, 128, 0.2680851063829753)\",\"rgba(128, 0, 128, 0.265653495440726)\",\"rgba(128, 0, 128, 0.2632218844984769)\",\"rgba(128, 0, 128, 0.2607902735562276)\",\"rgba(128, 0, 128, 0.2583586626139783)\",\"rgba(128, 0, 128, 0.25592705167172897)\",\"rgba(128, 0, 128, 0.2534954407294799)\",\"rgba(128, 0, 128, 0.2510638297872306)\",\"rgba(128, 0, 128, 0.24863221884498127)\",\"rgba(128, 0, 128, 0.24620060790273196)\",\"rgba(128, 0, 128, 0.24376899696048288)\",\"rgba(128, 0, 128, 0.24133738601823357)\",\"rgba(128, 0, 128, 0.23890577507598426)\",\"rgba(128, 0, 128, 0.23647416413373495)\",\"rgba(128, 0, 128, 0.23404255319148587)\",\"rgba(128, 0, 128, 0.23161094224923656)\",\"rgba(128, 0, 128, 0.22917933130698726)\",\"rgba(128, 0, 128, 0.22674772036473795)\",\"rgba(128, 0, 128, 0.22431610942248886)\",\"rgba(128, 0, 128, 0.22188449848023956)\",\"rgba(128, 0, 128, 0.21945288753799025)\",\"rgba(128, 0, 128, 0.21702127659574094)\",\"rgba(128, 0, 128, 0.21458966565349186)\",\"rgba(128, 0, 128, 0.21215805471124255)\",\"rgba(128, 0, 128, 0.20972644376899324)\",\"rgba(128, 0, 128, 0.20729483282674394)\",\"rgba(128, 0, 128, 0.20486322188449485)\",\"rgba(128, 0, 128, 0.20243161094224554)\"],\"opacity\":0.8,\"size\":[10,10,10,10,10,10,10,10,10,10,10,10,10,10,10,10,10,10,10,10,10,10,10,10,10,10,10,10,10,10,10,10,10,10,10,10,10,10,10,10,10,10,10,10,10,10,10,10,10,10,10,10,10,10,10,10,10,10,10,10,10,10,10,10,10,10,10,10,10,10,10,10,10,10,10,10,10,10,10,10,10,10,10,10,10,10,10,10,10,10,10,10,10,10,10,10,10,10,10,10,10,10,10,10,10,10,10,10,10,10,10,10,10,10,10,10,10,10,10,10,10,10,10,10,10,10,10,10,10,10,10,10,10,10,10,10,10,10,10,10,10,10,10,10,10,10,10,10,10,10,10,10,10,10,10,10,10,10,10,10,10,10,10,10,10,10,10,10,10,10,10,10,10,10,10,10,10,10,10,10,10,10,10,10,10,10,10,10,10,10,10,10,10,10,10,10,10,10,10,10,10,10,10,10,10,10,10,10,10,10,10,10,10,10,10,10,10,10,10,10,10,10,10,10,10,10,10,10,10,10,10,10,10,10,10,10,10,10,10,10,10,10,10,10,10,10,10,10,10,10,10,10,10,10,10,10,10,10,10,10,10,10,10,10,10,10,10,10,10,10,10,10,10,10,10,10,10,10,10,10,10,10,10,10,10,10,10,10,10,10,10,10,10,10,10,10,10,10,10,10,10,10,10,10,10,10,10,10,10,10,10,10,10,10,10,10,10,10,10,10,10,10,10,10,10,10,10,10,10],\"symbol\":\"circle\"},\"mode\":\"markers\",\"text\":[\"AZCAPOTZALCO\",\"CLAVERIA\",\"ARENAL\",\"PROHOGAR\",\"SANTA LUCIA\",\"COSMOPOLITA\",\"VICTORIA DE LAS DEMOCRACIAS\",\"OBRERO POPULAR\",\"NUEVA SANTA MARIA\",\"BENITO JUAREZ\",\"TLATILCO\",\"SAN JUAN TLIHUACA\",\"JARDIN 23 DE ABRIL\",\"JARDIN FORTUNA NACIONAL\",\"PROVIDENCIA\",\"LAMINADORES\",\"PANTACO\",\"PASTEROS\",\"COYOACAN\",\"PRADO CHURUBUSCO\",\"SANTA URSULA COAPA (PESCADITOS)\",\"EL RELOJ\",\"XOTEPINGO\",\"CHURUBUSCO\",\"AVANTE\",\"RUIZ CORTINEZ (LA CRUZ)\",\"AJUSCO MONTSERRAT (LA BOLA)\",\"SAN FRANCISCO CULHUACAN\",\"AJUSCO MOCTEZUMA\",\"EDUCACION PETROLERA\",\"LOS REYES COYOACAN\",\"SANTO DOMINGO LAS ROSAS\",\"CARMEN SERDAN\",\"MARGARITA MAZA DE JUAREZ\",\"EMILIANO ZAPATA\",\"SANTO DOMINGO LOS REYES\",\"COPILCO EL ALTO\",\"HERMOSILLO\",\"EL VERDE\",\"BAZAR DEL ARTESANO MEXICANO\",\"CUAJIMALPA\",\"SAN MATEO TLALTENANGO\",\"ROSA TORRES\",\"HUIZACHITO\",\"VILLA ZONA\",\"RAMON CORONA\",\"CARRERA LARDIZABAL\",\"RIO BLANCO\",\"ESTRELLA\",\"DIEZ DE MAYO\",\"GERTRUDIS SANCHEZ\",\"SALVADO DIAZ MIRON\",\"GABRIEL HERNANDEZ\",\"VASCO DE QUIROGA\",\"TRES ESTRELLAS\",\"PROGRESO NACIONAL\",\"VILLA COMIDAS (VIEJO)\",\"AMPLIACION CASAS ALEMAN\",\"MARTIN CARRERA\",\"SAN JUAN DE ARAGON UNIDAD I\",\"VICENTE GUERRERO (NUEVA ATZACOALCO)\",\"MAXIMINO AVILA CAMACHO\",\"PANAMERICANA\",\"FERNANDO CASAS ALEMAN\",\"JUAN GONZALEZ ROMERO\",\"BONDOJITO\",\"SANTA ROSA\",\"SANTA MARIA TICOMAN\",\"PUEBLO DE SAN JUAN DE ARAGON\",\"SAN BARTOLO ATEPEHUACAN\",\"SAN PEDRO ZACATENCO\",\"MAGDALENA DE LAS SALINAS (NUEVA VALLEJO)\",\"SAN JUAN DE ARAGON UNIDAD 7\",\"SAN FELIPE DE JESUS\",\"SAN JUAN DE ARAGON UNIDAD 2\",\"SAN JUAN DE ARAGON UNIDAD 3\",\"SANTA ISABEL TOLA\",\"PRADERA\",\"CAMPESTRE ARAGON\",\"AMPLIACION GABRIEL HERNANDEZ\",\"VEINTICINCO DE JULIO\",\"SAN PEDRO EL CHICO\",\"MA. ESTHER ZUNO DE ECHEVERRIA\",\"SAN JUAN DE ARAGON UNIDAD 4 Y 5\",\"CUCHILLA DEL TESORO\",\"SAN JUAN DE ARAGON UNIDAD 6\",\"PRIMERO DE SEPTIEMBRE\",\"ALFREDO ROBLES DOMINGUEZ\",\"CUATRO DE FEBRERO\",\"CUAUTEPEC\",\"FERROPLAZA\",\"LINDAVISTA VALLEJO PATERA\",\"IZTACALCO\",\"AGRICOLA ORIENTAL\",\"MILITAR MARTE\",\"PANTITLAN CALLE 4\",\"JUVENTINO ROSAS\",\"BRAMADERO\",\"TLACOTAL\",\"LA CRUZ\",\"VEINTICUATRO DE DICIEMBRE\",\"SANTA ANITA\",\"APATLACO\",\"LEANDRO VALLE\",\"EL RODEO\",\"EJIDOS DE LA MAGDALENA MIXHUCA\",\"SAN MIGUEL IZTACALCO\",\"JOSE LOPEZ PORTILLO\",\"IZTAPALAPA\",\"SANTA MARIA AZTAHUACAN\",\"SAN ANDRES TETEPILCO\",\"SECTOR POPULAR\",\"PROGRESO DEL SUR\",\"ESCUADRON 201\",\"CULHUACAN\",\"SAN JUANICO\",\"SANTA CRUZ MEYEHUALCO\",\"SAN LORENZO XICOTENCATL\",\"LA PURISIMA\",\"SIFON\",\"SAN LORENZO TEZONCO\",\"JUAN DE LA BARRERA\",\"GUADALUPE DEL MORAL\",\"CONSTITUYENTES DE 1917\",\"SAN JOSE ACULCO\",\"FRANCISCO VILLA\",\"JACARANDAS\",\"MAGDALENA CONTRERAS (LA LOMA)\",\"TURISTICO MAGDALENA\",\"TIHUATLAN\",\"CERRO DEL JUDIO\",\"CONTRERAS LA CRUZ\",\"BENITO JUAREZ (MILPA ALTA)\",\"SAN PEDRO ATOCPAN\",\"SAN SALVADOR CUAUHTENCO (DOCE DE OCTUBRE\",\"SAN ANTONIO TECOMITL\",\"SAN PABLO OZTOTEPEC\",\"SANTA ANA TLACOTENCO\",\"VILLA MILPA ALTA (MERCADO ANTOJITOS)\",\"BENITO JUAREZ  (ANEXO)\",\"SAN BARTOLOME XICOMULCO\",\"SANTA MARIA NONOALCO\",\"MELCHOR MUZQUIZ ZONA\",\"SEIS DE ENERO DE 1915\",\"TIZAPAN\",\"JOSE MARIA PINO SUAREZ\",\"MELCHOR MUZQUIZ (FLORES)\",\"SANTA FE\",\"MARIA G. GARCIA DE RUIZ\",\"CRISTO REY\",\"OLIVAR DEL CONDE\",\"PANTEON JARDIN (FLORES)\",\"PUENTE COLORADO\",\"CORPUS CRISTY\",\"MOLINO DE SANTO DOMINGO\",\"CENTENARIO\",\"JALALPA EL GRANDE\",\"CENTRAL DE TLAHUAC\",\"MIXQUIC\",\"SAN JUAN IXTAYOPAN\",\"ZAPOTITLAN\",\"TLALTENCO (SAN FRANCISCO)\",\"SANTA CECILIA\",\"ABRAHAM DEL LLANO (NOPALERA)\",\"LOS OLIVOS\",\"MIGUEL HIDALGO\",\"AGRICOLA METROPOLITANA (FELIPE ASTORGA OCHOA)\",\"SANTA CATARINA\",\"DEL MAR\",\"SAN JOSE\",\"SELENE\",\"EMILIANO ZAPATA (TETELCO)\",\"ZAPOTITLA\",\"AMPLIACION SELENE\",\"TIPICO REGIONAL\",\"LA PAZ\",\"COMIDAS HUIPULCO\",\"VILLA COAPA\",\"LAZARO CARDENAS\",\"FUENTES BROTANTES\",\"ARTESANIAS VASCO DE QUIROGA\",\"ISIDRO FABELA\",\"SAN ANDRES TOTOLTEPEC\",\"FLORES SAN FERNANDO\",\"MIGUEL HIDALGO\",\"TORRES DE PADIERNA\",\"SAN NICOLAS TOTOLAPAN\",\"JOSE MARIA MORELOS Y PAVON\",\"PLAZA MEXICANA DEL SUR\",\"HUESO PERIFERICO\",\"VEINTICUATRO DE FEBRERO\",\"DR. Y GRAL JOSE GONZALEZ VARELA\",\"TLALCOLIGIA\",\"MIRADOR\",\"VEINTIUNO DE ABRIL\",\"XOCHIMILCO ZONA (XOCHITL)\",\"NATIVITAS\",\"TULYEHUALCO\",\"SAN GREGORIO ATLAPULCO\",\"XOCHIMILCO ANEXO\",\"SANTA CRUZ ACALPIXCA\",\"AMPLIACION SAN MARCOS\",\"GUADALUPE I. RAMIREZ\",\"TIERRA NUEVA\",\"AMPLIACION TEPEPAN\",\"AHUALAPA\",\"ALAMOS\",\"LAGO\",\"PORTALES ZONA\",\"VEINTICUATRO DE AGOSTO\",\"PRIMERO DE DICIEMBRE\",\"LA MODERNA\",\"MIXCOAC\",\"LAZARO CARDENAS(DEL VALLE)\",\"SAN PEDRO DE LOS PINOS\",\"POSTAL ZONA\",\"POSTAL ANEXO\",\"INDEPENDENCIA\",\"SANTA MARIA NATIVITAS\",\"TLACOQUEMECATL\",\"SANTA CRUZ ATOYAC\",\"PORTALES ANEXO\",\"LAGUNILLA ROPA Y TELAS\",\"LAGUNILLA ZONA\",\"LAGUNILLA VARIOS\",\"LAGUNILLA SAN CAMILITO\",\"MARTINEZ DE LA TORRE (ANEXO)\",\"SAN COSME\",\"MARTINEZ DE LA TORRE (ZONA)\",\"JUAREZ\",\"SAN LUCAS\",\"DOS DE ABRIL\",\"INSURGENTES\",\"TEPITO ZONA\",\"ABELARDO L. RODRIGUEZ (ZONA)\",\"BEETHOVEN\",\"HIDALGO ZONA\",\"LA DALIA\",\"MELCHOR OCAMPO\",\"SAN JOAQUIN ZONA (PERALVILLO)\",\"TEPITO FIERROS VIEJOS\",\"MORELIA\",\"BUGAMBILIA\",\"TEPITO VARIOS\",\"TEPITO ROPA Y TELAS (granaditas)\",\"PEQUE\\u00d1O COMERCIO\",\"PALACIO DE LAS FLORES\",\"SAN JUAN PUGIBET\",\"SAN JUAN ARCOS DE BELEM\",\"ABELARDO L. RODRIGUEZ (CORONAS)\",\"SAN JUAN CURIOSIDADES\",\"HIDALGO ANEXO\",\"ISABEL LA CATOLICA\",\"CUAUHTEMOC\",\"MERCED MIXCALCO\",\"SAN JOAQUIN (ANEXO)\",\"FRANCISCO SARABIA\",\"MICHOACAN\",\"PAULINO  NAVARRO\",\"ANAHUAC ZONA\",\"TACUBA\",\"TACUBAYA\",\"GRANADA\",\"ANAHUAC ANEXO\",\"PLUTARCO ELIAS CALLES       (EL CHORRITO)\",\"MONTE ATHOS\",\"DIECIOCHO DE MARZO\",\"LAGO GARDA\",\"ZACATITO\",\"ARGENTINA\",\"ESCANDON\",\"ING. GONZALO PE\\u00d1A MANTEROLA (CARTAGENA)\",\"AMERICA\",\"LAGO GASCASONICA\",\"PRADO NORTE\",\"PRADO SUR\",\"SAN ISIDRO ZONA\",\"SAN ISIDRO ANEXO\",\"JAMAICA ZONA\",\"MOCTEZUMA\",\"UNIDAD RASTRO\",\"ROMERO RUBIO\",\"MERCED AMPUDIA\",\"JAMAICA COMIDAS\",\"PUEBLA\",\"MERCED NAVE MENOR\",\"MERCED NAVE MAYOR\",\"MERCED COMIDAS\",\"MERCED FLORES\",\"MERCED ANEXO\",\"SONORA\",\"SONORA ANEXO\",\"ALVARO OBREGON\",\"IGNACIO ZARAGOZA\",\"PENSADOR MEXICANO\",\"JARDIN BALBUENA\",\"MORELOS\",\"VEINTE DE ABRIL\",\"FEDERAL\",\"AVIACION CIVIL\",\"AQUILES SERDAN\",\"EMILIO CARRANZA\",\"ADOLFO LOPEZ MATEOS\",\"PLAN DE AYALA CARACOL\",\"JAMAICA NUEVO\",\"PANTITLAN ARENAL\",\"UNIDAD KENNEDY\",\"VALLE GOMEZ\",\"CALZADO LA CENTRAL\",\"SANTA JUANITA\",\"ARENAL 4a SECCION\",\"PE\\u00d1ON DE LOS BA\\u00d1OS\",\"LIC. OCTAVIO SENTIES\",\"MINILLAS\",\"NUEVO SAN LAZARO\",\"DEL PARQUE\",\"LUIS PRECIADO DE LA TORRE\",\"MERCED BANQUETON\",\"PASAJE CHAPULTEPEC\",\"COLIMA\",\"LA ESTACION\",\"REYNOSA TAMAULIPAS\",\"CONTADERO\",\"EMILIANO ZAPATA\",\"24 DE SEPTIEMBRE\",\"VEINTICUATRO DE FEBRERO\",\"MERCED PASO A DESNIVEL\",\"MERCED PASO A DESNIVEL GOMEZ PEDRAZA\",\"PROVIDENCIA\"],\"x\":[0.5849445922845036,0.5076831506089116,0.5021782293272464,0.5711377036439068,0.5348516370622487,0.507583781304897,0.5089974233344385,0.5066216091382961,0.5041041266495859,0.5169281899669436,0.5026998392789066,0.5534915098662119,0.5532423733977355,0.5340416309758569,0.5563652561407764,0.5095042077451462,0.5008630629807067,0.5454268354194906,0.4668315624705245,0.3961673017039993,0.4050550244742668,0.37801937967665483,0.39925725460882006,0.4132647319756469,0.38119542998668665,0.3882280607750214,0.41389568514671315,0.3982929005239585,0.40909700924028,0.38282954204085273,0.4046862681941826,0.40620056612585875,0.3603936475170324,0.359433059357438,0.35096918904132623,0.392539208747622,0.4075470100623473,0.3842025859475156,0.36554637669196294,0.4829065771630073,0.5203038082870264,0.4861787267727546,0.528250479933742,0.503424028941958,0.5895217015345954,0.5266625467759185,0.46856070876050027,0.5070275210779633,0.4736497658391807,0.48883679197965296,0.2984667184499547,0.4745617702159302,0.48943159484578813,0.48448764309056624,0.40849834578786265,0.5568178997533373,0.489679421913789,0.4613214741087391,0.49170278849284543,0.4556089638588868,0.5063455400313579,0.4906806022323449,0.5378923977350668,0.4584933754349814,0.31804766800689266,0.46797813425842905,0.5527974728092468,0.5139338189732068,0.4386316068259809,0.507440449699232,0.49955613579486197,0.49961540751234523,0.4509956341623839,0.47908665535763334,0.4357436920908774,0.44139302203307323,0.4826951686883801,0.4377317957820359,0.4576629332743357,0.4790654803571218,0.48326312115283393,0.4459781480814335,0.4767663841829798,0.43012412982135434,0.4156505737010374,0.4436220852456632,0.4988368401007629,0.3066654208152542,0.47888444693095467,0.5394637503204605,0.4854174217871078,0.5144007532726901,0.41726763044352005,0.41995194708754513,0.42530310555240003,0.41246180421405815,0.4217737749207591,0.4214786606452336,0.4294878931637608,0.4413293712992869,0.39502658128830764,0.4293259523101562,0.41346898910068364,0.38976178600062394,0.38731193521567175,0.39575999084268,0.41313707365769725,0.42966626207459074,0.3868952012123399,0.3194749423797602,0.4239235875031384,0.41587298062536443,0.3845187080221712,0.417617230297555,0.37181508654042905,0.4042574674907064,0.33604040047177663,0.34558245229517726,0.36095395969789856,0.4075319119969468,0.3393850001361182,0.37322044846223046,0.37379981412529345,0.3554071741445142,0.39547111065619356,0.33644763631393715,0.3365005661340326,0.4381866187902096,0.4338681186680391,0.43089350088557266,0.4538845200627581,0.4377490022400878,0.22204153677109995,0.22460854027417607,0.24639281024949514,0.20131067326408633,0.23585553937053633,0.0,0.19722963519030295,0.22248718209070553,0.07648448564765808,0.4593298108989296,0.46242383769508405,0.45914332548539444,0.43881029621506523,0.48855249948073104,0.4245819113574934,0.5057545709640253,0.4780193392476506,0.4743529972192493,0.4806383611160829,0.43480064854758826,0.45637127880261286,0.4842286000472407,0.48013643088079255,0.4713634983637625,0.4855988187060741,0.2555904964004206,0.1903330357669418,0.22473552018802068,0.28662481870403855,0.27949383469216454,0.25262487410551704,0.3032213657779921,0.31020229769898083,0.2895178117432602,0.29205340185614237,0.24792945025336705,0.30347514671799664,0.24289063864463276,0.26730969081872835,0.17504102917110592,0.3054092151128799,0.2516817803924587,0.24090444925289675,0.3770140736699629,0.36411882440486515,0.36156026964764143,0.36114846645868015,0.37540224398223,0.39941330360608973,0.38847068050262906,0.3496439825480692,0.3725186251575334,0.3859919082641781,0.41234554881768937,0.4206653871773208,0.3454719887415757,0.37207230225774485,0.34201674658042647,0.4137338883963841,0.35797063908036153,0.3691250235633495,0.422953732140235,0.4025376328342815,0.36155029292605206,0.326274224943227,0.24856393202912058,0.28397530050274755,0.43172835184575925,0.27843549831670605,0.32679563767694386,0.3081292131734096,0.32303771861637937,0.3350849753988937,0.2729205247666813,0.46056769632537226,0.42033842970243557,0.4857342674775656,0.4632923679266764,0.4640415784107603,0.4381629531978932,0.5011201864516976,0.49648747086582173,0.4723483919301396,0.4506696237297668,0.4232408356205873,0.4455595151756713,0.4318249240901556,0.4448410656030771,0.42988755282746166,0.4217943482104168,0.5906221276299011,0.5260414396768113,0.4947180746196541,0.4598773906429165,0.5027135960726328,0.5389766710879647,0.5373092058328657,0.5114473647968611,0.4667957756876711,0.4625527509105077,0.4864975560475123,0.5156898435463971,0.47001720702038324,0.5634028381521643,0.5678391461806311,0.5289663378928715,0.5160013518692003,0.5292575998851713,0.5357986088209746,0.4554153330331068,0.4953737857152417,0.5215410632403272,0.5398371256632412,0.4444307662743025,0.4653874314502797,0.49429926208787445,0.4962418869143334,0.4596254461118854,0.46942871073942527,0.49368724237777134,0.4481221608773322,0.47238364864461435,0.5599918203986564,0.5010743941959316,0.4745193397319104,0.4567102381001303,0.43870936828618423,0.5266634837951275,0.6618501446937078,0.5233218669174601,0.5076199418706079,0.5090054424253303,0.5132082998136448,0.49587338179883916,0.43448368789954267,0.5315477280164236,0.5344099574619754,0.6328344753370362,0.48331409579705353,0.5531614001462151,0.509601220925056,0.5515633206430114,0.5083320794231012,0.4872834891580271,0.5060664027005585,0.5048382920438109,0.4925225795089486,0.48539790060547655,0.5341167124958939,0.5106508126078873,0.44958231475914195,0.4226174900800081,0.42712983492410417,0.5148614702483267,1.0,0.457796658266377,0.4438130675357891,0.4529636210509318,0.4813171546172349,0.4622846892778703,0.4428423502401755,0.45456368851078194,0.4363043415059606,0.4227944340586579,0.5555792038995854,0.45027763634742857,0.4142989951590291,0.40483942322722216,0.4514222658394304,0.45492889489380983,0.4184923547846495,0.40541130054625024,0.593406185457226,0.4050852497265997,0.44222349980557196,0.47835058608926045,0.46214946302737897,0.4463988171877734,0.41136965223941285,0.4262354230797882,0.43665363949309594,0.4719197759691498,0.4213708991633111,0.4325769622899223,0.4376845217823267,0.4896752038558114,0.4694466353682497,0.46230962015995336,0.3052649384510975,0.545965801678831,0.5115271089183966,0.48791309338576855,0.4315339983030456,0.40449732127710786,0.43781193280334524,0.4362334648714506,0.4598438965869609],\"y\":[0.24734446559146542,0.16022701892686977,0.2011856922601595,0.2891243877932093,0.15543732562396886,0.18227447597975968,0.18650839719113063,0.1643880317026622,0.17038543229403438,0.166799143815942,0.17732972861486782,0.15924984884040372,0.14022934494688377,0.1307568883484158,0.1446542648167329,0.18864089408202916,0.15537733385166622,0.15604321399043874,0.20765392216889697,0.16814725992815419,0.16042244261890323,0.138919072065606,0.147380246522296,0.15702858131670197,0.14676623868229016,0.12315606032802177,0.15046748427777448,0.18583529764357584,0.14477450672188275,0.1486895094739144,0.12291209097136373,0.11928482118575173,0.1669120846176011,0.15430902702581442,0.14846001004920883,0.09833658930232314,0.10425480591590065,0.14235928412713025,0.16917356334661712,0.20342821528735422,0.02192670511298503,0.01306404715013404,0.037503362331747,0.013069034061477941,0.3860308691464146,0.2786333656083537,0.2371975730878219,0.2828389617448846,0.22159486687138819,0.27591916703959046,0.9094319807460236,0.2431023390300747,0.2638436865327088,0.26168092422369155,0.15014405179068852,0.2276926662172291,0.24369602531629622,0.26112314920012686,0.2544454852787078,0.24850913645236827,0.30647050419596733,0.2018355112509319,0.2552607039201805,0.24739601972762235,0.9307010760538333,0.23610667593752155,0.19229777038137008,0.21733483742319754,0.23404826327269368,0.2108989488261082,0.21958746521309455,0.18323196579697257,0.2655385158440261,0.2867207568153162,0.2351329230713778,0.27075029649845705,0.21709468135710555,0.25804239409436597,0.2540312661915515,0.22861894395279203,0.27505319615233514,0.21490945814652973,0.21030764088670006,0.2616932689181741,0.25583008804689056,0.26488576691546845,0.21812442021988623,0.8518144734282024,0.24438848281510306,0.20367659508363606,0.20940704020846004,0.18209583848157235,0.17493368205555895,0.27051803934035124,0.1819589261473208,0.27047665978747076,0.21655953754734314,0.2403343745972356,0.2339459017068388,0.2186067687801345,0.25641280837758784,0.18028593926927097,0.18527497857989408,0.24541859342106254,0.20600452297438313,0.20723183104730236,0.18131702873216773,0.27556795463221173,0.21856989916127487,0.2531114414408545,0.1888444042992404,0.19888518804143926,0.1844830204160668,0.2212471216412085,0.17476046843593745,0.17803045050249003,0.2455249140318796,0.26028468254302656,0.2129413137825188,0.1949102270026453,0.21350465149539163,0.26125931926214435,0.21511634534144336,0.23455924484653407,0.19338294042155793,0.2140210175885469,0.21646551800170122,0.04951160182839803,0.03300651341896019,0.05250628046416353,0.040566724500946255,0.046712755489009244,0.22187739090060327,0.16048258848328642,0.12306590290935042,0.2312924449657928,0.14484243696756235,0.8618676180012814,0.18582670278564897,0.22213829728815632,0.8180531131619806,0.11752819698661865,0.15141141713038272,0.11548921691615793,0.10601147281915245,0.13573110686599513,0.0962133874330768,0.0839111900046976,0.10247294263313753,0.11585536385490701,0.11019586979192053,0.07775810161346303,0.056714968406822414,0.05510745576885548,0.10115475017884386,0.06254828047339886,0.04377500928740455,0.2514257774629399,0.2558332779684507,0.22848504421731294,0.21116844417457353,0.23708720918970233,0.23165480286016343,0.19921454527492458,0.19184232134257137,0.19999406147144527,0.18850948401244275,0.2732027232854152,0.19750680882272048,0.23399020620479902,0.24347918959584688,0.22930309134522217,0.2218645150261594,0.2418152476309221,0.21997022460507173,0.1365349893145941,0.10635504470950471,0.152439025894354,0.12491637994404489,0.07503796222714146,0.0982281037472514,0.09026376176709526,0.07661779970643956,0.10285037500036948,0.08334940769557338,0.03583669169345227,0.02894303341883095,0.13609475333229282,0.10929243689450656,0.159158375962581,0.04992123970663817,0.08559680875242202,0.08511160972404275,0.05226423886179296,0.037196790304785426,0.2231616565303754,0.1968997279461872,0.22730143388486848,0.18994570120727905,0.324945967411159,0.15467608430376337,0.13749237189434882,0.13217451276596626,0.12952386933713222,0.11242186084180515,0.15812386546947646,0.19691353500037834,0.16904539599595597,0.25617618993380586,0.18291731012898702,0.18677435111438775,0.18773575004186466,0.19485403810371818,0.2138021872056015,0.14844080076603028,0.19194507086048465,0.15326541075541886,0.17949543469501128,0.15804316533789778,0.132745473456856,0.1396525812630459,0.16479224184560093,0.37399183019643256,0.28327207456186393,0.23580181048176888,0.18084408067982066,0.22847441170122337,0.24881839294735236,0.2806704409285529,0.23659450079844074,0.2174486497382437,0.20302783912989317,0.18220670435168343,0.2802680443830481,0.23053204959720996,0.3351700878863155,0.3425572005273533,0.23387111682130318,0.2335845152936942,0.26636527570309115,0.3073317481044981,0.17579913355784005,0.19528480435743772,0.2884803596214025,0.3141858516082562,0.17994561053722863,0.17765388905476567,0.2289070014996548,0.2372349647816733,0.20432081131138446,0.18881289872999965,0.23556089244182002,0.18641391449779937,0.1542610037122778,0.3561523790694062,0.22661118559858684,0.20114160193737624,0.13739720686806722,0.17913957090922428,0.2200186039196148,0.37295781761354263,0.21019552155899324,0.1474351727632705,0.19189526924675374,0.18184962929304663,0.104762468957991,0.26755370508618154,0.19170671719690022,0.1456705367685412,0.30369570056405515,0.16859501220990197,0.24644111492200063,0.16125881809776246,0.19929683251860528,0.11940885139573376,0.10614041489595898,0.0997902883687204,0.09641729221510145,0.27592880924257257,0.3011207449996567,0.332711992387815,0.324998772088855,0.20539580267563912,0.1811303674113357,0.2569318595317608,0.30186574804316946,1.0,0.21797079158142824,0.1943702961054946,0.20887725927204892,0.25186862999419357,0.22509933809790567,0.21343431188689757,0.27964341287968825,0.23999792108102017,0.21623224864387514,0.3646870372968744,0.24029549634961372,0.22016899332429515,0.23159054831502654,0.24877200043893571,0.2004320710400719,0.2536668273748496,0.23580556114389511,0.4263161255238497,0.24903404213134145,0.21785076344015938,0.2216701178533181,0.2201295663854553,0.207059163367267,0.2637247656321481,0.22231969418447134,0.19614859480840527,0.22355189820797297,0.18282506004160384,0.1974703743332714,0.20570527165347025,0.258804065175239,0.13097879488437536,0.1401785943708979,0.1987275444101507,0.18452279028776228,0.0,0.25245085721656574,0.25008291093186186,0.03426693261777847,0.1891611194958573,0.18244768620300508,0.26758765358796605],\"z\":[0.4513015713739516,0.39606248608081196,0.4364059964573393,0.491583354316036,0.39256406551309597,0.41753633729044015,0.42392353768015034,0.4105294802760193,0.4126936941564726,0.40435483532357647,0.4246433093467609,0.3857706781972186,0.37825280646416615,0.3762398810868438,0.3749484373342199,0.42483362773737277,0.39775905579656656,0.38376105939687544,0.48514873317833274,0.46761482367050167,0.47867724538368894,0.4593441961499758,0.4577360587022303,0.4569744009089639,0.4647671476858958,0.4563858508848643,0.46667101144034023,0.49021592609864717,0.463391175151126,0.4618352955772801,0.45034702200584503,0.4462393612983066,0.4941543636246049,0.48709351510802706,0.4830303416787735,0.4334880575069752,0.4359451546697569,0.46206052445791873,0.5111147833280629,0.5076606213531963,0.3333030030765773,0.3362528637751182,0.34553529256077753,0.33303037013791337,0.5578465344850263,0.48947276240948867,0.4641211200800436,0.5013193626352965,0.4506951089917153,0.4995657501044116,0.04892189916271428,0.4659085070208853,0.47513552921926694,0.4760487992242011,0.4522877693427003,0.4293001862837418,0.46230546497242675,0.48569195214910643,0.4720582442573173,0.48321480770470315,0.5053418705126074,0.43557683328582986,0.4693320934885406,0.4839849012089878,0.04722648205148583,0.4694869144779005,0.4111014616708211,0.4295439794852018,0.46913093747953066,0.43392149025091575,0.4368343306018273,0.4217947372064909,0.4934075187078751,0.4992878904734123,0.47776961816245195,0.5056091588458957,0.4378749344176886,0.4869899623518126,0.4836133516753647,0.4562579128762324,0.4935564214178583,0.4627824348734955,0.4475343377893553,0.5039920286412966,0.5071814255770256,0.5067259806530627,0.4589995409860015,0.0,0.46854980323978224,0.4144030864771392,0.4634578987476134,0.4173261792568302,0.4657567552672224,0.5292344367309625,0.4630739849719135,0.5279652933691218,0.4874057897143268,0.5054208720882553,0.49762310670410886,0.4818586196527279,0.5240900081725443,0.4560179745986074,0.4695401838776639,0.5179718808019109,0.4852403696266451,0.48881156885826393,0.4683484703879607,0.5376307087648926,0.5032019082351917,0.5470415796007272,0.4725443720139428,0.48395666820396355,0.4839323765765714,0.5014795476723958,0.48433200640446444,0.46750175529387084,0.5345409415084048,0.537512922972132,0.5086967071371875,0.48130387493975935,0.5303369586953217,0.5324668165111885,0.5039392362393904,0.5310522172161748,0.4838404303333839,0.5244024717562814,0.5282002969585733,0.3848096553895525,0.373096600103279,0.38807582855572936,0.38262424343029555,0.3945653232483003,0.5932273514328131,0.5455963456568523,0.5179695902199879,0.5977090997916906,0.5412522468559567,0.16081557232704657,0.5685280607392642,0.5931180502155362,0.10455378666478282,0.40833031800270037,0.4458101010655502,0.403053671638395,0.4143564503165468,0.41472191745063014,0.40665670667087517,0.38525518791501157,0.39121070343856834,0.40057505350977896,0.4062189688391725,0.3894313699652493,0.37898414120864954,0.3689542826827541,0.39550713901937656,0.39229000393052016,0.3756467847562894,0.582283334047704,0.6240625693680976,0.5917161765099105,0.5450256341921315,0.5705070065681912,0.5710814527310324,0.5345653627574182,0.5311491827125193,0.5343693278733848,0.5317951036835995,0.5951842547782218,0.5341746621811142,0.579240816653426,0.5768310038611728,0.6094639234565351,0.5461024091089516,0.5817760091525896,0.5707253207833889,0.4381041513321979,0.45468290536276373,0.4885210531165878,0.46545252366785206,0.4286710729628079,0.43683794933921033,0.43329209352932285,0.44571264752163425,0.44943177912555515,0.43093930761817806,0.399732071132598,0.3866399470068456,0.4814516213029481,0.46792817954304866,0.49937944959722813,0.4113791926626716,0.44598151269875147,0.44633873108629646,0.40047217838919064,0.4063010497853367,0.545811804486364,0.5362146369219417,0.5808942352303187,0.548253470219178,0.6156489278840307,0.5247629334693842,0.49581097593587686,0.49272350845586455,0.49293755123975685,0.4769171305987935,0.5244259339770317,0.46537576449008294,0.44659505668500404,0.5134157404208524,0.45513784202486823,0.45126644918045844,0.4616523341919583,0.4607243023511979,0.4694318404436128,0.4237036802286186,0.46234525326438103,0.43620302778775516,0.45675092230312325,0.44103467253145606,0.42435423981344067,0.4354366397962568,0.4479600612354434,0.5641036788744547,0.5022939132336793,0.47054684650820255,0.4326134135838682,0.4623091283760837,0.477190662023377,0.49816301323669937,0.47443295105877753,0.4659714273583564,0.42858504053429775,0.4352022489808896,0.5005967285489136,0.4598559465606007,0.5322937718550509,0.5530603766618444,0.4606965536717765,0.4806156602765166,0.48226797776732616,0.5180344368210367,0.4420134941994328,0.43792125133561477,0.5059051493681698,0.5249634007854622,0.4391622731196873,0.44019866299497423,0.4685309308433161,0.4757196172797282,0.451558072517941,0.4481937096831182,0.4799221693594967,0.4514704902707067,0.4149403005842908,0.5583584335891306,0.4555630545495459,0.43357256765579155,0.40232576022676597,0.45656631593186137,0.45387756409290014,0.5468387481797305,0.46253538961549384,0.40195233121837454,0.43713034131821055,0.43748508961331545,0.3770269693834827,0.5187780858137168,0.42660716121756,0.3917155616093657,0.5013865306516283,0.4339159418301847,0.48598818301259367,0.4209958478812589,0.42841750147692576,0.38617986948331207,0.3730506861503234,0.36925171079893687,0.36683823360764556,0.5193812949966704,0.5285471410971463,0.5402240962982032,0.5397193819791916,0.45478594727677235,0.45169684501873436,0.5115472828257672,0.5252661688754711,1.0,0.46734325421621903,0.45137979355716784,0.4619743737554785,0.4922520983850038,0.4743007684550397,0.4747862350768556,0.5239663099486147,0.48514941530478833,0.47537306998689116,0.5646917063800473,0.5006787123592862,0.4804749116279372,0.4940643635202013,0.489619656651141,0.46041624008133447,0.509254483037818,0.4951945490810404,0.6175830377974397,0.5047874940719448,0.4769493461783544,0.4630276930422616,0.46817416379925125,0.46549763934097593,0.5215327292515188,0.48478539441498253,0.45538437118230535,0.47611775561703484,0.4638368684677027,0.4536280347882217,0.47518177961569125,0.5009566765576386,0.40857018830158975,0.40983066566503246,0.5449513965464947,0.40795619211316264,0.33249480640646056,0.47979042656590326,0.490964977528521,0.4029641309394979,0.44836130276521,0.44997024483757975,0.49942149312188955],\"type\":\"scatter3d\"}],                        {\"legend\":{\"bgcolor\":\"#F5F6F9\",\"font\":{\"color\":\"#4D5663\"}},\"paper_bgcolor\":\"#F5F6F9\",\"plot_bgcolor\":\"#F5F6F9\",\"scene\":{\"xaxis\":{\"gridcolor\":\"#9499A3\",\"showgrid\":true,\"tickfont\":{\"color\":\"#4D5663\"},\"title\":{\"font\":{\"color\":\"#4D5663\"},\"text\":\"\"},\"zerolinecolor\":\"#9499A3\"},\"yaxis\":{\"gridcolor\":\"#9499A3\",\"showgrid\":true,\"tickfont\":{\"color\":\"#4D5663\"},\"title\":{\"font\":{\"color\":\"#4D5663\"},\"text\":\"\"},\"zerolinecolor\":\"#9499A3\"},\"zaxis\":{\"gridcolor\":\"#9499A3\",\"showgrid\":true,\"tickfont\":{\"color\":\"#4D5663\"},\"title\":{\"font\":{\"color\":\"#4D5663\"},\"text\":\"\"},\"zerolinecolor\":\"#9499A3\"}},\"template\":{\"data\":{\"barpolar\":[{\"marker\":{\"line\":{\"color\":\"#E5ECF6\",\"width\":0.5},\"pattern\":{\"fillmode\":\"overlay\",\"size\":10,\"solidity\":0.2}},\"type\":\"barpolar\"}],\"bar\":[{\"error_x\":{\"color\":\"#2a3f5f\"},\"error_y\":{\"color\":\"#2a3f5f\"},\"marker\":{\"line\":{\"color\":\"#E5ECF6\",\"width\":0.5},\"pattern\":{\"fillmode\":\"overlay\",\"size\":10,\"solidity\":0.2}},\"type\":\"bar\"}],\"carpet\":[{\"aaxis\":{\"endlinecolor\":\"#2a3f5f\",\"gridcolor\":\"white\",\"linecolor\":\"white\",\"minorgridcolor\":\"white\",\"startlinecolor\":\"#2a3f5f\"},\"baxis\":{\"endlinecolor\":\"#2a3f5f\",\"gridcolor\":\"white\",\"linecolor\":\"white\",\"minorgridcolor\":\"white\",\"startlinecolor\":\"#2a3f5f\"},\"type\":\"carpet\"}],\"choropleth\":[{\"colorbar\":{\"outlinewidth\":0,\"ticks\":\"\"},\"type\":\"choropleth\"}],\"contourcarpet\":[{\"colorbar\":{\"outlinewidth\":0,\"ticks\":\"\"},\"type\":\"contourcarpet\"}],\"contour\":[{\"colorbar\":{\"outlinewidth\":0,\"ticks\":\"\"},\"colorscale\":[[0.0,\"#0d0887\"],[0.1111111111111111,\"#46039f\"],[0.2222222222222222,\"#7201a8\"],[0.3333333333333333,\"#9c179e\"],[0.4444444444444444,\"#bd3786\"],[0.5555555555555556,\"#d8576b\"],[0.6666666666666666,\"#ed7953\"],[0.7777777777777778,\"#fb9f3a\"],[0.8888888888888888,\"#fdca26\"],[1.0,\"#f0f921\"]],\"type\":\"contour\"}],\"heatmapgl\":[{\"colorbar\":{\"outlinewidth\":0,\"ticks\":\"\"},\"colorscale\":[[0.0,\"#0d0887\"],[0.1111111111111111,\"#46039f\"],[0.2222222222222222,\"#7201a8\"],[0.3333333333333333,\"#9c179e\"],[0.4444444444444444,\"#bd3786\"],[0.5555555555555556,\"#d8576b\"],[0.6666666666666666,\"#ed7953\"],[0.7777777777777778,\"#fb9f3a\"],[0.8888888888888888,\"#fdca26\"],[1.0,\"#f0f921\"]],\"type\":\"heatmapgl\"}],\"heatmap\":[{\"colorbar\":{\"outlinewidth\":0,\"ticks\":\"\"},\"colorscale\":[[0.0,\"#0d0887\"],[0.1111111111111111,\"#46039f\"],[0.2222222222222222,\"#7201a8\"],[0.3333333333333333,\"#9c179e\"],[0.4444444444444444,\"#bd3786\"],[0.5555555555555556,\"#d8576b\"],[0.6666666666666666,\"#ed7953\"],[0.7777777777777778,\"#fb9f3a\"],[0.8888888888888888,\"#fdca26\"],[1.0,\"#f0f921\"]],\"type\":\"heatmap\"}],\"histogram2dcontour\":[{\"colorbar\":{\"outlinewidth\":0,\"ticks\":\"\"},\"colorscale\":[[0.0,\"#0d0887\"],[0.1111111111111111,\"#46039f\"],[0.2222222222222222,\"#7201a8\"],[0.3333333333333333,\"#9c179e\"],[0.4444444444444444,\"#bd3786\"],[0.5555555555555556,\"#d8576b\"],[0.6666666666666666,\"#ed7953\"],[0.7777777777777778,\"#fb9f3a\"],[0.8888888888888888,\"#fdca26\"],[1.0,\"#f0f921\"]],\"type\":\"histogram2dcontour\"}],\"histogram2d\":[{\"colorbar\":{\"outlinewidth\":0,\"ticks\":\"\"},\"colorscale\":[[0.0,\"#0d0887\"],[0.1111111111111111,\"#46039f\"],[0.2222222222222222,\"#7201a8\"],[0.3333333333333333,\"#9c179e\"],[0.4444444444444444,\"#bd3786\"],[0.5555555555555556,\"#d8576b\"],[0.6666666666666666,\"#ed7953\"],[0.7777777777777778,\"#fb9f3a\"],[0.8888888888888888,\"#fdca26\"],[1.0,\"#f0f921\"]],\"type\":\"histogram2d\"}],\"histogram\":[{\"marker\":{\"pattern\":{\"fillmode\":\"overlay\",\"size\":10,\"solidity\":0.2}},\"type\":\"histogram\"}],\"mesh3d\":[{\"colorbar\":{\"outlinewidth\":0,\"ticks\":\"\"},\"type\":\"mesh3d\"}],\"parcoords\":[{\"line\":{\"colorbar\":{\"outlinewidth\":0,\"ticks\":\"\"}},\"type\":\"parcoords\"}],\"pie\":[{\"automargin\":true,\"type\":\"pie\"}],\"scatter3d\":[{\"line\":{\"colorbar\":{\"outlinewidth\":0,\"ticks\":\"\"}},\"marker\":{\"colorbar\":{\"outlinewidth\":0,\"ticks\":\"\"}},\"type\":\"scatter3d\"}],\"scattercarpet\":[{\"marker\":{\"colorbar\":{\"outlinewidth\":0,\"ticks\":\"\"}},\"type\":\"scattercarpet\"}],\"scattergeo\":[{\"marker\":{\"colorbar\":{\"outlinewidth\":0,\"ticks\":\"\"}},\"type\":\"scattergeo\"}],\"scattergl\":[{\"marker\":{\"colorbar\":{\"outlinewidth\":0,\"ticks\":\"\"}},\"type\":\"scattergl\"}],\"scattermapbox\":[{\"marker\":{\"colorbar\":{\"outlinewidth\":0,\"ticks\":\"\"}},\"type\":\"scattermapbox\"}],\"scatterpolargl\":[{\"marker\":{\"colorbar\":{\"outlinewidth\":0,\"ticks\":\"\"}},\"type\":\"scatterpolargl\"}],\"scatterpolar\":[{\"marker\":{\"colorbar\":{\"outlinewidth\":0,\"ticks\":\"\"}},\"type\":\"scatterpolar\"}],\"scatter\":[{\"fillpattern\":{\"fillmode\":\"overlay\",\"size\":10,\"solidity\":0.2},\"type\":\"scatter\"}],\"scatterternary\":[{\"marker\":{\"colorbar\":{\"outlinewidth\":0,\"ticks\":\"\"}},\"type\":\"scatterternary\"}],\"surface\":[{\"colorbar\":{\"outlinewidth\":0,\"ticks\":\"\"},\"colorscale\":[[0.0,\"#0d0887\"],[0.1111111111111111,\"#46039f\"],[0.2222222222222222,\"#7201a8\"],[0.3333333333333333,\"#9c179e\"],[0.4444444444444444,\"#bd3786\"],[0.5555555555555556,\"#d8576b\"],[0.6666666666666666,\"#ed7953\"],[0.7777777777777778,\"#fb9f3a\"],[0.8888888888888888,\"#fdca26\"],[1.0,\"#f0f921\"]],\"type\":\"surface\"}],\"table\":[{\"cells\":{\"fill\":{\"color\":\"#EBF0F8\"},\"line\":{\"color\":\"white\"}},\"header\":{\"fill\":{\"color\":\"#C8D4E3\"},\"line\":{\"color\":\"white\"}},\"type\":\"table\"}]},\"layout\":{\"annotationdefaults\":{\"arrowcolor\":\"#2a3f5f\",\"arrowhead\":0,\"arrowwidth\":1},\"autotypenumbers\":\"strict\",\"coloraxis\":{\"colorbar\":{\"outlinewidth\":0,\"ticks\":\"\"}},\"colorscale\":{\"diverging\":[[0,\"#8e0152\"],[0.1,\"#c51b7d\"],[0.2,\"#de77ae\"],[0.3,\"#f1b6da\"],[0.4,\"#fde0ef\"],[0.5,\"#f7f7f7\"],[0.6,\"#e6f5d0\"],[0.7,\"#b8e186\"],[0.8,\"#7fbc41\"],[0.9,\"#4d9221\"],[1,\"#276419\"]],\"sequential\":[[0.0,\"#0d0887\"],[0.1111111111111111,\"#46039f\"],[0.2222222222222222,\"#7201a8\"],[0.3333333333333333,\"#9c179e\"],[0.4444444444444444,\"#bd3786\"],[0.5555555555555556,\"#d8576b\"],[0.6666666666666666,\"#ed7953\"],[0.7777777777777778,\"#fb9f3a\"],[0.8888888888888888,\"#fdca26\"],[1.0,\"#f0f921\"]],\"sequentialminus\":[[0.0,\"#0d0887\"],[0.1111111111111111,\"#46039f\"],[0.2222222222222222,\"#7201a8\"],[0.3333333333333333,\"#9c179e\"],[0.4444444444444444,\"#bd3786\"],[0.5555555555555556,\"#d8576b\"],[0.6666666666666666,\"#ed7953\"],[0.7777777777777778,\"#fb9f3a\"],[0.8888888888888888,\"#fdca26\"],[1.0,\"#f0f921\"]]},\"colorway\":[\"#636efa\",\"#EF553B\",\"#00cc96\",\"#ab63fa\",\"#FFA15A\",\"#19d3f3\",\"#FF6692\",\"#B6E880\",\"#FF97FF\",\"#FECB52\"],\"font\":{\"color\":\"#2a3f5f\"},\"geo\":{\"bgcolor\":\"white\",\"lakecolor\":\"white\",\"landcolor\":\"#E5ECF6\",\"showlakes\":true,\"showland\":true,\"subunitcolor\":\"white\"},\"hoverlabel\":{\"align\":\"left\"},\"hovermode\":\"closest\",\"mapbox\":{\"style\":\"light\"},\"paper_bgcolor\":\"white\",\"plot_bgcolor\":\"#E5ECF6\",\"polar\":{\"angularaxis\":{\"gridcolor\":\"white\",\"linecolor\":\"white\",\"ticks\":\"\"},\"bgcolor\":\"#E5ECF6\",\"radialaxis\":{\"gridcolor\":\"white\",\"linecolor\":\"white\",\"ticks\":\"\"}},\"scene\":{\"xaxis\":{\"backgroundcolor\":\"#E5ECF6\",\"gridcolor\":\"white\",\"gridwidth\":2,\"linecolor\":\"white\",\"showbackground\":true,\"ticks\":\"\",\"zerolinecolor\":\"white\"},\"yaxis\":{\"backgroundcolor\":\"#E5ECF6\",\"gridcolor\":\"white\",\"gridwidth\":2,\"linecolor\":\"white\",\"showbackground\":true,\"ticks\":\"\",\"zerolinecolor\":\"white\"},\"zaxis\":{\"backgroundcolor\":\"#E5ECF6\",\"gridcolor\":\"white\",\"gridwidth\":2,\"linecolor\":\"white\",\"showbackground\":true,\"ticks\":\"\",\"zerolinecolor\":\"white\"}},\"shapedefaults\":{\"line\":{\"color\":\"#2a3f5f\"}},\"ternary\":{\"aaxis\":{\"gridcolor\":\"white\",\"linecolor\":\"white\",\"ticks\":\"\"},\"baxis\":{\"gridcolor\":\"white\",\"linecolor\":\"white\",\"ticks\":\"\"},\"bgcolor\":\"#E5ECF6\",\"caxis\":{\"gridcolor\":\"white\",\"linecolor\":\"white\",\"ticks\":\"\"}},\"title\":{\"x\":0.05},\"xaxis\":{\"automargin\":true,\"gridcolor\":\"white\",\"linecolor\":\"white\",\"ticks\":\"\",\"title\":{\"standoff\":15},\"zerolinecolor\":\"white\",\"zerolinewidth\":2},\"yaxis\":{\"automargin\":true,\"gridcolor\":\"white\",\"linecolor\":\"white\",\"ticks\":\"\",\"title\":{\"standoff\":15},\"zerolinecolor\":\"white\",\"zerolinewidth\":2}}},\"title\":{\"font\":{\"color\":\"#4D5663\"}}},                        {\"showLink\": true, \"linkText\": \"Export to plot.ly\", \"plotlyServerURL\": \"https://plot.ly\", \"responsive\": true}                    ).then(function(){\n",
       "                            \n",
       "var gd = document.getElementById('3ba3767c-1a95-49ec-91ad-21aaf7981a3f');\n",
       "var x = new MutationObserver(function (mutations, observer) {{\n",
       "        var display = window.getComputedStyle(gd).display;\n",
       "        if (!display || display === 'none') {{\n",
       "            console.log([gd, 'removed!']);\n",
       "            Plotly.purge(gd);\n",
       "            observer.disconnect();\n",
       "        }}\n",
       "}});\n",
       "\n",
       "// Listen for the removal of the full notebook cells\n",
       "var notebookContainer = gd.closest('#notebook-container');\n",
       "if (notebookContainer) {{\n",
       "    x.observe(notebookContainer, {childList: true});\n",
       "}}\n",
       "\n",
       "// Listen for the clearing of the current output cell\n",
       "var outputEl = gd.closest('.output');\n",
       "if (outputEl) {{\n",
       "    x.observe(outputEl, {childList: true});\n",
       "}}\n",
       "\n",
       "                        })                };                });            </script>        </div>"
      ]
     },
     "metadata": {},
     "output_type": "display_data"
    }
   ],
   "source": [
    "Xp.iplot(kind='scatter3d',x='p1',y='p2',z='p3',mode='markers',size=10,color='purple', text='nombre')\n"
   ]
  },
  {
   "cell_type": "code",
   "execution_count": null,
   "metadata": {},
   "outputs": [],
   "source": []
  }
 ],
 "metadata": {
  "kernelspec": {
   "display_name": "tse",
   "language": "python",
   "name": "python3"
  },
  "language_info": {
   "codemirror_mode": {
    "name": "ipython",
    "version": 3
   },
   "file_extension": ".py",
   "mimetype": "text/x-python",
   "name": "python",
   "nbconvert_exporter": "python",
   "pygments_lexer": "ipython3",
   "version": "3.10.12"
  }
 },
 "nbformat": 4,
 "nbformat_minor": 2
}
