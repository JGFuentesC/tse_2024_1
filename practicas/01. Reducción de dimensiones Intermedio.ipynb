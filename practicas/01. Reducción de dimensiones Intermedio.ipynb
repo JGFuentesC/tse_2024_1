{
 "cells": [
  {
   "cell_type": "markdown",
   "metadata": {},
   "source": [
    "## Dependencias"
   ]
  },
  {
   "cell_type": "code",
   "execution_count": 36,
   "metadata": {},
   "outputs": [
    {
     "data": {
      "text/html": [
       "        <script type=\"text/javascript\">\n",
       "        window.PlotlyConfig = {MathJaxConfig: 'local'};\n",
       "        if (window.MathJax && window.MathJax.Hub && window.MathJax.Hub.Config) {window.MathJax.Hub.Config({SVG: {font: \"STIX-Web\"}});}\n",
       "        if (typeof require !== 'undefined') {\n",
       "        require.undef(\"plotly\");\n",
       "        requirejs.config({\n",
       "            paths: {\n",
       "                'plotly': ['https://cdn.plot.ly/plotly-2.25.2.min']\n",
       "            }\n",
       "        });\n",
       "        require(['plotly'], function(Plotly) {\n",
       "            window._Plotly = Plotly;\n",
       "        });\n",
       "        }\n",
       "        </script>\n",
       "        "
      ]
     },
     "metadata": {},
     "output_type": "display_data"
    }
   ],
   "source": [
    "import pandas as pd\n",
    "from sklearn.decomposition import PCA\n",
    "from sklearn.preprocessing import StandardScaler,MinMaxScaler\n",
    "from sklearn.manifold import TSNE,MDS\n",
    "\n",
    "from sklearn.impute import SimpleImputer\n",
    "\n",
    "from sklearn.datasets import load_iris\n",
    "\n",
    "import matplotlib.pyplot as plt\n",
    "import seaborn as sns\n",
    "import cufflinks as cf\n",
    "\n",
    "from varclushi import VarClusHi\n",
    "\n",
    "from scipy import stats\n",
    "\n",
    "cf.go_offline()\n",
    "pd.set_option('display.max_columns', None)"
   ]
  },
  {
   "cell_type": "markdown",
   "metadata": {},
   "source": [
    "## Datos"
   ]
  },
  {
   "cell_type": "code",
   "execution_count": 4,
   "metadata": {},
   "outputs": [],
   "source": [
    "ruta = '/media/jose/090f6b94-de30-4aaf-9f8a-4e18b120d7f6/bd/01. Simples/pure_ml/train.csv'"
   ]
  },
  {
   "cell_type": "code",
   "execution_count": 5,
   "metadata": {},
   "outputs": [
    {
     "name": "stdout",
     "output_type": "stream",
     "text": [
      "(9294, 55)\n"
     ]
    },
    {
     "data": {
      "text/html": [
       "<div>\n",
       "<style scoped>\n",
       "    .dataframe tbody tr th:only-of-type {\n",
       "        vertical-align: middle;\n",
       "    }\n",
       "\n",
       "    .dataframe tbody tr th {\n",
       "        vertical-align: top;\n",
       "    }\n",
       "\n",
       "    .dataframe thead th {\n",
       "        text-align: right;\n",
       "    }\n",
       "</style>\n",
       "<table border=\"1\" class=\"dataframe\">\n",
       "  <thead>\n",
       "    <tr style=\"text-align: right;\">\n",
       "      <th></th>\n",
       "      <th>ID</th>\n",
       "      <th>C_01</th>\n",
       "      <th>C_02</th>\n",
       "      <th>C_03</th>\n",
       "      <th>C_04</th>\n",
       "      <th>C_05</th>\n",
       "      <th>C_06</th>\n",
       "      <th>C_07</th>\n",
       "      <th>C_08</th>\n",
       "      <th>C_09</th>\n",
       "      <th>...</th>\n",
       "      <th>C_45</th>\n",
       "      <th>C_46</th>\n",
       "      <th>C_47</th>\n",
       "      <th>C_48</th>\n",
       "      <th>C_49</th>\n",
       "      <th>C_50</th>\n",
       "      <th>C_51</th>\n",
       "      <th>C_52</th>\n",
       "      <th>D_1</th>\n",
       "      <th>TARGET</th>\n",
       "    </tr>\n",
       "  </thead>\n",
       "  <tbody>\n",
       "    <tr>\n",
       "      <th>0</th>\n",
       "      <td>674</td>\n",
       "      <td>41.902848</td>\n",
       "      <td>-87.643360</td>\n",
       "      <td>41.901540</td>\n",
       "      <td>-87.648066</td>\n",
       "      <td>41.901002</td>\n",
       "      <td>-87.642246</td>\n",
       "      <td>41.901952</td>\n",
       "      <td>-87.649264</td>\n",
       "      <td>41.900381</td>\n",
       "      <td>...</td>\n",
       "      <td>1114</td>\n",
       "      <td>607.755835</td>\n",
       "      <td>18.2125</td>\n",
       "      <td>0.442469</td>\n",
       "      <td>12.577837</td>\n",
       "      <td>0.089440</td>\n",
       "      <td>0.385996</td>\n",
       "      <td>0.013465</td>\n",
       "      <td>cat11</td>\n",
       "      <td>0.0</td>\n",
       "    </tr>\n",
       "    <tr>\n",
       "      <th>1</th>\n",
       "      <td>7397</td>\n",
       "      <td>NaN</td>\n",
       "      <td>NaN</td>\n",
       "      <td>NaN</td>\n",
       "      <td>NaN</td>\n",
       "      <td>NaN</td>\n",
       "      <td>NaN</td>\n",
       "      <td>NaN</td>\n",
       "      <td>NaN</td>\n",
       "      <td>NaN</td>\n",
       "      <td>...</td>\n",
       "      <td>981</td>\n",
       "      <td>800.978593</td>\n",
       "      <td>514.1375</td>\n",
       "      <td>0.429966</td>\n",
       "      <td>16.390591</td>\n",
       "      <td>0.069741</td>\n",
       "      <td>0.174312</td>\n",
       "      <td>0.260958</td>\n",
       "      <td>cat01</td>\n",
       "      <td>0.0</td>\n",
       "    </tr>\n",
       "    <tr>\n",
       "      <th>2</th>\n",
       "      <td>11558</td>\n",
       "      <td>41.891421</td>\n",
       "      <td>-87.641041</td>\n",
       "      <td>41.897380</td>\n",
       "      <td>-87.651233</td>\n",
       "      <td>41.892190</td>\n",
       "      <td>-87.645894</td>\n",
       "      <td>41.898590</td>\n",
       "      <td>-87.651771</td>\n",
       "      <td>41.892631</td>\n",
       "      <td>...</td>\n",
       "      <td>706</td>\n",
       "      <td>699.008499</td>\n",
       "      <td>231.2625</td>\n",
       "      <td>0.357551</td>\n",
       "      <td>12.856969</td>\n",
       "      <td>0.094956</td>\n",
       "      <td>0.100567</td>\n",
       "      <td>0.055241</td>\n",
       "      <td>cat01</td>\n",
       "      <td>0.0</td>\n",
       "    </tr>\n",
       "    <tr>\n",
       "      <th>3</th>\n",
       "      <td>463</td>\n",
       "      <td>41.894619</td>\n",
       "      <td>-87.664955</td>\n",
       "      <td>41.896899</td>\n",
       "      <td>-87.657375</td>\n",
       "      <td>41.899288</td>\n",
       "      <td>-87.667246</td>\n",
       "      <td>41.897670</td>\n",
       "      <td>-87.658840</td>\n",
       "      <td>41.900640</td>\n",
       "      <td>...</td>\n",
       "      <td>947</td>\n",
       "      <td>633.389652</td>\n",
       "      <td>391.8000</td>\n",
       "      <td>0.334950</td>\n",
       "      <td>14.844393</td>\n",
       "      <td>0.087593</td>\n",
       "      <td>0.271383</td>\n",
       "      <td>0.155227</td>\n",
       "      <td>cat04</td>\n",
       "      <td>0.0</td>\n",
       "    </tr>\n",
       "    <tr>\n",
       "      <th>4</th>\n",
       "      <td>2409</td>\n",
       "      <td>41.896174</td>\n",
       "      <td>-87.649482</td>\n",
       "      <td>41.896501</td>\n",
       "      <td>-87.647639</td>\n",
       "      <td>41.895677</td>\n",
       "      <td>-87.646345</td>\n",
       "      <td>41.896954</td>\n",
       "      <td>-87.644895</td>\n",
       "      <td>41.896052</td>\n",
       "      <td>...</td>\n",
       "      <td>917</td>\n",
       "      <td>714.956332</td>\n",
       "      <td>80.7750</td>\n",
       "      <td>0.454336</td>\n",
       "      <td>12.954656</td>\n",
       "      <td>0.077860</td>\n",
       "      <td>0.149400</td>\n",
       "      <td>0.030534</td>\n",
       "      <td>cat07</td>\n",
       "      <td>0.0</td>\n",
       "    </tr>\n",
       "  </tbody>\n",
       "</table>\n",
       "<p>5 rows × 55 columns</p>\n",
       "</div>"
      ],
      "text/plain": [
       "      ID       C_01       C_02       C_03       C_04       C_05       C_06  \\\n",
       "0    674  41.902848 -87.643360  41.901540 -87.648066  41.901002 -87.642246   \n",
       "1   7397        NaN        NaN        NaN        NaN        NaN        NaN   \n",
       "2  11558  41.891421 -87.641041  41.897380 -87.651233  41.892190 -87.645894   \n",
       "3    463  41.894619 -87.664955  41.896899 -87.657375  41.899288 -87.667246   \n",
       "4   2409  41.896174 -87.649482  41.896501 -87.647639  41.895677 -87.646345   \n",
       "\n",
       "        C_07       C_08       C_09  ...  C_45        C_46      C_47      C_48  \\\n",
       "0  41.901952 -87.649264  41.900381  ...  1114  607.755835   18.2125  0.442469   \n",
       "1        NaN        NaN        NaN  ...   981  800.978593  514.1375  0.429966   \n",
       "2  41.898590 -87.651771  41.892631  ...   706  699.008499  231.2625  0.357551   \n",
       "3  41.897670 -87.658840  41.900640  ...   947  633.389652  391.8000  0.334950   \n",
       "4  41.896954 -87.644895  41.896052  ...   917  714.956332   80.7750  0.454336   \n",
       "\n",
       "        C_49      C_50      C_51      C_52    D_1  TARGET  \n",
       "0  12.577837  0.089440  0.385996  0.013465  cat11     0.0  \n",
       "1  16.390591  0.069741  0.174312  0.260958  cat01     0.0  \n",
       "2  12.856969  0.094956  0.100567  0.055241  cat01     0.0  \n",
       "3  14.844393  0.087593  0.271383  0.155227  cat04     0.0  \n",
       "4  12.954656  0.077860  0.149400  0.030534  cat07     0.0  \n",
       "\n",
       "[5 rows x 55 columns]"
      ]
     },
     "execution_count": 5,
     "metadata": {},
     "output_type": "execute_result"
    }
   ],
   "source": [
    "df = pd.read_csv(ruta)\n",
    "print(df.shape)\n",
    "df.head()"
   ]
  },
  {
   "cell_type": "markdown",
   "metadata": {},
   "source": [
    "## Análisis Exploratorio de Datos"
   ]
  },
  {
   "cell_type": "markdown",
   "metadata": {},
   "source": [
    "### Categorización de variables"
   ]
  },
  {
   "cell_type": "code",
   "execution_count": 6,
   "metadata": {},
   "outputs": [
    {
     "data": {
      "text/plain": [
       "(['C_01', 'C_02', 'C_03', 'C_04', 'C_05'], 52)"
      ]
     },
     "execution_count": 6,
     "metadata": {},
     "output_type": "execute_result"
    }
   ],
   "source": [
    "varc = list(df.filter(like='C_').columns)\n",
    "varc[:5],len(varc)"
   ]
  },
  {
   "cell_type": "markdown",
   "metadata": {},
   "source": [
    "### Ausentes"
   ]
  },
  {
   "cell_type": "code",
   "execution_count": 17,
   "metadata": {},
   "outputs": [
    {
     "data": {
      "text/html": [
       "<div>\n",
       "<style scoped>\n",
       "    .dataframe tbody tr th:only-of-type {\n",
       "        vertical-align: middle;\n",
       "    }\n",
       "\n",
       "    .dataframe tbody tr th {\n",
       "        vertical-align: top;\n",
       "    }\n",
       "\n",
       "    .dataframe thead th {\n",
       "        text-align: right;\n",
       "    }\n",
       "</style>\n",
       "<table border=\"1\" class=\"dataframe\">\n",
       "  <thead>\n",
       "    <tr style=\"text-align: right;\">\n",
       "      <th></th>\n",
       "      <th>ID</th>\n",
       "      <th>C_17</th>\n",
       "      <th>C_18</th>\n",
       "      <th>C_19</th>\n",
       "      <th>C_20</th>\n",
       "      <th>C_22</th>\n",
       "      <th>C_23</th>\n",
       "      <th>C_24</th>\n",
       "      <th>C_25</th>\n",
       "      <th>C_26</th>\n",
       "      <th>C_27</th>\n",
       "      <th>C_28</th>\n",
       "      <th>C_29</th>\n",
       "      <th>C_31</th>\n",
       "      <th>C_32</th>\n",
       "      <th>C_33</th>\n",
       "      <th>C_34</th>\n",
       "      <th>C_35</th>\n",
       "      <th>C_36</th>\n",
       "      <th>C_37</th>\n",
       "      <th>C_38</th>\n",
       "      <th>C_39</th>\n",
       "      <th>C_40</th>\n",
       "      <th>C_41</th>\n",
       "      <th>C_42</th>\n",
       "      <th>C_43</th>\n",
       "      <th>C_44</th>\n",
       "      <th>C_45</th>\n",
       "      <th>C_46</th>\n",
       "      <th>C_47</th>\n",
       "      <th>C_48</th>\n",
       "      <th>C_49</th>\n",
       "      <th>C_50</th>\n",
       "      <th>C_51</th>\n",
       "      <th>C_52</th>\n",
       "      <th>D_1</th>\n",
       "      <th>TARGET</th>\n",
       "    </tr>\n",
       "  </thead>\n",
       "  <tbody>\n",
       "    <tr>\n",
       "      <th>0</th>\n",
       "      <td>674</td>\n",
       "      <td>279.80</td>\n",
       "      <td>253.0</td>\n",
       "      <td>636.521739</td>\n",
       "      <td>17.20</td>\n",
       "      <td>12.512055</td>\n",
       "      <td>0.076062</td>\n",
       "      <td>0.458498</td>\n",
       "      <td>0.003953</td>\n",
       "      <td>592.67</td>\n",
       "      <td>524.0</td>\n",
       "      <td>637.442748</td>\n",
       "      <td>18.300</td>\n",
       "      <td>12.815210</td>\n",
       "      <td>0.079497</td>\n",
       "      <td>0.446565</td>\n",
       "      <td>0.007634</td>\n",
       "      <td>985.08</td>\n",
       "      <td>803.0</td>\n",
       "      <td>613.524284</td>\n",
       "      <td>17.633333</td>\n",
       "      <td>0.464201</td>\n",
       "      <td>12.550535</td>\n",
       "      <td>0.089379</td>\n",
       "      <td>0.405978</td>\n",
       "      <td>0.011208</td>\n",
       "      <td>1416.46</td>\n",
       "      <td>1114</td>\n",
       "      <td>607.755835</td>\n",
       "      <td>18.2125</td>\n",
       "      <td>0.442469</td>\n",
       "      <td>12.577837</td>\n",
       "      <td>0.089440</td>\n",
       "      <td>0.385996</td>\n",
       "      <td>0.013465</td>\n",
       "      <td>cat11</td>\n",
       "      <td>0.0</td>\n",
       "    </tr>\n",
       "    <tr>\n",
       "      <th>1</th>\n",
       "      <td>7397</td>\n",
       "      <td>424.60</td>\n",
       "      <td>261.0</td>\n",
       "      <td>964.137931</td>\n",
       "      <td>492.35</td>\n",
       "      <td>15.684291</td>\n",
       "      <td>0.079347</td>\n",
       "      <td>0.160920</td>\n",
       "      <td>0.287356</td>\n",
       "      <td>790.93</td>\n",
       "      <td>493.0</td>\n",
       "      <td>862.393509</td>\n",
       "      <td>484.900</td>\n",
       "      <td>16.119533</td>\n",
       "      <td>0.076833</td>\n",
       "      <td>0.194726</td>\n",
       "      <td>0.253550</td>\n",
       "      <td>1095.13</td>\n",
       "      <td>724.0</td>\n",
       "      <td>819.861878</td>\n",
       "      <td>489.266667</td>\n",
       "      <td>0.425767</td>\n",
       "      <td>16.177320</td>\n",
       "      <td>0.069578</td>\n",
       "      <td>0.185083</td>\n",
       "      <td>0.256906</td>\n",
       "      <td>1504.42</td>\n",
       "      <td>981</td>\n",
       "      <td>800.978593</td>\n",
       "      <td>514.1375</td>\n",
       "      <td>0.429966</td>\n",
       "      <td>16.390591</td>\n",
       "      <td>0.069741</td>\n",
       "      <td>0.174312</td>\n",
       "      <td>0.260958</td>\n",
       "      <td>cat01</td>\n",
       "      <td>0.0</td>\n",
       "    </tr>\n",
       "    <tr>\n",
       "      <th>2</th>\n",
       "      <td>11558</td>\n",
       "      <td>217.58</td>\n",
       "      <td>124.0</td>\n",
       "      <td>690.000000</td>\n",
       "      <td>167.55</td>\n",
       "      <td>12.970403</td>\n",
       "      <td>0.107815</td>\n",
       "      <td>0.048387</td>\n",
       "      <td>0.032258</td>\n",
       "      <td>498.69</td>\n",
       "      <td>296.0</td>\n",
       "      <td>710.067568</td>\n",
       "      <td>218.375</td>\n",
       "      <td>13.783581</td>\n",
       "      <td>0.098429</td>\n",
       "      <td>0.104730</td>\n",
       "      <td>0.013514</td>\n",
       "      <td>839.38</td>\n",
       "      <td>517.0</td>\n",
       "      <td>704.448743</td>\n",
       "      <td>242.733333</td>\n",
       "      <td>0.326990</td>\n",
       "      <td>13.455764</td>\n",
       "      <td>0.097792</td>\n",
       "      <td>0.104449</td>\n",
       "      <td>0.025145</td>\n",
       "      <td>1065.77</td>\n",
       "      <td>706</td>\n",
       "      <td>699.008499</td>\n",
       "      <td>231.2625</td>\n",
       "      <td>0.357551</td>\n",
       "      <td>12.856969</td>\n",
       "      <td>0.094956</td>\n",
       "      <td>0.100567</td>\n",
       "      <td>0.055241</td>\n",
       "      <td>cat01</td>\n",
       "      <td>0.0</td>\n",
       "    </tr>\n",
       "    <tr>\n",
       "      <th>3</th>\n",
       "      <td>463</td>\n",
       "      <td>276.03</td>\n",
       "      <td>190.0</td>\n",
       "      <td>653.368421</td>\n",
       "      <td>302.00</td>\n",
       "      <td>15.971474</td>\n",
       "      <td>0.078138</td>\n",
       "      <td>0.100000</td>\n",
       "      <td>0.147368</td>\n",
       "      <td>656.13</td>\n",
       "      <td>426.0</td>\n",
       "      <td>667.464789</td>\n",
       "      <td>367.425</td>\n",
       "      <td>16.020376</td>\n",
       "      <td>0.086355</td>\n",
       "      <td>0.230047</td>\n",
       "      <td>0.159624</td>\n",
       "      <td>1017.63</td>\n",
       "      <td>668.0</td>\n",
       "      <td>656.047904</td>\n",
       "      <td>392.600000</td>\n",
       "      <td>0.323264</td>\n",
       "      <td>15.576991</td>\n",
       "      <td>0.086988</td>\n",
       "      <td>0.248503</td>\n",
       "      <td>0.184132</td>\n",
       "      <td>1385.09</td>\n",
       "      <td>947</td>\n",
       "      <td>633.389652</td>\n",
       "      <td>391.8000</td>\n",
       "      <td>0.334950</td>\n",
       "      <td>14.844393</td>\n",
       "      <td>0.087593</td>\n",
       "      <td>0.271383</td>\n",
       "      <td>0.155227</td>\n",
       "      <td>cat04</td>\n",
       "      <td>0.0</td>\n",
       "    </tr>\n",
       "    <tr>\n",
       "      <th>4</th>\n",
       "      <td>2409</td>\n",
       "      <td>257.86</td>\n",
       "      <td>236.0</td>\n",
       "      <td>706.779661</td>\n",
       "      <td>277.75</td>\n",
       "      <td>12.612754</td>\n",
       "      <td>0.076502</td>\n",
       "      <td>0.144068</td>\n",
       "      <td>0.059322</td>\n",
       "      <td>548.68</td>\n",
       "      <td>482.0</td>\n",
       "      <td>718.128898</td>\n",
       "      <td>145.650</td>\n",
       "      <td>12.402863</td>\n",
       "      <td>0.081410</td>\n",
       "      <td>0.161826</td>\n",
       "      <td>0.045643</td>\n",
       "      <td>814.62</td>\n",
       "      <td>697.0</td>\n",
       "      <td>715.000000</td>\n",
       "      <td>102.666667</td>\n",
       "      <td>0.451432</td>\n",
       "      <td>12.958924</td>\n",
       "      <td>0.077184</td>\n",
       "      <td>0.164993</td>\n",
       "      <td>0.034433</td>\n",
       "      <td>1067.92</td>\n",
       "      <td>917</td>\n",
       "      <td>714.956332</td>\n",
       "      <td>80.7750</td>\n",
       "      <td>0.454336</td>\n",
       "      <td>12.954656</td>\n",
       "      <td>0.077860</td>\n",
       "      <td>0.149400</td>\n",
       "      <td>0.030534</td>\n",
       "      <td>cat07</td>\n",
       "      <td>0.0</td>\n",
       "    </tr>\n",
       "  </tbody>\n",
       "</table>\n",
       "</div>"
      ],
      "text/plain": [
       "      ID    C_17   C_18        C_19    C_20       C_22      C_23      C_24  \\\n",
       "0    674  279.80  253.0  636.521739   17.20  12.512055  0.076062  0.458498   \n",
       "1   7397  424.60  261.0  964.137931  492.35  15.684291  0.079347  0.160920   \n",
       "2  11558  217.58  124.0  690.000000  167.55  12.970403  0.107815  0.048387   \n",
       "3    463  276.03  190.0  653.368421  302.00  15.971474  0.078138  0.100000   \n",
       "4   2409  257.86  236.0  706.779661  277.75  12.612754  0.076502  0.144068   \n",
       "\n",
       "       C_25    C_26   C_27        C_28     C_29       C_31      C_32  \\\n",
       "0  0.003953  592.67  524.0  637.442748   18.300  12.815210  0.079497   \n",
       "1  0.287356  790.93  493.0  862.393509  484.900  16.119533  0.076833   \n",
       "2  0.032258  498.69  296.0  710.067568  218.375  13.783581  0.098429   \n",
       "3  0.147368  656.13  426.0  667.464789  367.425  16.020376  0.086355   \n",
       "4  0.059322  548.68  482.0  718.128898  145.650  12.402863  0.081410   \n",
       "\n",
       "       C_33      C_34     C_35   C_36        C_37        C_38      C_39  \\\n",
       "0  0.446565  0.007634   985.08  803.0  613.524284   17.633333  0.464201   \n",
       "1  0.194726  0.253550  1095.13  724.0  819.861878  489.266667  0.425767   \n",
       "2  0.104730  0.013514   839.38  517.0  704.448743  242.733333  0.326990   \n",
       "3  0.230047  0.159624  1017.63  668.0  656.047904  392.600000  0.323264   \n",
       "4  0.161826  0.045643   814.62  697.0  715.000000  102.666667  0.451432   \n",
       "\n",
       "        C_40      C_41      C_42      C_43     C_44  C_45        C_46  \\\n",
       "0  12.550535  0.089379  0.405978  0.011208  1416.46  1114  607.755835   \n",
       "1  16.177320  0.069578  0.185083  0.256906  1504.42   981  800.978593   \n",
       "2  13.455764  0.097792  0.104449  0.025145  1065.77   706  699.008499   \n",
       "3  15.576991  0.086988  0.248503  0.184132  1385.09   947  633.389652   \n",
       "4  12.958924  0.077184  0.164993  0.034433  1067.92   917  714.956332   \n",
       "\n",
       "       C_47      C_48       C_49      C_50      C_51      C_52    D_1  TARGET  \n",
       "0   18.2125  0.442469  12.577837  0.089440  0.385996  0.013465  cat11     0.0  \n",
       "1  514.1375  0.429966  16.390591  0.069741  0.174312  0.260958  cat01     0.0  \n",
       "2  231.2625  0.357551  12.856969  0.094956  0.100567  0.055241  cat01     0.0  \n",
       "3  391.8000  0.334950  14.844393  0.087593  0.271383  0.155227  cat04     0.0  \n",
       "4   80.7750  0.454336  12.954656  0.077860  0.149400  0.030534  cat07     0.0  "
      ]
     },
     "execution_count": 17,
     "metadata": {},
     "output_type": "execute_result"
    }
   ],
   "source": [
    "miss = (df[varc].isnull().sum()/len(df)).to_frame()\n",
    "miss.columns = ['pct_miss']\n",
    "fuera = list(miss[miss['pct_miss']>0.3].index)\n",
    "varc = [v for v in varc if v not in fuera]\n",
    "df.drop(fuera,axis=1,inplace=True)\n",
    "df.head()"
   ]
  },
  {
   "cell_type": "code",
   "execution_count": 21,
   "metadata": {},
   "outputs": [
    {
     "data": {
      "text/html": [
       "<style>#sk-container-id-1 {color: black;}#sk-container-id-1 pre{padding: 0;}#sk-container-id-1 div.sk-toggleable {background-color: white;}#sk-container-id-1 label.sk-toggleable__label {cursor: pointer;display: block;width: 100%;margin-bottom: 0;padding: 0.3em;box-sizing: border-box;text-align: center;}#sk-container-id-1 label.sk-toggleable__label-arrow:before {content: \"▸\";float: left;margin-right: 0.25em;color: #696969;}#sk-container-id-1 label.sk-toggleable__label-arrow:hover:before {color: black;}#sk-container-id-1 div.sk-estimator:hover label.sk-toggleable__label-arrow:before {color: black;}#sk-container-id-1 div.sk-toggleable__content {max-height: 0;max-width: 0;overflow: hidden;text-align: left;background-color: #f0f8ff;}#sk-container-id-1 div.sk-toggleable__content pre {margin: 0.2em;color: black;border-radius: 0.25em;background-color: #f0f8ff;}#sk-container-id-1 input.sk-toggleable__control:checked~div.sk-toggleable__content {max-height: 200px;max-width: 100%;overflow: auto;}#sk-container-id-1 input.sk-toggleable__control:checked~label.sk-toggleable__label-arrow:before {content: \"▾\";}#sk-container-id-1 div.sk-estimator input.sk-toggleable__control:checked~label.sk-toggleable__label {background-color: #d4ebff;}#sk-container-id-1 div.sk-label input.sk-toggleable__control:checked~label.sk-toggleable__label {background-color: #d4ebff;}#sk-container-id-1 input.sk-hidden--visually {border: 0;clip: rect(1px 1px 1px 1px);clip: rect(1px, 1px, 1px, 1px);height: 1px;margin: -1px;overflow: hidden;padding: 0;position: absolute;width: 1px;}#sk-container-id-1 div.sk-estimator {font-family: monospace;background-color: #f0f8ff;border: 1px dotted black;border-radius: 0.25em;box-sizing: border-box;margin-bottom: 0.5em;}#sk-container-id-1 div.sk-estimator:hover {background-color: #d4ebff;}#sk-container-id-1 div.sk-parallel-item::after {content: \"\";width: 100%;border-bottom: 1px solid gray;flex-grow: 1;}#sk-container-id-1 div.sk-label:hover label.sk-toggleable__label {background-color: #d4ebff;}#sk-container-id-1 div.sk-serial::before {content: \"\";position: absolute;border-left: 1px solid gray;box-sizing: border-box;top: 0;bottom: 0;left: 50%;z-index: 0;}#sk-container-id-1 div.sk-serial {display: flex;flex-direction: column;align-items: center;background-color: white;padding-right: 0.2em;padding-left: 0.2em;position: relative;}#sk-container-id-1 div.sk-item {position: relative;z-index: 1;}#sk-container-id-1 div.sk-parallel {display: flex;align-items: stretch;justify-content: center;background-color: white;position: relative;}#sk-container-id-1 div.sk-item::before, #sk-container-id-1 div.sk-parallel-item::before {content: \"\";position: absolute;border-left: 1px solid gray;box-sizing: border-box;top: 0;bottom: 0;left: 50%;z-index: -1;}#sk-container-id-1 div.sk-parallel-item {display: flex;flex-direction: column;z-index: 1;position: relative;background-color: white;}#sk-container-id-1 div.sk-parallel-item:first-child::after {align-self: flex-end;width: 50%;}#sk-container-id-1 div.sk-parallel-item:last-child::after {align-self: flex-start;width: 50%;}#sk-container-id-1 div.sk-parallel-item:only-child::after {width: 0;}#sk-container-id-1 div.sk-dashed-wrapped {border: 1px dashed gray;margin: 0 0.4em 0.5em 0.4em;box-sizing: border-box;padding-bottom: 0.4em;background-color: white;}#sk-container-id-1 div.sk-label label {font-family: monospace;font-weight: bold;display: inline-block;line-height: 1.2em;}#sk-container-id-1 div.sk-label-container {text-align: center;}#sk-container-id-1 div.sk-container {/* jupyter's `normalize.less` sets `[hidden] { display: none; }` but bootstrap.min.css set `[hidden] { display: none !important; }` so we also need the `!important` here to be able to override the default hidden behavior on the sphinx rendered scikit-learn.org. See: https://github.com/scikit-learn/scikit-learn/issues/21755 */display: inline-block !important;position: relative;}#sk-container-id-1 div.sk-text-repr-fallback {display: none;}</style><div id=\"sk-container-id-1\" class=\"sk-top-container\"><div class=\"sk-text-repr-fallback\"><pre>SimpleImputer(strategy=&#x27;median&#x27;)</pre><b>In a Jupyter environment, please rerun this cell to show the HTML representation or trust the notebook. <br />On GitHub, the HTML representation is unable to render, please try loading this page with nbviewer.org.</b></div><div class=\"sk-container\" hidden><div class=\"sk-item\"><div class=\"sk-estimator sk-toggleable\"><input class=\"sk-toggleable__control sk-hidden--visually\" id=\"sk-estimator-id-1\" type=\"checkbox\" checked><label for=\"sk-estimator-id-1\" class=\"sk-toggleable__label sk-toggleable__label-arrow\">SimpleImputer</label><div class=\"sk-toggleable__content\"><pre>SimpleImputer(strategy=&#x27;median&#x27;)</pre></div></div></div></div></div>"
      ],
      "text/plain": [
       "SimpleImputer(strategy='median')"
      ]
     },
     "execution_count": 21,
     "metadata": {},
     "output_type": "execute_result"
    }
   ],
   "source": [
    "im = SimpleImputer(strategy='median')\n",
    "im.fit(df[varc])"
   ]
  },
  {
   "cell_type": "code",
   "execution_count": 22,
   "metadata": {},
   "outputs": [],
   "source": [
    "Xi = pd.DataFrame(im.transform(df[varc]),columns=varc)"
   ]
  },
  {
   "cell_type": "code",
   "execution_count": 23,
   "metadata": {},
   "outputs": [
    {
     "data": {
      "text/plain": [
       "((9294, 34), (9294, 34))"
      ]
     },
     "execution_count": 23,
     "metadata": {},
     "output_type": "execute_result"
    }
   ],
   "source": [
    "Xi.dropna().shape,Xi.shape"
   ]
  },
  {
   "cell_type": "code",
   "execution_count": 31,
   "metadata": {},
   "outputs": [],
   "source": [
    "ks = pd.DataFrame(map(lambda v:(v,stats.ks_2samp(Xi[v],df[v].dropna()).statistic),varc),columns=['var','ks']).sort_values('ks',ascending=False)\n",
    "fuera = ks[ks['ks']>0.1]['var'].tolist()\n",
    "varc = [v for v in varc if v not in fuera]\n",
    "df.drop(fuera,axis=1,inplace=True)"
   ]
  },
  {
   "cell_type": "code",
   "execution_count": 32,
   "metadata": {},
   "outputs": [
    {
     "data": {
      "text/plain": [
       "32"
      ]
     },
     "execution_count": 32,
     "metadata": {},
     "output_type": "execute_result"
    }
   ],
   "source": [
    "len(varc)"
   ]
  },
  {
   "cell_type": "markdown",
   "metadata": {},
   "source": [
    "### Multicolinealidad"
   ]
  },
  {
   "cell_type": "code",
   "execution_count": 40,
   "metadata": {},
   "outputs": [],
   "source": [
    "vc = VarClusHi(df = Xi[varc],feat_list=varc).varclus()\n",
    "mc = vc.rsquare.sort_values('RS_Ratio').groupby('Cluster').first()['Variable'].tolist()"
   ]
  },
  {
   "cell_type": "code",
   "execution_count": 41,
   "metadata": {},
   "outputs": [
    {
     "data": {
      "text/plain": [
       "['C_36', 'C_41', 'C_40', 'C_43', 'C_42', 'C_29', 'C_19']"
      ]
     },
     "execution_count": 41,
     "metadata": {},
     "output_type": "execute_result"
    }
   ],
   "source": [
    "mc"
   ]
  },
  {
   "cell_type": "markdown",
   "metadata": {},
   "source": [
    "### Extremos"
   ]
  },
  {
   "cell_type": "code",
   "execution_count": 53,
   "metadata": {},
   "outputs": [
    {
     "data": {
      "text/plain": [
       "array([[<Axes: title={'center': 'C_36'}>,\n",
       "        <Axes: title={'center': 'C_41'}>,\n",
       "        <Axes: title={'center': 'C_40'}>],\n",
       "       [<Axes: title={'center': 'C_43'}>,\n",
       "        <Axes: title={'center': 'C_42'}>,\n",
       "        <Axes: title={'center': 'C_29'}>],\n",
       "       [<Axes: title={'center': 'C_19'}>, <Axes: >, <Axes: >]],\n",
       "      dtype=object)"
      ]
     },
     "execution_count": 53,
     "metadata": {},
     "output_type": "execute_result"
    },
    {
     "data": {
      "image/png": "[encoded data removed]",
      "text/plain": [
       "<Figure size 640x480 with 9 Axes>"
      ]
     },
     "metadata": {},
     "output_type": "display_data"
    }
   ],
   "source": [
    "Xi[mc].hist()"
   ]
  },
  {
   "cell_type": "code",
   "execution_count": 50,
   "metadata": {},
   "outputs": [],
   "source": [
    "for v,li,ls in Xi[mc].describe(percentiles=[0.01,0.99]).T[['1%','99%']].reset_index().values:\n",
    "    Xi[f'ex_{v}'] = ((Xi[v]<li)|(Xi[v]>ls)).astype(int)\n",
    "Xi['ex_'] = Xi.filter(like='ex_').max(axis=1)\n"
   ]
  },
  {
   "cell_type": "code",
   "execution_count": 52,
   "metadata": {},
   "outputs": [
    {
     "data": {
      "text/plain": [
       "ex_\n",
       "0    0.939961\n",
       "1    0.060039\n",
       "Name: proportion, dtype: float64"
      ]
     },
     "execution_count": 52,
     "metadata": {},
     "output_type": "execute_result"
    }
   ],
   "source": [
    "Xi['ex_'].value_counts(1)"
   ]
  },
  {
   "cell_type": "code",
   "execution_count": 54,
   "metadata": {},
   "outputs": [],
   "source": [
    "Xi = Xi[Xi['ex_']==0].reset_index(drop=True).drop(Xi.filter(like='ex_'),axis=1)"
   ]
  },
  {
   "cell_type": "code",
   "execution_count": 56,
   "metadata": {},
   "outputs": [
    {
     "data": {
      "text/plain": [
       "array([[<Axes: title={'center': 'C_36'}>,\n",
       "        <Axes: title={'center': 'C_41'}>,\n",
       "        <Axes: title={'center': 'C_40'}>],\n",
       "       [<Axes: title={'center': 'C_43'}>,\n",
       "        <Axes: title={'center': 'C_42'}>,\n",
       "        <Axes: title={'center': 'C_29'}>],\n",
       "       [<Axes: title={'center': 'C_19'}>, <Axes: >, <Axes: >]],\n",
       "      dtype=object)"
      ]
     },
     "execution_count": 56,
     "metadata": {},
     "output_type": "execute_result"
    },
    {
     "data": {
      "image/png": "[encoded data removed]",
      "text/plain": [
       "<Figure size 640x480 with 9 Axes>"
      ]
     },
     "metadata": {},
     "output_type": "display_data"
    }
   ],
   "source": [
    "Xi[mc].hist()"
   ]
  },
  {
   "cell_type": "markdown",
   "metadata": {},
   "source": [
    "## Reducción de dimensiones"
   ]
  },
  {
   "cell_type": "markdown",
   "metadata": {},
   "source": [
    "### PCA"
   ]
  },
  {
   "cell_type": "code",
   "execution_count": null,
   "metadata": {},
   "outputs": [
    {
     "name": "stdout",
     "output_type": "stream",
     "text": [
      "[0.72962445 0.95813207 0.99482129]\n"
     ]
    }
   ],
   "source": [
    "sc = StandardScaler()\n",
    "pca = PCA(n_components=3)\n",
    "Xp = pd.DataFrame(pca.fit_transform(sc.fit_transform(X)),columns=['d1','d2','d3'])\n",
    "print(pca.explained_variance_ratio_.cumsum())"
   ]
  },
  {
   "cell_type": "markdown",
   "metadata": {},
   "source": [
    "### MDS"
   ]
  },
  {
   "cell_type": "code",
   "execution_count": null,
   "metadata": {},
   "outputs": [
    {
     "name": "stderr",
     "output_type": "stream",
     "text": [
      "/home/jose/entornos/tse/lib/python3.10/site-packages/sklearn/manifold/_mds.py:298: FutureWarning:\n",
      "\n",
      "The default value of `normalized_stress` will change to `'auto'` in version 1.4. To suppress this warning, manually set the value of `normalized_stress`.\n",
      "\n"
     ]
    }
   ],
   "source": [
    "sc = MinMaxScaler()\n",
    "mds = MDS(n_components=3,n_jobs=-1)\n",
    "Xm = pd.DataFrame(mds.fit_transform(sc.fit_transform(X)),columns=['d1','d2','d3'])\n"
   ]
  },
  {
   "cell_type": "markdown",
   "metadata": {},
   "source": [
    "### t-SNE"
   ]
  },
  {
   "cell_type": "code",
   "execution_count": null,
   "metadata": {},
   "outputs": [],
   "source": [
    "tsne = TSNE(n_components=3,n_jobs=-1)\n",
    "Xt = pd.DataFrame(tsne.fit_transform(X),columns=['d1','d2','d3'])"
   ]
  },
  {
   "cell_type": "markdown",
   "metadata": {},
   "source": [
    "## Visualización"
   ]
  },
  {
   "cell_type": "code",
   "execution_count": null,
   "metadata": {},
   "outputs": [],
   "source": [
    "Xp['target'] = Xt['target'] = Xm['target'] = Sn['target']"
   ]
  },
  {
   "cell_type": "code",
   "execution_count": null,
   "metadata": {},
   "outputs": [
    {
     "data": {
      "application/vnd.plotly.v1+json": {
       "config": {
        "linkText": "Export to plot.ly",
        "plotlyServerURL": "https://plot.ly",
        "showLink": true
       },
       "data": [
        {
         "marker": {
          "color": "rgba(255, 153, 51, 1.0)",
          "line": {
           "width": 1.3
          },
          "opacity": 0.8,
          "size": 5,
          "symbol": "circle"
         },
         "mode": "markers",
         "name": "setosa",
         "textfont": {
          "color": "#4D5663"
         },
         "type": "scatter3d",
         "x": [
          -2.2647028088075962,
          -2.080961151965768,
          -2.3642290538903006,
          -2.299384217042709,
          -2.389842166313845,
          -2.0756309481765123,
          -2.4440288351341533,
          -2.2328471588720156,
          -2.334640477907622,
          -2.1843281749339427,
          -2.1663101007013226,
          -2.3261308664426994,
          -2.2184508988224096,
          -2.633100695765229,
          -2.1987406032666894,
          -2.262214531601021,
          -2.207587695824593,
          -2.190349509192299,
          -1.898571995802842,
          -2.3433690530749938,
          -1.914322996082568,
          -2.207012843194798,
          -2.774344702927333,
          -1.818669528695849,
          -2.227163305706639,
          -1.9518463309003764,
          -2.0511513727294157,
          -2.1685771746542164,
          -2.1395634513013317,
          -2.2652614931542416,
          -2.1401221356479847,
          -1.8315947706760285,
          -2.614947935858935,
          -2.446177391696515,
          -2.109974875318653,
          -2.207808899078266,
          -2.0451462067542012,
          -2.5273319131704866,
          -2.4296325750845473,
          -2.169710711630664,
          -2.2864751433456707,
          -1.8581224563735712,
          -2.5536383956143567,
          -1.9644476837637412,
          -2.1370590058116234,
          -2.06974429959183,
          -2.3847331657782638,
          -2.3943763142196337,
          -2.229446547942675,
          -2.203833435519131
         ],
         "y": [
          0.48002659652098856,
          -0.6741335566053535,
          -0.34190802388467606,
          -0.5973945076746757,
          0.6468353829020277,
          1.4891775233211673,
          0.0476441976300145,
          0.2231480726895919,
          -1.1153276754616666,
          -0.4690135614023758,
          1.0436906530538599,
          0.13307833523923182,
          -0.728676165316571,
          -0.9615067291701631,
          1.8600571132939314,
          2.6862844851105927,
          1.4836093631555727,
          0.4888383164863276,
          1.4050187944665495,
          1.1278493819084767,
          0.4088557077559062,
          0.9241214267468988,
          0.4583436677529158,
          0.0855585262873662,
          0.13725445536342756,
          -0.6256185877766768,
          0.24216355266166728,
          0.5271495253082674,
          0.31321781013995187,
          -0.33773190376048046,
          -0.5045406901415185,
          0.4236950676037859,
          1.7935758561044293,
          2.1507278773929244,
          -0.46020184143703746,
          -0.20610739768843697,
          0.6615581114631081,
          0.5922927741908098,
          -0.904180040376148,
          0.268878961435471,
          0.4417153876990502,
          -2.337415157553349,
          -0.4791006901223139,
          0.4723266677192611,
          1.1422292620394094,
          -0.7110527253858943,
          1.1204297019845368,
          -0.38624687258915713,
          0.9979597643079806,
          0.009216357521276256
         ],
         "z": [
          -0.12770602230015682,
          -0.23460885398456785,
          0.04420148483874488,
          0.09129010632068195,
          0.015738195676258657,
          0.02696829443978162,
          0.33547040114311366,
          -0.08869549794772634,
          0.14507686363699987,
          -0.2537655673000064,
          -0.26868110221613467,
          0.09375924438111158,
          -0.2309112372066024,
          0.18079608440317899,
          -0.4729009978730765,
          0.030526609265510502,
          -0.005344094078264252,
          -0.04421531647845377,
          -0.37434327455765454,
          0.13263046678130208,
          -0.4212925940873564,
          0.1598652772262527,
          0.33217909755686575,
          0.03448859579998135,
          0.11799353576964575,
          -0.3056409823252074,
          0.08636401082518226,
          -0.20681624777030455,
          -0.27115024027656415,
          0.06843577622727821,
          -0.07500844174913283,
          -0.270467376702982,
          0.047228418668485664,
          -0.08266804506156808,
          -0.17027486147830787,
          -0.22544158008975682,
          -0.48453740982831656,
          0.019435812454222944,
          0.1932546618842366,
          -0.17588382054738907,
          0.034894908991697414,
          -0.20423422253096477,
          0.305766452637733,
          0.3096013178453275,
          0.24843356112104648,
          -0.0639298255632054,
          0.05721785808911495,
          0.13946790456791894,
          -0.18149277961647095,
          -0.153029490453986
         ]
        },
        {
         "marker": {
          "color": "rgba(55, 128, 191, 1.0)",
          "line": {
           "width": 1.3
          },
          "opacity": 0.8,
          "size": 5,
          "symbol": "circle"
         },
         "mode": "markers",
         "name": "versicolor",
         "textfont": {
          "color": "#4D5663"
         },
         "type": "scatter3d",
         "x": [
          1.101781183052949,
          0.7313374253960883,
          1.2409793195158325,
          0.40748305881738545,
          1.0754747006090792,
          0.38868733653566523,
          0.7465297413291615,
          -0.4873227421256398,
          0.9279016383549467,
          0.011426188736980081,
          -0.11019628000062898,
          0.4406934489830788,
          0.5621083064431797,
          0.719561888675497,
          -0.033354703178772004,
          0.8754071908577388,
          0.350251667995083,
          0.15881004754797154,
          1.225093633562433,
          0.16491789938632764,
          0.7376826487712587,
          0.47628719094097194,
          1.2341780976571501,
          0.6328581997098223,
          0.7026611831361832,
          0.8742736538812915,
          1.2565091165418851,
          1.358405121440633,
          0.6648003672253953,
          -0.04025861090059515,
          0.13079517549786093,
          0.023452688970551125,
          0.24153827295451127,
          1.0610946088426145,
          0.22397877351237938,
          0.429139115516161,
          1.0487280512090886,
          1.0445313843962802,
          0.06958832111642303,
          0.28347723828757554,
          0.2790777760554608,
          0.624569791498572,
          0.3365303701314363,
          -0.3621833846193835,
          0.2885862388231576,
          0.09136065565450546,
          0.2277168655347003,
          0.5763882886534792,
          -0.44766701902861156,
          0.25673058888758504
         ],
         "y": [
          0.8629724182621589,
          0.5946147256694247,
          0.6162976544374985,
          -1.7544039893234114,
          -0.20842104605096562,
          -0.593283635990075,
          0.7730193120985969,
          -1.8524290868575748,
          0.03222607789115363,
          -1.0340182751294407,
          -2.6540728185365654,
          -0.06329518843800137,
          -1.7647243806169461,
          -0.18622460583150574,
          -0.4390032099816247,
          0.5090639567734085,
          -0.19631173455144374,
          -0.7920957424327215,
          -1.6222438030915032,
          -1.302609230295773,
          0.3965715619602393,
          -0.4173202812135512,
          -0.9333257287992789,
          -0.41638772088909953,
          -0.06341181972480034,
          0.250793392900612,
          -0.07725601969586919,
          0.33131168179089815,
          -0.2259278546948436,
          -1.0587185465539088,
          -1.562271834209968,
          -1.5724755942167052,
          -0.7772563825848418,
          -0.6338432447349468,
          -0.28777351204320195,
          0.8455822409050794,
          0.5220517968629427,
          -1.3829887191907826,
          -0.21950333464771482,
          -1.329324639069577,
          -1.120028523742404,
          0.02492302925401274,
          -0.9884040176703607,
          -2.0192378732386125,
          -0.8557303199870664,
          -0.18119212582577512,
          -0.3849200809873537,
          -0.15487359721655897,
          -1.5437920343977567,
          -0.5988517961556694
         ],
         "z": [
          -0.6845861626897367,
          -0.09412171552908227,
          -0.5540068353861006,
          -0.02310176781380149,
          -0.39825552250622653,
          0.1241915495181701,
          0.14896940252805096,
          0.2492652657892493,
          -0.5961693613725382,
          0.5388993901843676,
          -0.04679044405838318,
          0.20507381532720279,
          -0.7657713936539611,
          -0.06865894542301251,
          0.19493289332897895,
          -0.50351138165603,
          0.4908730745147273,
          -0.3020371744413823,
          -0.48230402409723744,
          -0.1728378084328764,
          0.6165263063228636,
          -0.2649522265280393,
          -0.36841227204861,
          -0.29189625244315776,
          -0.44602700756174685,
          -0.4725789544331144,
          -0.7271550018678916,
          -0.2608265767906138,
          0.08586388873932604,
          -0.3195733299955363,
          -0.14998347833947337,
          -0.24155228129068343,
          -0.15121195705700805,
          0.10531138658459721,
          0.6652497197140526,
          0.4506340714447656,
          -0.395786384445797,
          -0.6882959600930607,
          0.29157927435328423,
          0.08941002293969494,
          0.09448760101279023,
          -0.020481147175775788,
          -0.19938975530424483,
          0.10582104781283834,
          0.13088968535255144,
          0.1289783430614335,
          0.15621315350638398,
          -0.27165036236242035,
          0.19040093039983638,
          0.09187916100012432
         ]
        },
        {
         "marker": {
          "color": "rgba(50, 171, 96, 1.0)",
          "line": {
           "width": 1.3
          },
          "opacity": 0.8,
          "size": 5,
          "symbol": "circle"
         },
         "mode": "markers",
         "name": "virginica",
         "textfont": {
          "color": "#4D5663"
         },
         "type": "scatter3d",
         "x": [
          1.84456886772303,
          1.1578816132057803,
          2.20526679107538,
          1.44015066382754,
          1.867812220330539,
          2.7518733356662795,
          0.3670176878607243,
          2.3024394446251994,
          2.006686467676607,
          2.259777349012502,
          1.364175492186009,
          1.6026786704779319,
          1.8839007017032443,
          1.260115099197508,
          1.4676452010173247,
          1.5900773176145668,
          1.4714314611333192,
          2.426328987315703,
          3.31069558393389,
          1.2637666736398292,
          2.0377163014694064,
          0.9779807342494219,
          2.8976514907341717,
          1.3332321759732098,
          1.7007338974912183,
          1.9543267058530729,
          1.1751036315549332,
          1.0209505506957917,
          1.7883499201796669,
          1.863647553328263,
          2.4359537279227057,
          2.3049277218317665,
          1.8627032197949567,
          1.1141477406864755,
          1.2024733016783913,
          2.79877044757811,
          1.576255910194755,
          1.3462921036270628,
          0.9248249165424202,
          1.8520450517676719,
          2.0148104299548772,
          1.9017840902621908,
          1.1578816132057803,
          2.0405582280520944,
          1.9981470959523775,
          1.8705032929564118,
          1.5645804830303296,
          1.521170499627839,
          1.3727877895140737,
          0.9606560300371284
         ],
         "y": [
          0.870421312324824,
          -0.6988698623306903,
          0.5620104770083557,
          -0.04698758810580639,
          0.29504482445702,
          0.8004092010275421,
          -1.5615028914765061,
          0.4200655796427763,
          -0.7114386535471592,
          1.9210103764598876,
          0.6927564544903874,
          -0.42170044977261734,
          0.4192496506051236,
          -1.1622604214064636,
          -0.4422715873770823,
          0.6762448057233204,
          0.2556218244714707,
          2.556661250795493,
          0.017780949320626627,
          -1.706745380376268,
          0.9104674096183111,
          -0.5717643248129916,
          0.41364105959564745,
          -0.4818112186494296,
          1.0139218673227919,
          1.0077775961534527,
          -0.3163944723097912,
          0.06434602923956204,
          -0.18736121459082875,
          0.5622907258861446,
          0.25928443314428007,
          2.6263234682323793,
          -0.17854949462549038,
          -0.2929226233357314,
          -0.8113152708396687,
          0.8568033294971051,
          1.0685811073208085,
          0.4224306108525086,
          0.017223100452284344,
          0.6761281744365216,
          0.6138856369235753,
          0.6895754942430027,
          -0.6988698623306903,
          0.8675206009552286,
          1.0491687471841455,
          0.38696608166572555,
          -0.8966868088965267,
          0.2690691442779517,
          1.0112544185267935,
          -0.02433166816939902
         ],
         "z": [
          1.0054010176069867,
          0.5301601492490193,
          -0.2029141697368685,
          0.1636301068300584,
          0.39562837455329747,
          -0.5823091028286043,
          0.986893267472025,
          -0.6517064392599929,
          -0.3939905708165644,
          0.39755189746977376,
          0.2846120737568163,
          0.023186407910062726,
          0.026338409544075063,
          0.5802492897873728,
          1.0038695737342598,
          0.6384287080805975,
          0.037431259877968664,
          -0.12788145946307244,
          -0.7033053039033289,
          -0.2675368932503537,
          0.2347994836003276,
          0.8281272013877695,
          -0.8574218248739512,
          -0.005428363830017837,
          0.29845061253300514,
          -0.41998472191862,
          0.12993775701688148,
          0.337715967499553,
          0.27065800631874226,
          -0.7156341185745364,
          -0.7278161456737293,
          -0.49347380769433036,
          0.3541487121404409,
          -0.18348839165934275,
          -0.16472375738765394,
          -0.5429064994324281,
          0.9458538186439904,
          0.18087547785437974,
          0.4168261929697044,
          -0.012672114808351868,
          0.4283328421150929,
          0.13007500544651043,
          0.5301601492490193,
          0.33814400045901427,
          0.6324134358197991,
          0.25627385239860034,
          -0.026371351632304325,
          0.18017838013283138,
          0.9333952411629318,
          0.5282488069579016
         ]
        }
       ],
       "layout": {
        "legend": {
         "bgcolor": "#F5F6F9",
         "font": {
          "color": "#4D5663"
         }
        },
        "paper_bgcolor": "#F5F6F9",
        "plot_bgcolor": "#F5F6F9",
        "scene": {
         "xaxis": {
          "gridcolor": "#9499A3",
          "showgrid": true,
          "tickfont": {
           "color": "#4D5663"
          },
          "title": {
           "font": {
            "color": "#4D5663"
           },
           "text": ""
          },
          "zerolinecolor": "#9499A3"
         },
         "yaxis": {
          "gridcolor": "#9499A3",
          "showgrid": true,
          "tickfont": {
           "color": "#4D5663"
          },
          "title": {
           "font": {
            "color": "#4D5663"
           },
           "text": ""
          },
          "zerolinecolor": "#9499A3"
         },
         "zaxis": {
          "gridcolor": "#9499A3",
          "showgrid": true,
          "tickfont": {
           "color": "#4D5663"
          },
          "title": {
           "font": {
            "color": "#4D5663"
           },
           "text": ""
          },
          "zerolinecolor": "#9499A3"
         }
        },
        "template": {
         "data": {
          "bar": [
           {
            "error_x": {
             "color": "#2a3f5f"
            },
            "error_y": {
             "color": "#2a3f5f"
            },
            "marker": {
             "line": {
              "color": "#E5ECF6",
              "width": 0.5
             },
             "pattern": {
              "fillmode": "overlay",
              "size": 10,
              "solidity": 0.2
             }
            },
            "type": "bar"
           }
          ],
          "barpolar": [
           {
            "marker": {
             "line": {
              "color": "#E5ECF6",
              "width": 0.5
             },
             "pattern": {
              "fillmode": "overlay",
              "size": 10,
              "solidity": 0.2
             }
            },
            "type": "barpolar"
           }
          ],
          "carpet": [
           {
            "aaxis": {
             "endlinecolor": "#2a3f5f",
             "gridcolor": "white",
             "linecolor": "white",
             "minorgridcolor": "white",
             "startlinecolor": "#2a3f5f"
            },
            "baxis": {
             "endlinecolor": "#2a3f5f",
             "gridcolor": "white",
             "linecolor": "white",
             "minorgridcolor": "white",
             "startlinecolor": "#2a3f5f"
            },
            "type": "carpet"
           }
          ],
          "choropleth": [
           {
            "colorbar": {
             "outlinewidth": 0,
             "ticks": ""
            },
            "type": "choropleth"
           }
          ],
          "contour": [
           {
            "colorbar": {
             "outlinewidth": 0,
             "ticks": ""
            },
            "colorscale": [
             [
              0,
              "#0d0887"
             ],
             [
              0.1111111111111111,
              "#46039f"
             ],
             [
              0.2222222222222222,
              "#7201a8"
             ],
             [
              0.3333333333333333,
              "#9c179e"
             ],
             [
              0.4444444444444444,
              "#bd3786"
             ],
             [
              0.5555555555555556,
              "#d8576b"
             ],
             [
              0.6666666666666666,
              "#ed7953"
             ],
             [
              0.7777777777777778,
              "#fb9f3a"
             ],
             [
              0.8888888888888888,
              "#fdca26"
             ],
             [
              1,
              "#f0f921"
             ]
            ],
            "type": "contour"
           }
          ],
          "contourcarpet": [
           {
            "colorbar": {
             "outlinewidth": 0,
             "ticks": ""
            },
            "type": "contourcarpet"
           }
          ],
          "heatmap": [
           {
            "colorbar": {
             "outlinewidth": 0,
             "ticks": ""
            },
            "colorscale": [
             [
              0,
              "#0d0887"
             ],
             [
              0.1111111111111111,
              "#46039f"
             ],
             [
              0.2222222222222222,
              "#7201a8"
             ],
             [
              0.3333333333333333,
              "#9c179e"
             ],
             [
              0.4444444444444444,
              "#bd3786"
             ],
             [
              0.5555555555555556,
              "#d8576b"
             ],
             [
              0.6666666666666666,
              "#ed7953"
             ],
             [
              0.7777777777777778,
              "#fb9f3a"
             ],
             [
              0.8888888888888888,
              "#fdca26"
             ],
             [
              1,
              "#f0f921"
             ]
            ],
            "type": "heatmap"
           }
          ],
          "heatmapgl": [
           {
            "colorbar": {
             "outlinewidth": 0,
             "ticks": ""
            },
            "colorscale": [
             [
              0,
              "#0d0887"
             ],
             [
              0.1111111111111111,
              "#46039f"
             ],
             [
              0.2222222222222222,
              "#7201a8"
             ],
             [
              0.3333333333333333,
              "#9c179e"
             ],
             [
              0.4444444444444444,
              "#bd3786"
             ],
             [
              0.5555555555555556,
              "#d8576b"
             ],
             [
              0.6666666666666666,
              "#ed7953"
             ],
             [
              0.7777777777777778,
              "#fb9f3a"
             ],
             [
              0.8888888888888888,
              "#fdca26"
             ],
             [
              1,
              "#f0f921"
             ]
            ],
            "type": "heatmapgl"
           }
          ],
          "histogram": [
           {
            "marker": {
             "pattern": {
              "fillmode": "overlay",
              "size": 10,
              "solidity": 0.2
             }
            },
            "type": "histogram"
           }
          ],
          "histogram2d": [
           {
            "colorbar": {
             "outlinewidth": 0,
             "ticks": ""
            },
            "colorscale": [
             [
              0,
              "#0d0887"
             ],
             [
              0.1111111111111111,
              "#46039f"
             ],
             [
              0.2222222222222222,
              "#7201a8"
             ],
             [
              0.3333333333333333,
              "#9c179e"
             ],
             [
              0.4444444444444444,
              "#bd3786"
             ],
             [
              0.5555555555555556,
              "#d8576b"
             ],
             [
              0.6666666666666666,
              "#ed7953"
             ],
             [
              0.7777777777777778,
              "#fb9f3a"
             ],
             [
              0.8888888888888888,
              "#fdca26"
             ],
             [
              1,
              "#f0f921"
             ]
            ],
            "type": "histogram2d"
           }
          ],
          "histogram2dcontour": [
           {
            "colorbar": {
             "outlinewidth": 0,
             "ticks": ""
            },
            "colorscale": [
             [
              0,
              "#0d0887"
             ],
             [
              0.1111111111111111,
              "#46039f"
             ],
             [
              0.2222222222222222,
              "#7201a8"
             ],
             [
              0.3333333333333333,
              "#9c179e"
             ],
             [
              0.4444444444444444,
              "#bd3786"
             ],
             [
              0.5555555555555556,
              "#d8576b"
             ],
             [
              0.6666666666666666,
              "#ed7953"
             ],
             [
              0.7777777777777778,
              "#fb9f3a"
             ],
             [
              0.8888888888888888,
              "#fdca26"
             ],
             [
              1,
              "#f0f921"
             ]
            ],
            "type": "histogram2dcontour"
           }
          ],
          "mesh3d": [
           {
            "colorbar": {
             "outlinewidth": 0,
             "ticks": ""
            },
            "type": "mesh3d"
           }
          ],
          "parcoords": [
           {
            "line": {
             "colorbar": {
              "outlinewidth": 0,
              "ticks": ""
             }
            },
            "type": "parcoords"
           }
          ],
          "pie": [
           {
            "automargin": true,
            "type": "pie"
           }
          ],
          "scatter": [
           {
            "fillpattern": {
             "fillmode": "overlay",
             "size": 10,
             "solidity": 0.2
            },
            "type": "scatter"
           }
          ],
          "scatter3d": [
           {
            "line": {
             "colorbar": {
              "outlinewidth": 0,
              "ticks": ""
             }
            },
            "marker": {
             "colorbar": {
              "outlinewidth": 0,
              "ticks": ""
             }
            },
            "type": "scatter3d"
           }
          ],
          "scattercarpet": [
           {
            "marker": {
             "colorbar": {
              "outlinewidth": 0,
              "ticks": ""
             }
            },
            "type": "scattercarpet"
           }
          ],
          "scattergeo": [
           {
            "marker": {
             "colorbar": {
              "outlinewidth": 0,
              "ticks": ""
             }
            },
            "type": "scattergeo"
           }
          ],
          "scattergl": [
           {
            "marker": {
             "colorbar": {
              "outlinewidth": 0,
              "ticks": ""
             }
            },
            "type": "scattergl"
           }
          ],
          "scattermapbox": [
           {
            "marker": {
             "colorbar": {
              "outlinewidth": 0,
              "ticks": ""
             }
            },
            "type": "scattermapbox"
           }
          ],
          "scatterpolar": [
           {
            "marker": {
             "colorbar": {
              "outlinewidth": 0,
              "ticks": ""
             }
            },
            "type": "scatterpolar"
           }
          ],
          "scatterpolargl": [
           {
            "marker": {
             "colorbar": {
              "outlinewidth": 0,
              "ticks": ""
             }
            },
            "type": "scatterpolargl"
           }
          ],
          "scatterternary": [
           {
            "marker": {
             "colorbar": {
              "outlinewidth": 0,
              "ticks": ""
             }
            },
            "type": "scatterternary"
           }
          ],
          "surface": [
           {
            "colorbar": {
             "outlinewidth": 0,
             "ticks": ""
            },
            "colorscale": [
             [
              0,
              "#0d0887"
             ],
             [
              0.1111111111111111,
              "#46039f"
             ],
             [
              0.2222222222222222,
              "#7201a8"
             ],
             [
              0.3333333333333333,
              "#9c179e"
             ],
             [
              0.4444444444444444,
              "#bd3786"
             ],
             [
              0.5555555555555556,
              "#d8576b"
             ],
             [
              0.6666666666666666,
              "#ed7953"
             ],
             [
              0.7777777777777778,
              "#fb9f3a"
             ],
             [
              0.8888888888888888,
              "#fdca26"
             ],
             [
              1,
              "#f0f921"
             ]
            ],
            "type": "surface"
           }
          ],
          "table": [
           {
            "cells": {
             "fill": {
              "color": "#EBF0F8"
             },
             "line": {
              "color": "white"
             }
            },
            "header": {
             "fill": {
              "color": "#C8D4E3"
             },
             "line": {
              "color": "white"
             }
            },
            "type": "table"
           }
          ]
         },
         "layout": {
          "annotationdefaults": {
           "arrowcolor": "#2a3f5f",
           "arrowhead": 0,
           "arrowwidth": 1
          },
          "autotypenumbers": "strict",
          "coloraxis": {
           "colorbar": {
            "outlinewidth": 0,
            "ticks": ""
           }
          },
          "colorscale": {
           "diverging": [
            [
             0,
             "#8e0152"
            ],
            [
             0.1,
             "#c51b7d"
            ],
            [
             0.2,
             "#de77ae"
            ],
            [
             0.3,
             "#f1b6da"
            ],
            [
             0.4,
             "#fde0ef"
            ],
            [
             0.5,
             "#f7f7f7"
            ],
            [
             0.6,
             "#e6f5d0"
            ],
            [
             0.7,
             "#b8e186"
            ],
            [
             0.8,
             "#7fbc41"
            ],
            [
             0.9,
             "#4d9221"
            ],
            [
             1,
             "#276419"
            ]
           ],
           "sequential": [
            [
             0,
             "#0d0887"
            ],
            [
             0.1111111111111111,
             "#46039f"
            ],
            [
             0.2222222222222222,
             "#7201a8"
            ],
            [
             0.3333333333333333,
             "#9c179e"
            ],
            [
             0.4444444444444444,
             "#bd3786"
            ],
            [
             0.5555555555555556,
             "#d8576b"
            ],
            [
             0.6666666666666666,
             "#ed7953"
            ],
            [
             0.7777777777777778,
             "#fb9f3a"
            ],
            [
             0.8888888888888888,
             "#fdca26"
            ],
            [
             1,
             "#f0f921"
            ]
           ],
           "sequentialminus": [
            [
             0,
             "#0d0887"
            ],
            [
             0.1111111111111111,
             "#46039f"
            ],
            [
             0.2222222222222222,
             "#7201a8"
            ],
            [
             0.3333333333333333,
             "#9c179e"
            ],
            [
             0.4444444444444444,
             "#bd3786"
            ],
            [
             0.5555555555555556,
             "#d8576b"
            ],
            [
             0.6666666666666666,
             "#ed7953"
            ],
            [
             0.7777777777777778,
             "#fb9f3a"
            ],
            [
             0.8888888888888888,
             "#fdca26"
            ],
            [
             1,
             "#f0f921"
            ]
           ]
          },
          "colorway": [
           "#636efa",
           "#EF553B",
           "#00cc96",
           "#ab63fa",
           "#FFA15A",
           "#19d3f3",
           "#FF6692",
           "#B6E880",
           "#FF97FF",
           "#FECB52"
          ],
          "font": {
           "color": "#2a3f5f"
          },
          "geo": {
           "bgcolor": "white",
           "lakecolor": "white",
           "landcolor": "#E5ECF6",
           "showlakes": true,
           "showland": true,
           "subunitcolor": "white"
          },
          "hoverlabel": {
           "align": "left"
          },
          "hovermode": "closest",
          "mapbox": {
           "style": "light"
          },
          "paper_bgcolor": "white",
          "plot_bgcolor": "#E5ECF6",
          "polar": {
           "angularaxis": {
            "gridcolor": "white",
            "linecolor": "white",
            "ticks": ""
           },
           "bgcolor": "#E5ECF6",
           "radialaxis": {
            "gridcolor": "white",
            "linecolor": "white",
            "ticks": ""
           }
          },
          "scene": {
           "xaxis": {
            "backgroundcolor": "#E5ECF6",
            "gridcolor": "white",
            "gridwidth": 2,
            "linecolor": "white",
            "showbackground": true,
            "ticks": "",
            "zerolinecolor": "white"
           },
           "yaxis": {
            "backgroundcolor": "#E5ECF6",
            "gridcolor": "white",
            "gridwidth": 2,
            "linecolor": "white",
            "showbackground": true,
            "ticks": "",
            "zerolinecolor": "white"
           },
           "zaxis": {
            "backgroundcolor": "#E5ECF6",
            "gridcolor": "white",
            "gridwidth": 2,
            "linecolor": "white",
            "showbackground": true,
            "ticks": "",
            "zerolinecolor": "white"
           }
          },
          "shapedefaults": {
           "line": {
            "color": "#2a3f5f"
           }
          },
          "ternary": {
           "aaxis": {
            "gridcolor": "white",
            "linecolor": "white",
            "ticks": ""
           },
           "baxis": {
            "gridcolor": "white",
            "linecolor": "white",
            "ticks": ""
           },
           "bgcolor": "#E5ECF6",
           "caxis": {
            "gridcolor": "white",
            "linecolor": "white",
            "ticks": ""
           }
          },
          "title": {
           "x": 0.05
          },
          "xaxis": {
           "automargin": true,
           "gridcolor": "white",
           "linecolor": "white",
           "ticks": "",
           "title": {
            "standoff": 15
           },
           "zerolinecolor": "white",
           "zerolinewidth": 2
          },
          "yaxis": {
           "automargin": true,
           "gridcolor": "white",
           "linecolor": "white",
           "ticks": "",
           "title": {
            "standoff": 15
           },
           "zerolinecolor": "white",
           "zerolinewidth": 2
          }
         }
        },
        "title": {
         "font": {
          "color": "#4D5663"
         },
         "text": "PCA"
        }
       }
      },
      "text/html": [
       "<div>                            <div id=\"4aa9642f-35c3-47b7-ad04-c0eecdef036a\" class=\"plotly-graph-div\" style=\"height:525px; width:100%;\"></div>            <script type=\"text/javascript\">                require([\"plotly\"], function(Plotly) {                    window.PLOTLYENV=window.PLOTLYENV || {};\n",
       "                    window.PLOTLYENV.BASE_URL='https://plot.ly';                                    if (document.getElementById(\"4aa9642f-35c3-47b7-ad04-c0eecdef036a\")) {                    Plotly.newPlot(                        \"4aa9642f-35c3-47b7-ad04-c0eecdef036a\",                        [{\"marker\":{\"color\":\"rgba(255, 153, 51, 1.0)\",\"line\":{\"width\":1.3},\"opacity\":0.8,\"size\":5,\"symbol\":\"circle\"},\"mode\":\"markers\",\"name\":\"setosa\",\"textfont\":{\"color\":\"#4D5663\"},\"x\":[-2.2647028088075962,-2.080961151965768,-2.3642290538903006,-2.299384217042709,-2.389842166313845,-2.0756309481765123,-2.4440288351341533,-2.2328471588720156,-2.334640477907622,-2.1843281749339427,-2.1663101007013226,-2.3261308664426994,-2.2184508988224096,-2.633100695765229,-2.1987406032666894,-2.262214531601021,-2.207587695824593,-2.190349509192299,-1.898571995802842,-2.3433690530749938,-1.914322996082568,-2.207012843194798,-2.774344702927333,-1.818669528695849,-2.227163305706639,-1.9518463309003764,-2.0511513727294157,-2.1685771746542164,-2.1395634513013317,-2.2652614931542416,-2.1401221356479847,-1.8315947706760285,-2.614947935858935,-2.446177391696515,-2.109974875318653,-2.207808899078266,-2.0451462067542012,-2.5273319131704866,-2.4296325750845473,-2.169710711630664,-2.2864751433456707,-1.8581224563735712,-2.5536383956143567,-1.9644476837637412,-2.1370590058116234,-2.06974429959183,-2.3847331657782638,-2.3943763142196337,-2.229446547942675,-2.203833435519131],\"y\":[0.48002659652098856,-0.6741335566053535,-0.34190802388467606,-0.5973945076746757,0.6468353829020277,1.4891775233211673,0.0476441976300145,0.2231480726895919,-1.1153276754616666,-0.4690135614023758,1.0436906530538599,0.13307833523923182,-0.728676165316571,-0.9615067291701631,1.8600571132939314,2.6862844851105927,1.4836093631555727,0.4888383164863276,1.4050187944665495,1.1278493819084767,0.4088557077559062,0.9241214267468988,0.4583436677529158,0.0855585262873662,0.13725445536342756,-0.6256185877766768,0.24216355266166728,0.5271495253082674,0.31321781013995187,-0.33773190376048046,-0.5045406901415185,0.4236950676037859,1.7935758561044293,2.1507278773929244,-0.46020184143703746,-0.20610739768843697,0.6615581114631081,0.5922927741908098,-0.904180040376148,0.268878961435471,0.4417153876990502,-2.337415157553349,-0.4791006901223139,0.4723266677192611,1.1422292620394094,-0.7110527253858943,1.1204297019845368,-0.38624687258915713,0.9979597643079806,0.009216357521276256],\"z\":[-0.12770602230015682,-0.23460885398456785,0.04420148483874488,0.09129010632068195,0.015738195676258657,0.02696829443978162,0.33547040114311366,-0.08869549794772634,0.14507686363699987,-0.2537655673000064,-0.26868110221613467,0.09375924438111158,-0.2309112372066024,0.18079608440317899,-0.4729009978730765,0.030526609265510502,-0.005344094078264252,-0.04421531647845377,-0.37434327455765454,0.13263046678130208,-0.4212925940873564,0.1598652772262527,0.33217909755686575,0.03448859579998135,0.11799353576964575,-0.3056409823252074,0.08636401082518226,-0.20681624777030455,-0.27115024027656415,0.06843577622727821,-0.07500844174913283,-0.270467376702982,0.047228418668485664,-0.08266804506156808,-0.17027486147830787,-0.22544158008975682,-0.48453740982831656,0.019435812454222944,0.1932546618842366,-0.17588382054738907,0.034894908991697414,-0.20423422253096477,0.305766452637733,0.3096013178453275,0.24843356112104648,-0.0639298255632054,0.05721785808911495,0.13946790456791894,-0.18149277961647095,-0.153029490453986],\"type\":\"scatter3d\"},{\"marker\":{\"color\":\"rgba(55, 128, 191, 1.0)\",\"line\":{\"width\":1.3},\"opacity\":0.8,\"size\":5,\"symbol\":\"circle\"},\"mode\":\"markers\",\"name\":\"versicolor\",\"textfont\":{\"color\":\"#4D5663\"},\"x\":[1.101781183052949,0.7313374253960883,1.2409793195158325,0.40748305881738545,1.0754747006090792,0.38868733653566523,0.7465297413291615,-0.4873227421256398,0.9279016383549467,0.011426188736980081,-0.11019628000062898,0.4406934489830788,0.5621083064431797,0.719561888675497,-0.033354703178772004,0.8754071908577388,0.350251667995083,0.15881004754797154,1.225093633562433,0.16491789938632764,0.7376826487712587,0.47628719094097194,1.2341780976571501,0.6328581997098223,0.7026611831361832,0.8742736538812915,1.2565091165418851,1.358405121440633,0.6648003672253953,-0.04025861090059515,0.13079517549786093,0.023452688970551125,0.24153827295451127,1.0610946088426145,0.22397877351237938,0.429139115516161,1.0487280512090886,1.0445313843962802,0.06958832111642303,0.28347723828757554,0.2790777760554608,0.624569791498572,0.3365303701314363,-0.3621833846193835,0.2885862388231576,0.09136065565450546,0.2277168655347003,0.5763882886534792,-0.44766701902861156,0.25673058888758504],\"y\":[0.8629724182621589,0.5946147256694247,0.6162976544374985,-1.7544039893234114,-0.20842104605096562,-0.593283635990075,0.7730193120985969,-1.8524290868575748,0.03222607789115363,-1.0340182751294407,-2.6540728185365654,-0.06329518843800137,-1.7647243806169461,-0.18622460583150574,-0.4390032099816247,0.5090639567734085,-0.19631173455144374,-0.7920957424327215,-1.6222438030915032,-1.302609230295773,0.3965715619602393,-0.4173202812135512,-0.9333257287992789,-0.41638772088909953,-0.06341181972480034,0.250793392900612,-0.07725601969586919,0.33131168179089815,-0.2259278546948436,-1.0587185465539088,-1.562271834209968,-1.5724755942167052,-0.7772563825848418,-0.6338432447349468,-0.28777351204320195,0.8455822409050794,0.5220517968629427,-1.3829887191907826,-0.21950333464771482,-1.329324639069577,-1.120028523742404,0.02492302925401274,-0.9884040176703607,-2.0192378732386125,-0.8557303199870664,-0.18119212582577512,-0.3849200809873537,-0.15487359721655897,-1.5437920343977567,-0.5988517961556694],\"z\":[-0.6845861626897367,-0.09412171552908227,-0.5540068353861006,-0.02310176781380149,-0.39825552250622653,0.1241915495181701,0.14896940252805096,0.2492652657892493,-0.5961693613725382,0.5388993901843676,-0.04679044405838318,0.20507381532720279,-0.7657713936539611,-0.06865894542301251,0.19493289332897895,-0.50351138165603,0.4908730745147273,-0.3020371744413823,-0.48230402409723744,-0.1728378084328764,0.6165263063228636,-0.2649522265280393,-0.36841227204861,-0.29189625244315776,-0.44602700756174685,-0.4725789544331144,-0.7271550018678916,-0.2608265767906138,0.08586388873932604,-0.3195733299955363,-0.14998347833947337,-0.24155228129068343,-0.15121195705700805,0.10531138658459721,0.6652497197140526,0.4506340714447656,-0.395786384445797,-0.6882959600930607,0.29157927435328423,0.08941002293969494,0.09448760101279023,-0.020481147175775788,-0.19938975530424483,0.10582104781283834,0.13088968535255144,0.1289783430614335,0.15621315350638398,-0.27165036236242035,0.19040093039983638,0.09187916100012432],\"type\":\"scatter3d\"},{\"marker\":{\"color\":\"rgba(50, 171, 96, 1.0)\",\"line\":{\"width\":1.3},\"opacity\":0.8,\"size\":5,\"symbol\":\"circle\"},\"mode\":\"markers\",\"name\":\"virginica\",\"textfont\":{\"color\":\"#4D5663\"},\"x\":[1.84456886772303,1.1578816132057803,2.20526679107538,1.44015066382754,1.867812220330539,2.7518733356662795,0.3670176878607243,2.3024394446251994,2.006686467676607,2.259777349012502,1.364175492186009,1.6026786704779319,1.8839007017032443,1.260115099197508,1.4676452010173247,1.5900773176145668,1.4714314611333192,2.426328987315703,3.31069558393389,1.2637666736398292,2.0377163014694064,0.9779807342494219,2.8976514907341717,1.3332321759732098,1.7007338974912183,1.9543267058530729,1.1751036315549332,1.0209505506957917,1.7883499201796669,1.863647553328263,2.4359537279227057,2.3049277218317665,1.8627032197949567,1.1141477406864755,1.2024733016783913,2.79877044757811,1.576255910194755,1.3462921036270628,0.9248249165424202,1.8520450517676719,2.0148104299548772,1.9017840902621908,1.1578816132057803,2.0405582280520944,1.9981470959523775,1.8705032929564118,1.5645804830303296,1.521170499627839,1.3727877895140737,0.9606560300371284],\"y\":[0.870421312324824,-0.6988698623306903,0.5620104770083557,-0.04698758810580639,0.29504482445702,0.8004092010275421,-1.5615028914765061,0.4200655796427763,-0.7114386535471592,1.9210103764598876,0.6927564544903874,-0.42170044977261734,0.4192496506051236,-1.1622604214064636,-0.4422715873770823,0.6762448057233204,0.2556218244714707,2.556661250795493,0.017780949320626627,-1.706745380376268,0.9104674096183111,-0.5717643248129916,0.41364105959564745,-0.4818112186494296,1.0139218673227919,1.0077775961534527,-0.3163944723097912,0.06434602923956204,-0.18736121459082875,0.5622907258861446,0.25928443314428007,2.6263234682323793,-0.17854949462549038,-0.2929226233357314,-0.8113152708396687,0.8568033294971051,1.0685811073208085,0.4224306108525086,0.017223100452284344,0.6761281744365216,0.6138856369235753,0.6895754942430027,-0.6988698623306903,0.8675206009552286,1.0491687471841455,0.38696608166572555,-0.8966868088965267,0.2690691442779517,1.0112544185267935,-0.02433166816939902],\"z\":[1.0054010176069867,0.5301601492490193,-0.2029141697368685,0.1636301068300584,0.39562837455329747,-0.5823091028286043,0.986893267472025,-0.6517064392599929,-0.3939905708165644,0.39755189746977376,0.2846120737568163,0.023186407910062726,0.026338409544075063,0.5802492897873728,1.0038695737342598,0.6384287080805975,0.037431259877968664,-0.12788145946307244,-0.7033053039033289,-0.2675368932503537,0.2347994836003276,0.8281272013877695,-0.8574218248739512,-0.005428363830017837,0.29845061253300514,-0.41998472191862,0.12993775701688148,0.337715967499553,0.27065800631874226,-0.7156341185745364,-0.7278161456737293,-0.49347380769433036,0.3541487121404409,-0.18348839165934275,-0.16472375738765394,-0.5429064994324281,0.9458538186439904,0.18087547785437974,0.4168261929697044,-0.012672114808351868,0.4283328421150929,0.13007500544651043,0.5301601492490193,0.33814400045901427,0.6324134358197991,0.25627385239860034,-0.026371351632304325,0.18017838013283138,0.9333952411629318,0.5282488069579016],\"type\":\"scatter3d\"}],                        {\"legend\":{\"bgcolor\":\"#F5F6F9\",\"font\":{\"color\":\"#4D5663\"}},\"paper_bgcolor\":\"#F5F6F9\",\"plot_bgcolor\":\"#F5F6F9\",\"scene\":{\"xaxis\":{\"gridcolor\":\"#9499A3\",\"showgrid\":true,\"tickfont\":{\"color\":\"#4D5663\"},\"title\":{\"font\":{\"color\":\"#4D5663\"},\"text\":\"\"},\"zerolinecolor\":\"#9499A3\"},\"yaxis\":{\"gridcolor\":\"#9499A3\",\"showgrid\":true,\"tickfont\":{\"color\":\"#4D5663\"},\"title\":{\"font\":{\"color\":\"#4D5663\"},\"text\":\"\"},\"zerolinecolor\":\"#9499A3\"},\"zaxis\":{\"gridcolor\":\"#9499A3\",\"showgrid\":true,\"tickfont\":{\"color\":\"#4D5663\"},\"title\":{\"font\":{\"color\":\"#4D5663\"},\"text\":\"\"},\"zerolinecolor\":\"#9499A3\"}},\"template\":{\"data\":{\"barpolar\":[{\"marker\":{\"line\":{\"color\":\"#E5ECF6\",\"width\":0.5},\"pattern\":{\"fillmode\":\"overlay\",\"size\":10,\"solidity\":0.2}},\"type\":\"barpolar\"}],\"bar\":[{\"error_x\":{\"color\":\"#2a3f5f\"},\"error_y\":{\"color\":\"#2a3f5f\"},\"marker\":{\"line\":{\"color\":\"#E5ECF6\",\"width\":0.5},\"pattern\":{\"fillmode\":\"overlay\",\"size\":10,\"solidity\":0.2}},\"type\":\"bar\"}],\"carpet\":[{\"aaxis\":{\"endlinecolor\":\"#2a3f5f\",\"gridcolor\":\"white\",\"linecolor\":\"white\",\"minorgridcolor\":\"white\",\"startlinecolor\":\"#2a3f5f\"},\"baxis\":{\"endlinecolor\":\"#2a3f5f\",\"gridcolor\":\"white\",\"linecolor\":\"white\",\"minorgridcolor\":\"white\",\"startlinecolor\":\"#2a3f5f\"},\"type\":\"carpet\"}],\"choropleth\":[{\"colorbar\":{\"outlinewidth\":0,\"ticks\":\"\"},\"type\":\"choropleth\"}],\"contourcarpet\":[{\"colorbar\":{\"outlinewidth\":0,\"ticks\":\"\"},\"type\":\"contourcarpet\"}],\"contour\":[{\"colorbar\":{\"outlinewidth\":0,\"ticks\":\"\"},\"colorscale\":[[0.0,\"#0d0887\"],[0.1111111111111111,\"#46039f\"],[0.2222222222222222,\"#7201a8\"],[0.3333333333333333,\"#9c179e\"],[0.4444444444444444,\"#bd3786\"],[0.5555555555555556,\"#d8576b\"],[0.6666666666666666,\"#ed7953\"],[0.7777777777777778,\"#fb9f3a\"],[0.8888888888888888,\"#fdca26\"],[1.0,\"#f0f921\"]],\"type\":\"contour\"}],\"heatmapgl\":[{\"colorbar\":{\"outlinewidth\":0,\"ticks\":\"\"},\"colorscale\":[[0.0,\"#0d0887\"],[0.1111111111111111,\"#46039f\"],[0.2222222222222222,\"#7201a8\"],[0.3333333333333333,\"#9c179e\"],[0.4444444444444444,\"#bd3786\"],[0.5555555555555556,\"#d8576b\"],[0.6666666666666666,\"#ed7953\"],[0.7777777777777778,\"#fb9f3a\"],[0.8888888888888888,\"#fdca26\"],[1.0,\"#f0f921\"]],\"type\":\"heatmapgl\"}],\"heatmap\":[{\"colorbar\":{\"outlinewidth\":0,\"ticks\":\"\"},\"colorscale\":[[0.0,\"#0d0887\"],[0.1111111111111111,\"#46039f\"],[0.2222222222222222,\"#7201a8\"],[0.3333333333333333,\"#9c179e\"],[0.4444444444444444,\"#bd3786\"],[0.5555555555555556,\"#d8576b\"],[0.6666666666666666,\"#ed7953\"],[0.7777777777777778,\"#fb9f3a\"],[0.8888888888888888,\"#fdca26\"],[1.0,\"#f0f921\"]],\"type\":\"heatmap\"}],\"histogram2dcontour\":[{\"colorbar\":{\"outlinewidth\":0,\"ticks\":\"\"},\"colorscale\":[[0.0,\"#0d0887\"],[0.1111111111111111,\"#46039f\"],[0.2222222222222222,\"#7201a8\"],[0.3333333333333333,\"#9c179e\"],[0.4444444444444444,\"#bd3786\"],[0.5555555555555556,\"#d8576b\"],[0.6666666666666666,\"#ed7953\"],[0.7777777777777778,\"#fb9f3a\"],[0.8888888888888888,\"#fdca26\"],[1.0,\"#f0f921\"]],\"type\":\"histogram2dcontour\"}],\"histogram2d\":[{\"colorbar\":{\"outlinewidth\":0,\"ticks\":\"\"},\"colorscale\":[[0.0,\"#0d0887\"],[0.1111111111111111,\"#46039f\"],[0.2222222222222222,\"#7201a8\"],[0.3333333333333333,\"#9c179e\"],[0.4444444444444444,\"#bd3786\"],[0.5555555555555556,\"#d8576b\"],[0.6666666666666666,\"#ed7953\"],[0.7777777777777778,\"#fb9f3a\"],[0.8888888888888888,\"#fdca26\"],[1.0,\"#f0f921\"]],\"type\":\"histogram2d\"}],\"histogram\":[{\"marker\":{\"pattern\":{\"fillmode\":\"overlay\",\"size\":10,\"solidity\":0.2}},\"type\":\"histogram\"}],\"mesh3d\":[{\"colorbar\":{\"outlinewidth\":0,\"ticks\":\"\"},\"type\":\"mesh3d\"}],\"parcoords\":[{\"line\":{\"colorbar\":{\"outlinewidth\":0,\"ticks\":\"\"}},\"type\":\"parcoords\"}],\"pie\":[{\"automargin\":true,\"type\":\"pie\"}],\"scatter3d\":[{\"line\":{\"colorbar\":{\"outlinewidth\":0,\"ticks\":\"\"}},\"marker\":{\"colorbar\":{\"outlinewidth\":0,\"ticks\":\"\"}},\"type\":\"scatter3d\"}],\"scattercarpet\":[{\"marker\":{\"colorbar\":{\"outlinewidth\":0,\"ticks\":\"\"}},\"type\":\"scattercarpet\"}],\"scattergeo\":[{\"marker\":{\"colorbar\":{\"outlinewidth\":0,\"ticks\":\"\"}},\"type\":\"scattergeo\"}],\"scattergl\":[{\"marker\":{\"colorbar\":{\"outlinewidth\":0,\"ticks\":\"\"}},\"type\":\"scattergl\"}],\"scattermapbox\":[{\"marker\":{\"colorbar\":{\"outlinewidth\":0,\"ticks\":\"\"}},\"type\":\"scattermapbox\"}],\"scatterpolargl\":[{\"marker\":{\"colorbar\":{\"outlinewidth\":0,\"ticks\":\"\"}},\"type\":\"scatterpolargl\"}],\"scatterpolar\":[{\"marker\":{\"colorbar\":{\"outlinewidth\":0,\"ticks\":\"\"}},\"type\":\"scatterpolar\"}],\"scatter\":[{\"fillpattern\":{\"fillmode\":\"overlay\",\"size\":10,\"solidity\":0.2},\"type\":\"scatter\"}],\"scatterternary\":[{\"marker\":{\"colorbar\":{\"outlinewidth\":0,\"ticks\":\"\"}},\"type\":\"scatterternary\"}],\"surface\":[{\"colorbar\":{\"outlinewidth\":0,\"ticks\":\"\"},\"colorscale\":[[0.0,\"#0d0887\"],[0.1111111111111111,\"#46039f\"],[0.2222222222222222,\"#7201a8\"],[0.3333333333333333,\"#9c179e\"],[0.4444444444444444,\"#bd3786\"],[0.5555555555555556,\"#d8576b\"],[0.6666666666666666,\"#ed7953\"],[0.7777777777777778,\"#fb9f3a\"],[0.8888888888888888,\"#fdca26\"],[1.0,\"#f0f921\"]],\"type\":\"surface\"}],\"table\":[{\"cells\":{\"fill\":{\"color\":\"#EBF0F8\"},\"line\":{\"color\":\"white\"}},\"header\":{\"fill\":{\"color\":\"#C8D4E3\"},\"line\":{\"color\":\"white\"}},\"type\":\"table\"}]},\"layout\":{\"annotationdefaults\":{\"arrowcolor\":\"#2a3f5f\",\"arrowhead\":0,\"arrowwidth\":1},\"autotypenumbers\":\"strict\",\"coloraxis\":{\"colorbar\":{\"outlinewidth\":0,\"ticks\":\"\"}},\"colorscale\":{\"diverging\":[[0,\"#8e0152\"],[0.1,\"#c51b7d\"],[0.2,\"#de77ae\"],[0.3,\"#f1b6da\"],[0.4,\"#fde0ef\"],[0.5,\"#f7f7f7\"],[0.6,\"#e6f5d0\"],[0.7,\"#b8e186\"],[0.8,\"#7fbc41\"],[0.9,\"#4d9221\"],[1,\"#276419\"]],\"sequential\":[[0.0,\"#0d0887\"],[0.1111111111111111,\"#46039f\"],[0.2222222222222222,\"#7201a8\"],[0.3333333333333333,\"#9c179e\"],[0.4444444444444444,\"#bd3786\"],[0.5555555555555556,\"#d8576b\"],[0.6666666666666666,\"#ed7953\"],[0.7777777777777778,\"#fb9f3a\"],[0.8888888888888888,\"#fdca26\"],[1.0,\"#f0f921\"]],\"sequentialminus\":[[0.0,\"#0d0887\"],[0.1111111111111111,\"#46039f\"],[0.2222222222222222,\"#7201a8\"],[0.3333333333333333,\"#9c179e\"],[0.4444444444444444,\"#bd3786\"],[0.5555555555555556,\"#d8576b\"],[0.6666666666666666,\"#ed7953\"],[0.7777777777777778,\"#fb9f3a\"],[0.8888888888888888,\"#fdca26\"],[1.0,\"#f0f921\"]]},\"colorway\":[\"#636efa\",\"#EF553B\",\"#00cc96\",\"#ab63fa\",\"#FFA15A\",\"#19d3f3\",\"#FF6692\",\"#B6E880\",\"#FF97FF\",\"#FECB52\"],\"font\":{\"color\":\"#2a3f5f\"},\"geo\":{\"bgcolor\":\"white\",\"lakecolor\":\"white\",\"landcolor\":\"#E5ECF6\",\"showlakes\":true,\"showland\":true,\"subunitcolor\":\"white\"},\"hoverlabel\":{\"align\":\"left\"},\"hovermode\":\"closest\",\"mapbox\":{\"style\":\"light\"},\"paper_bgcolor\":\"white\",\"plot_bgcolor\":\"#E5ECF6\",\"polar\":{\"angularaxis\":{\"gridcolor\":\"white\",\"linecolor\":\"white\",\"ticks\":\"\"},\"bgcolor\":\"#E5ECF6\",\"radialaxis\":{\"gridcolor\":\"white\",\"linecolor\":\"white\",\"ticks\":\"\"}},\"scene\":{\"xaxis\":{\"backgroundcolor\":\"#E5ECF6\",\"gridcolor\":\"white\",\"gridwidth\":2,\"linecolor\":\"white\",\"showbackground\":true,\"ticks\":\"\",\"zerolinecolor\":\"white\"},\"yaxis\":{\"backgroundcolor\":\"#E5ECF6\",\"gridcolor\":\"white\",\"gridwidth\":2,\"linecolor\":\"white\",\"showbackground\":true,\"ticks\":\"\",\"zerolinecolor\":\"white\"},\"zaxis\":{\"backgroundcolor\":\"#E5ECF6\",\"gridcolor\":\"white\",\"gridwidth\":2,\"linecolor\":\"white\",\"showbackground\":true,\"ticks\":\"\",\"zerolinecolor\":\"white\"}},\"shapedefaults\":{\"line\":{\"color\":\"#2a3f5f\"}},\"ternary\":{\"aaxis\":{\"gridcolor\":\"white\",\"linecolor\":\"white\",\"ticks\":\"\"},\"baxis\":{\"gridcolor\":\"white\",\"linecolor\":\"white\",\"ticks\":\"\"},\"bgcolor\":\"#E5ECF6\",\"caxis\":{\"gridcolor\":\"white\",\"linecolor\":\"white\",\"ticks\":\"\"}},\"title\":{\"x\":0.05},\"xaxis\":{\"automargin\":true,\"gridcolor\":\"white\",\"linecolor\":\"white\",\"ticks\":\"\",\"title\":{\"standoff\":15},\"zerolinecolor\":\"white\",\"zerolinewidth\":2},\"yaxis\":{\"automargin\":true,\"gridcolor\":\"white\",\"linecolor\":\"white\",\"ticks\":\"\",\"title\":{\"standoff\":15},\"zerolinecolor\":\"white\",\"zerolinewidth\":2}}},\"title\":{\"font\":{\"color\":\"#4D5663\"},\"text\":\"PCA\"}},                        {\"showLink\": true, \"linkText\": \"Export to plot.ly\", \"plotlyServerURL\": \"https://plot.ly\", \"responsive\": true}                    ).then(function(){\n",
       "                            \n",
       "var gd = document.getElementById('4aa9642f-35c3-47b7-ad04-c0eecdef036a');\n",
       "var x = new MutationObserver(function (mutations, observer) {{\n",
       "        var display = window.getComputedStyle(gd).display;\n",
       "        if (!display || display === 'none') {{\n",
       "            console.log([gd, 'removed!']);\n",
       "            Plotly.purge(gd);\n",
       "            observer.disconnect();\n",
       "        }}\n",
       "}});\n",
       "\n",
       "// Listen for the removal of the full notebook cells\n",
       "var notebookContainer = gd.closest('#notebook-container');\n",
       "if (notebookContainer) {{\n",
       "    x.observe(notebookContainer, {childList: true});\n",
       "}}\n",
       "\n",
       "// Listen for the clearing of the current output cell\n",
       "var outputEl = gd.closest('.output');\n",
       "if (outputEl) {{\n",
       "    x.observe(outputEl, {childList: true});\n",
       "}}\n",
       "\n",
       "                        })                };                });            </script>        </div>"
      ]
     },
     "metadata": {},
     "output_type": "display_data"
    },
    {
     "data": {
      "application/vnd.plotly.v1+json": {
       "config": {
        "linkText": "Export to plot.ly",
        "plotlyServerURL": "https://plot.ly",
        "showLink": true
       },
       "data": [
        {
         "marker": {
          "color": "rgba(255, 153, 51, 1.0)",
          "line": {
           "width": 1.3
          },
          "opacity": 0.8,
          "size": 5,
          "symbol": "circle"
         },
         "mode": "markers",
         "name": "setosa",
         "textfont": {
          "color": "#4D5663"
         },
         "type": "scatter3d",
         "x": [
          0.28526753110760367,
          0.07415663795994311,
          0.14367593079020913,
          0.0895100042799476,
          0.3181407629063066,
          0.4268716348419878,
          0.2018431045742327,
          0.23563863978392552,
          -0.0006229794263529565,
          0.11847226083224778,
          0.3815607273758617,
          0.21631916856710476,
          0.07243135747617666,
          0.049341742881391475,
          0.5024511101028768,
          0.6154449541094749,
          0.4572874651696426,
          0.27897585376112616,
          0.421522481569316,
          0.3938364384321813,
          0.2544168471185675,
          0.34707137889694095,
          0.30462913674111725,
          0.173147558239624,
          0.20290606949409298,
          0.07446217670010535,
          0.217064945595907,
          0.2881723937101637,
          0.25331243194576286,
          0.13161291037328074,
          0.10023018791828711,
          0.2518782492351213,
          0.5238089173974932,
          0.555055784353396,
          0.11140001214596207,
          0.17034480969271712,
          0.335553958698488,
          0.3198472284591244,
          0.041173391709586504,
          0.24266860814283767,
          0.2768806855713685,
          -0.2316159310292171,
          0.11747805677837332,
          0.24575436942316162,
          0.37440914934016456,
          0.05842516575298214,
          0.3990952104139324,
          0.1315078478291948,
          0.370952552675975,
          0.20065344171883887
         ],
         "y": [
          0.40776011284965935,
          0.43416784816002824,
          0.47934311593015494,
          0.5006835325463129,
          0.4360901989982413,
          0.2682518668073653,
          0.5192035857994822,
          0.42272017959861746,
          0.4993646711072353,
          0.4302371380415764,
          0.3375124927708329,
          0.4629619934655726,
          0.4894528002592385,
          0.5496075500044202,
          0.22137312074110874,
          0.15061207277689828,
          0.33001422797221147,
          0.4022064337816122,
          0.23589460791390127,
          0.4015065425821934,
          0.3067490981224618,
          0.3979180995652897,
          0.5573391798363693,
          0.353969864246197,
          0.4605224907199779,
          0.3942425605880589,
          0.39804609984320466,
          0.37738745645385385,
          0.3765163426977422,
          0.4803873119496989,
          0.4572779131400986,
          0.3086564665217466,
          0.45084035272858247,
          0.2581417608077496,
          0.42840040302308,
          0.43845897294070135,
          0.34817130574660404,
          0.4690946954116033,
          0.5491009176863696,
          0.3982420419600739,
          0.4355918634537123,
          0.5234450470868465,
          0.5567880647473001,
          0.4029102466838655,
          0.3096957101210852,
          0.4339260259407061,
          0.40711998596268106,
          0.5006582441802896,
          0.35066782052085743,
          0.41801793990349106
         ],
         "z": [
          0.403727125545284,
          0.45529470211628964,
          0.4501725651600523,
          0.42587144399772375,
          0.38629479139081774,
          0.344985496068234,
          0.36209779402342884,
          0.40185692863344086,
          0.5003784726364348,
          0.475356692046961,
          0.38594002189082915,
          0.3894720961538109,
          0.45612183697778386,
          0.5427279352038143,
          0.4644625921443794,
          0.41554642516781154,
          0.3260656731130068,
          0.3701337646797197,
          0.35588381215011006,
          0.33157069231282443,
          0.41376732952427986,
          0.3053907204817499,
          0.40117290151459817,
          0.31825890891860853,
          0.35016020181556223,
          0.44745627843181535,
          0.3364451830910118,
          0.4011782366181352,
          0.42378227294354776,
          0.4045928870373416,
          0.41391408037130406,
          0.3597721093968582,
          0.31524654733542246,
          0.44342475632403994,
          0.4383202868246689,
          0.44486362097334564,
          0.3899134301331757,
          0.4116041700568167,
          0.45449276750707246,
          0.4069913521333371,
          0.36943884774732544,
          0.4750858300433314,
          0.4365843750263921,
          0.24599381180061694,
          0.3310984335622376,
          0.4386630276275193,
          0.350390626801706,
          0.43604473466928806,
          0.3952187685789639,
          0.42820808153094186
         ]
        },
        {
         "marker": {
          "color": "rgba(55, 128, 191, 1.0)",
          "line": {
           "width": 1.3
          },
          "opacity": 0.8,
          "size": 5,
          "symbol": "circle"
         },
         "mode": "markers",
         "name": "versicolor",
         "textfont": {
          "color": "#4D5663"
         },
         "type": "scatter3d",
         "x": [
          0.12078960717167003,
          0.0475775964162119,
          0.050596466267600934,
          -0.3278599059161857,
          -0.08784020031499283,
          -0.15082753094076684,
          0.05513558324038816,
          -0.2897667455021854,
          -0.022395247464958263,
          -0.2192467353704174,
          -0.4255085654463186,
          -0.0609368357920443,
          -0.2877701076960553,
          -0.08934291783485233,
          -0.08374437195120199,
          0.05933621756536257,
          -0.10550373026562875,
          -0.12686082212697494,
          -0.3358065195214442,
          -0.22121939728876472,
          -0.04630661814823753,
          -0.08452806818119002,
          -0.22671348598213917,
          -0.1074725717780841,
          -0.029439477249884476,
          0.013639996112645925,
          -0.05530365166171481,
          -0.03288986818592067,
          -0.1011183704807265,
          -0.15191070587257074,
          -0.2630061518910483,
          -0.25006371911332054,
          -0.13909490507362324,
          -0.21146754488270503,
          -0.12569618223037093,
          0.0685535017037577,
          0.03502802237917762,
          -0.2606570042267751,
          -0.06709844115785438,
          -0.2569899876663284,
          -0.23167479173422625,
          -0.04785013023507761,
          -0.17964898761533818,
          -0.31929131449932696,
          -0.18125859112840254,
          -0.04883168072546837,
          -0.09845142707729794,
          -0.05098089584533105,
          -0.2351706367448814,
          -0.13055691016905907
         ],
         "y": [
          -0.31920015499378207,
          -0.16918451829326447,
          -0.32876723498331945,
          -0.01681177476195894,
          -0.24927065045825564,
          -0.03698765955352499,
          -0.1516368297890758,
          0.22367411956804575,
          -0.25721925584192,
          0.11102316277358602,
          0.09210892822358586,
          -0.0494309309426756,
          -0.13189747301086127,
          -0.14339184046368383,
          0.06224699990514381,
          -0.24691344035796747,
          0.004646838114136718,
          -0.047802018416710196,
          -0.23800148486816722,
          -0.002288249398163472,
          -0.0757496391381797,
          -0.10627098541585939,
          -0.25478061058449597,
          -0.16075172985234443,
          -0.18696902492798487,
          -0.2337734207551198,
          -0.3322822544405377,
          -0.3043409941638039,
          -0.10551422380764243,
          0.01789435913260936,
          0.018236717581755026,
          0.03027813494471909,
          -0.031830500982190056,
          -0.17265848717519217,
          0.05563754336845867,
          -0.05422714293333997,
          -0.2688740779034082,
          -0.23764295224009896,
          0.03391414546258208,
          0.009272818156234878,
          0.0017196267264498397,
          -0.12401721857573705,
          -0.04919245598050262,
          0.18697728140975342,
          -0.005780616715141273,
          0.006357755172334217,
          -0.0081978318350581,
          -0.13716671439271627,
          0.20777304726414933,
          -0.012675567064989632
         ],
         "z": [
          -0.14133963579891162,
          -0.16723833403101623,
          -0.16501865550573877,
          0.06993370806874767,
          -0.0995528283135394,
          -0.05180173152276071,
          -0.2316580916658073,
          0.15052615574520287,
          -0.04679091689229148,
          -0.04193525371125445,
          0.25984561060038536,
          -0.12754598708239773,
          0.19339649843516893,
          -0.10098926074521153,
          -0.011567595907737305,
          -0.10015896465685935,
          -0.15636537450003823,
          0.10539219836826234,
          0.007762080172242208,
          0.1065133043994797,
          -0.30050782427552275,
          -0.0008043814991040855,
          -0.07195621533729316,
          -0.005236955437124396,
          -0.03340420049145389,
          -0.08578804345727825,
          -0.07195263707403478,
          -0.22485712381873205,
          -0.12670854563786876,
          0.15170077822768935,
          0.1276255908744259,
          0.16551358256237358,
          0.04498452248946845,
          -0.16236922686873018,
          -0.1643198858177827,
          -0.24316546764545163,
          -0.1539496457505893,
          0.064041501954341,
          -0.06118777110842055,
          0.03150358559145262,
          0.014993624394209069,
          -0.11315290150731178,
          0.054816580374231844,
          0.1748369907877199,
          -0.015673796175668393,
          -0.03215144899998428,
          -0.047278706049592036,
          -0.03953885065879919,
          0.12713776254390455,
          -0.02273082648755629
         ]
        },
        {
         "marker": {
          "color": "rgba(50, 171, 96, 1.0)",
          "line": {
           "width": 1.3
          },
          "opacity": 0.8,
          "size": 5,
          "symbol": "circle"
         },
         "mode": "markers",
         "name": "virginica",
         "textfont": {
          "color": "#4D5663"
         },
         "type": "scatter3d",
         "x": [
          -0.08103612788332032,
          -0.26064568358400275,
          -0.07099532132433634,
          -0.14916021590193732,
          -0.14776620584938377,
          -0.04840807488611965,
          -0.39521674130213064,
          -0.0721977096486942,
          -0.24931483600621657,
          0.11028564033161052,
          -0.018432896108373616,
          -0.20788769555204578,
          -0.08651072829251598,
          -0.34738084706387395,
          -0.34598301586254365,
          -0.07145714995428912,
          -0.08446767131915058,
          0.2404344948825623,
          -0.2024714120688128,
          -0.3731183459890602,
          -0.03321735818411235,
          -0.24788192490054936,
          -0.16834888572054918,
          -0.1932931609465323,
          0.011966417949157942,
          0.043448625486764446,
          -0.16246553207323866,
          -0.10235031513127839,
          -0.2052637533245726,
          -0.011291169839923188,
          -0.09921131586632734,
          0.28815283170133993,
          -0.21795511617291288,
          -0.13252034409162133,
          -0.26873179279462117,
          -0.0708347829834201,
          -0.04356656987317113,
          -0.05376018641149783,
          -0.10827548856140551,
          -0.03567591649579035,
          -0.10029288157570285,
          -0.043336909046645486,
          -0.26032790818465557,
          -0.04699594214291575,
          -0.033739198062769815,
          -0.1107449010736522,
          -0.28592183654546816,
          -0.0958450655415124,
          -0.025171449198895832,
          -0.13179523701655843
         ],
         "y": [
          -0.2593429791967197,
          -0.12683158130336633,
          -0.47223766890620483,
          -0.2664268861052686,
          -0.3233253393745721,
          -0.6501542727855179,
          0.09725765535054955,
          -0.5681191602607724,
          -0.4267574351924222,
          -0.4616333035895314,
          -0.24156482669955828,
          -0.2882816101934103,
          -0.36903522950831946,
          -0.10758776803369377,
          -0.18341950423084816,
          -0.23416050561846746,
          -0.29947948047131084,
          -0.6255782287253914,
          -0.740794022123154,
          -0.22004025628058876,
          -0.3902955255096992,
          -0.05471212832950902,
          -0.6676519779797544,
          -0.2350314318959884,
          -0.32770729217008326,
          -0.4892374019934304,
          -0.18985661586596547,
          -0.15233043055346432,
          -0.30105868041056527,
          -0.4928797092248119,
          -0.578352586165781,
          -0.6338245601069891,
          -0.30607589054407947,
          -0.23762750905255156,
          -0.24829533295484293,
          -0.635807103944971,
          -0.21049676532885742,
          -0.2605059299565699,
          -0.1211593309661563,
          -0.37598578821479056,
          -0.33978836637243487,
          -0.34305799123988767,
          -0.12636941665790039,
          -0.38310675651705384,
          -0.33085482448860337,
          -0.31365424089172655,
          -0.2657179268173975,
          -0.2707141409397111,
          -0.1735779873165295,
          -0.11426384182415818
         ],
         "z": [
          -0.6261814872417439,
          -0.2741991037170198,
          -0.40837672570472167,
          -0.2886524187114702,
          -0.44970707658111275,
          -0.4306715533145322,
          -0.13695213871410966,
          -0.2943955482454996,
          -0.21592645346475275,
          -0.6479058620313284,
          -0.377047577169435,
          -0.27085511310624094,
          -0.3949687749975847,
          -0.28168748304956553,
          -0.4139709581963122,
          -0.49784065310903236,
          -0.2902729783512624,
          -0.5794059838786032,
          -0.4543317028346937,
          -0.03607203621265787,
          -0.5065503937483272,
          -0.31905786749653625,
          -0.4128561091246952,
          -0.21377277214827886,
          -0.4554303484018024,
          -0.3317257071535109,
          -0.22914799689310714,
          -0.26899983699879304,
          -0.3757811161177602,
          -0.21528487279846525,
          -0.3101649182479607,
          -0.4993750539712768,
          -0.4083665623654679,
          -0.13418073402225478,
          -0.09726264593920811,
          -0.47959688019078617,
          -0.5837895654614229,
          -0.31353908183665524,
          -0.26534683314288005,
          -0.4032522877509065,
          -0.5307500649536977,
          -0.4796266317702701,
          -0.2746477451743766,
          -0.5184152273522499,
          -0.5999437004255018,
          -0.46780723897372317,
          -0.2209926068069577,
          -0.35113147378554194,
          -0.5375956039480543,
          -0.28944892575906644
         ]
        }
       ],
       "layout": {
        "legend": {
         "bgcolor": "#F5F6F9",
         "font": {
          "color": "#4D5663"
         }
        },
        "paper_bgcolor": "#F5F6F9",
        "plot_bgcolor": "#F5F6F9",
        "scene": {
         "xaxis": {
          "gridcolor": "#9499A3",
          "showgrid": true,
          "tickfont": {
           "color": "#4D5663"
          },
          "title": {
           "font": {
            "color": "#4D5663"
           },
           "text": ""
          },
          "zerolinecolor": "#9499A3"
         },
         "yaxis": {
          "gridcolor": "#9499A3",
          "showgrid": true,
          "tickfont": {
           "color": "#4D5663"
          },
          "title": {
           "font": {
            "color": "#4D5663"
           },
           "text": ""
          },
          "zerolinecolor": "#9499A3"
         },
         "zaxis": {
          "gridcolor": "#9499A3",
          "showgrid": true,
          "tickfont": {
           "color": "#4D5663"
          },
          "title": {
           "font": {
            "color": "#4D5663"
           },
           "text": ""
          },
          "zerolinecolor": "#9499A3"
         }
        },
        "template": {
         "data": {
          "bar": [
           {
            "error_x": {
             "color": "#2a3f5f"
            },
            "error_y": {
             "color": "#2a3f5f"
            },
            "marker": {
             "line": {
              "color": "#E5ECF6",
              "width": 0.5
             },
             "pattern": {
              "fillmode": "overlay",
              "size": 10,
              "solidity": 0.2
             }
            },
            "type": "bar"
           }
          ],
          "barpolar": [
           {
            "marker": {
             "line": {
              "color": "#E5ECF6",
              "width": 0.5
             },
             "pattern": {
              "fillmode": "overlay",
              "size": 10,
              "solidity": 0.2
             }
            },
            "type": "barpolar"
           }
          ],
          "carpet": [
           {
            "aaxis": {
             "endlinecolor": "#2a3f5f",
             "gridcolor": "white",
             "linecolor": "white",
             "minorgridcolor": "white",
             "startlinecolor": "#2a3f5f"
            },
            "baxis": {
             "endlinecolor": "#2a3f5f",
             "gridcolor": "white",
             "linecolor": "white",
             "minorgridcolor": "white",
             "startlinecolor": "#2a3f5f"
            },
            "type": "carpet"
           }
          ],
          "choropleth": [
           {
            "colorbar": {
             "outlinewidth": 0,
             "ticks": ""
            },
            "type": "choropleth"
           }
          ],
          "contour": [
           {
            "colorbar": {
             "outlinewidth": 0,
             "ticks": ""
            },
            "colorscale": [
             [
              0,
              "#0d0887"
             ],
             [
              0.1111111111111111,
              "#46039f"
             ],
             [
              0.2222222222222222,
              "#7201a8"
             ],
             [
              0.3333333333333333,
              "#9c179e"
             ],
             [
              0.4444444444444444,
              "#bd3786"
             ],
             [
              0.5555555555555556,
              "#d8576b"
             ],
             [
              0.6666666666666666,
              "#ed7953"
             ],
             [
              0.7777777777777778,
              "#fb9f3a"
             ],
             [
              0.8888888888888888,
              "#fdca26"
             ],
             [
              1,
              "#f0f921"
             ]
            ],
            "type": "contour"
           }
          ],
          "contourcarpet": [
           {
            "colorbar": {
             "outlinewidth": 0,
             "ticks": ""
            },
            "type": "contourcarpet"
           }
          ],
          "heatmap": [
           {
            "colorbar": {
             "outlinewidth": 0,
             "ticks": ""
            },
            "colorscale": [
             [
              0,
              "#0d0887"
             ],
             [
              0.1111111111111111,
              "#46039f"
             ],
             [
              0.2222222222222222,
              "#7201a8"
             ],
             [
              0.3333333333333333,
              "#9c179e"
             ],
             [
              0.4444444444444444,
              "#bd3786"
             ],
             [
              0.5555555555555556,
              "#d8576b"
             ],
             [
              0.6666666666666666,
              "#ed7953"
             ],
             [
              0.7777777777777778,
              "#fb9f3a"
             ],
             [
              0.8888888888888888,
              "#fdca26"
             ],
             [
              1,
              "#f0f921"
             ]
            ],
            "type": "heatmap"
           }
          ],
          "heatmapgl": [
           {
            "colorbar": {
             "outlinewidth": 0,
             "ticks": ""
            },
            "colorscale": [
             [
              0,
              "#0d0887"
             ],
             [
              0.1111111111111111,
              "#46039f"
             ],
             [
              0.2222222222222222,
              "#7201a8"
             ],
             [
              0.3333333333333333,
              "#9c179e"
             ],
             [
              0.4444444444444444,
              "#bd3786"
             ],
             [
              0.5555555555555556,
              "#d8576b"
             ],
             [
              0.6666666666666666,
              "#ed7953"
             ],
             [
              0.7777777777777778,
              "#fb9f3a"
             ],
             [
              0.8888888888888888,
              "#fdca26"
             ],
             [
              1,
              "#f0f921"
             ]
            ],
            "type": "heatmapgl"
           }
          ],
          "histogram": [
           {
            "marker": {
             "pattern": {
              "fillmode": "overlay",
              "size": 10,
              "solidity": 0.2
             }
            },
            "type": "histogram"
           }
          ],
          "histogram2d": [
           {
            "colorbar": {
             "outlinewidth": 0,
             "ticks": ""
            },
            "colorscale": [
             [
              0,
              "#0d0887"
             ],
             [
              0.1111111111111111,
              "#46039f"
             ],
             [
              0.2222222222222222,
              "#7201a8"
             ],
             [
              0.3333333333333333,
              "#9c179e"
             ],
             [
              0.4444444444444444,
              "#bd3786"
             ],
             [
              0.5555555555555556,
              "#d8576b"
             ],
             [
              0.6666666666666666,
              "#ed7953"
             ],
             [
              0.7777777777777778,
              "#fb9f3a"
             ],
             [
              0.8888888888888888,
              "#fdca26"
             ],
             [
              1,
              "#f0f921"
             ]
            ],
            "type": "histogram2d"
           }
          ],
          "histogram2dcontour": [
           {
            "colorbar": {
             "outlinewidth": 0,
             "ticks": ""
            },
            "colorscale": [
             [
              0,
              "#0d0887"
             ],
             [
              0.1111111111111111,
              "#46039f"
             ],
             [
              0.2222222222222222,
              "#7201a8"
             ],
             [
              0.3333333333333333,
              "#9c179e"
             ],
             [
              0.4444444444444444,
              "#bd3786"
             ],
             [
              0.5555555555555556,
              "#d8576b"
             ],
             [
              0.6666666666666666,
              "#ed7953"
             ],
             [
              0.7777777777777778,
              "#fb9f3a"
             ],
             [
              0.8888888888888888,
              "#fdca26"
             ],
             [
              1,
              "#f0f921"
             ]
            ],
            "type": "histogram2dcontour"
           }
          ],
          "mesh3d": [
           {
            "colorbar": {
             "outlinewidth": 0,
             "ticks": ""
            },
            "type": "mesh3d"
           }
          ],
          "parcoords": [
           {
            "line": {
             "colorbar": {
              "outlinewidth": 0,
              "ticks": ""
             }
            },
            "type": "parcoords"
           }
          ],
          "pie": [
           {
            "automargin": true,
            "type": "pie"
           }
          ],
          "scatter": [
           {
            "fillpattern": {
             "fillmode": "overlay",
             "size": 10,
             "solidity": 0.2
            },
            "type": "scatter"
           }
          ],
          "scatter3d": [
           {
            "line": {
             "colorbar": {
              "outlinewidth": 0,
              "ticks": ""
             }
            },
            "marker": {
             "colorbar": {
              "outlinewidth": 0,
              "ticks": ""
             }
            },
            "type": "scatter3d"
           }
          ],
          "scattercarpet": [
           {
            "marker": {
             "colorbar": {
              "outlinewidth": 0,
              "ticks": ""
             }
            },
            "type": "scattercarpet"
           }
          ],
          "scattergeo": [
           {
            "marker": {
             "colorbar": {
              "outlinewidth": 0,
              "ticks": ""
             }
            },
            "type": "scattergeo"
           }
          ],
          "scattergl": [
           {
            "marker": {
             "colorbar": {
              "outlinewidth": 0,
              "ticks": ""
             }
            },
            "type": "scattergl"
           }
          ],
          "scattermapbox": [
           {
            "marker": {
             "colorbar": {
              "outlinewidth": 0,
              "ticks": ""
             }
            },
            "type": "scattermapbox"
           }
          ],
          "scatterpolar": [
           {
            "marker": {
             "colorbar": {
              "outlinewidth": 0,
              "ticks": ""
             }
            },
            "type": "scatterpolar"
           }
          ],
          "scatterpolargl": [
           {
            "marker": {
             "colorbar": {
              "outlinewidth": 0,
              "ticks": ""
             }
            },
            "type": "scatterpolargl"
           }
          ],
          "scatterternary": [
           {
            "marker": {
             "colorbar": {
              "outlinewidth": 0,
              "ticks": ""
             }
            },
            "type": "scatterternary"
           }
          ],
          "surface": [
           {
            "colorbar": {
             "outlinewidth": 0,
             "ticks": ""
            },
            "colorscale": [
             [
              0,
              "#0d0887"
             ],
             [
              0.1111111111111111,
              "#46039f"
             ],
             [
              0.2222222222222222,
              "#7201a8"
             ],
             [
              0.3333333333333333,
              "#9c179e"
             ],
             [
              0.4444444444444444,
              "#bd3786"
             ],
             [
              0.5555555555555556,
              "#d8576b"
             ],
             [
              0.6666666666666666,
              "#ed7953"
             ],
             [
              0.7777777777777778,
              "#fb9f3a"
             ],
             [
              0.8888888888888888,
              "#fdca26"
             ],
             [
              1,
              "#f0f921"
             ]
            ],
            "type": "surface"
           }
          ],
          "table": [
           {
            "cells": {
             "fill": {
              "color": "#EBF0F8"
             },
             "line": {
              "color": "white"
             }
            },
            "header": {
             "fill": {
              "color": "#C8D4E3"
             },
             "line": {
              "color": "white"
             }
            },
            "type": "table"
           }
          ]
         },
         "layout": {
          "annotationdefaults": {
           "arrowcolor": "#2a3f5f",
           "arrowhead": 0,
           "arrowwidth": 1
          },
          "autotypenumbers": "strict",
          "coloraxis": {
           "colorbar": {
            "outlinewidth": 0,
            "ticks": ""
           }
          },
          "colorscale": {
           "diverging": [
            [
             0,
             "#8e0152"
            ],
            [
             0.1,
             "#c51b7d"
            ],
            [
             0.2,
             "#de77ae"
            ],
            [
             0.3,
             "#f1b6da"
            ],
            [
             0.4,
             "#fde0ef"
            ],
            [
             0.5,
             "#f7f7f7"
            ],
            [
             0.6,
             "#e6f5d0"
            ],
            [
             0.7,
             "#b8e186"
            ],
            [
             0.8,
             "#7fbc41"
            ],
            [
             0.9,
             "#4d9221"
            ],
            [
             1,
             "#276419"
            ]
           ],
           "sequential": [
            [
             0,
             "#0d0887"
            ],
            [
             0.1111111111111111,
             "#46039f"
            ],
            [
             0.2222222222222222,
             "#7201a8"
            ],
            [
             0.3333333333333333,
             "#9c179e"
            ],
            [
             0.4444444444444444,
             "#bd3786"
            ],
            [
             0.5555555555555556,
             "#d8576b"
            ],
            [
             0.6666666666666666,
             "#ed7953"
            ],
            [
             0.7777777777777778,
             "#fb9f3a"
            ],
            [
             0.8888888888888888,
             "#fdca26"
            ],
            [
             1,
             "#f0f921"
            ]
           ],
           "sequentialminus": [
            [
             0,
             "#0d0887"
            ],
            [
             0.1111111111111111,
             "#46039f"
            ],
            [
             0.2222222222222222,
             "#7201a8"
            ],
            [
             0.3333333333333333,
             "#9c179e"
            ],
            [
             0.4444444444444444,
             "#bd3786"
            ],
            [
             0.5555555555555556,
             "#d8576b"
            ],
            [
             0.6666666666666666,
             "#ed7953"
            ],
            [
             0.7777777777777778,
             "#fb9f3a"
            ],
            [
             0.8888888888888888,
             "#fdca26"
            ],
            [
             1,
             "#f0f921"
            ]
           ]
          },
          "colorway": [
           "#636efa",
           "#EF553B",
           "#00cc96",
           "#ab63fa",
           "#FFA15A",
           "#19d3f3",
           "#FF6692",
           "#B6E880",
           "#FF97FF",
           "#FECB52"
          ],
          "font": {
           "color": "#2a3f5f"
          },
          "geo": {
           "bgcolor": "white",
           "lakecolor": "white",
           "landcolor": "#E5ECF6",
           "showlakes": true,
           "showland": true,
           "subunitcolor": "white"
          },
          "hoverlabel": {
           "align": "left"
          },
          "hovermode": "closest",
          "mapbox": {
           "style": "light"
          },
          "paper_bgcolor": "white",
          "plot_bgcolor": "#E5ECF6",
          "polar": {
           "angularaxis": {
            "gridcolor": "white",
            "linecolor": "white",
            "ticks": ""
           },
           "bgcolor": "#E5ECF6",
           "radialaxis": {
            "gridcolor": "white",
            "linecolor": "white",
            "ticks": ""
           }
          },
          "scene": {
           "xaxis": {
            "backgroundcolor": "#E5ECF6",
            "gridcolor": "white",
            "gridwidth": 2,
            "linecolor": "white",
            "showbackground": true,
            "ticks": "",
            "zerolinecolor": "white"
           },
           "yaxis": {
            "backgroundcolor": "#E5ECF6",
            "gridcolor": "white",
            "gridwidth": 2,
            "linecolor": "white",
            "showbackground": true,
            "ticks": "",
            "zerolinecolor": "white"
           },
           "zaxis": {
            "backgroundcolor": "#E5ECF6",
            "gridcolor": "white",
            "gridwidth": 2,
            "linecolor": "white",
            "showbackground": true,
            "ticks": "",
            "zerolinecolor": "white"
           }
          },
          "shapedefaults": {
           "line": {
            "color": "#2a3f5f"
           }
          },
          "ternary": {
           "aaxis": {
            "gridcolor": "white",
            "linecolor": "white",
            "ticks": ""
           },
           "baxis": {
            "gridcolor": "white",
            "linecolor": "white",
            "ticks": ""
           },
           "bgcolor": "#E5ECF6",
           "caxis": {
            "gridcolor": "white",
            "linecolor": "white",
            "ticks": ""
           }
          },
          "title": {
           "x": 0.05
          },
          "xaxis": {
           "automargin": true,
           "gridcolor": "white",
           "linecolor": "white",
           "ticks": "",
           "title": {
            "standoff": 15
           },
           "zerolinecolor": "white",
           "zerolinewidth": 2
          },
          "yaxis": {
           "automargin": true,
           "gridcolor": "white",
           "linecolor": "white",
           "ticks": "",
           "title": {
            "standoff": 15
           },
           "zerolinecolor": "white",
           "zerolinewidth": 2
          }
         }
        },
        "title": {
         "font": {
          "color": "#4D5663"
         },
         "text": "MDS"
        }
       }
      },
      "text/html": [
       "<div>                            <div id=\"fe3afb2d-ef4e-4892-8607-1e56ad26c873\" class=\"plotly-graph-div\" style=\"height:525px; width:100%;\"></div>            <script type=\"text/javascript\">                require([\"plotly\"], function(Plotly) {                    window.PLOTLYENV=window.PLOTLYENV || {};\n",
       "                    window.PLOTLYENV.BASE_URL='https://plot.ly';                                    if (document.getElementById(\"fe3afb2d-ef4e-4892-8607-1e56ad26c873\")) {                    Plotly.newPlot(                        \"fe3afb2d-ef4e-4892-8607-1e56ad26c873\",                        [{\"marker\":{\"color\":\"rgba(255, 153, 51, 1.0)\",\"line\":{\"width\":1.3},\"opacity\":0.8,\"size\":5,\"symbol\":\"circle\"},\"mode\":\"markers\",\"name\":\"setosa\",\"textfont\":{\"color\":\"#4D5663\"},\"x\":[0.28526753110760367,0.07415663795994311,0.14367593079020913,0.0895100042799476,0.3181407629063066,0.4268716348419878,0.2018431045742327,0.23563863978392552,-0.0006229794263529565,0.11847226083224778,0.3815607273758617,0.21631916856710476,0.07243135747617666,0.049341742881391475,0.5024511101028768,0.6154449541094749,0.4572874651696426,0.27897585376112616,0.421522481569316,0.3938364384321813,0.2544168471185675,0.34707137889694095,0.30462913674111725,0.173147558239624,0.20290606949409298,0.07446217670010535,0.217064945595907,0.2881723937101637,0.25331243194576286,0.13161291037328074,0.10023018791828711,0.2518782492351213,0.5238089173974932,0.555055784353396,0.11140001214596207,0.17034480969271712,0.335553958698488,0.3198472284591244,0.041173391709586504,0.24266860814283767,0.2768806855713685,-0.2316159310292171,0.11747805677837332,0.24575436942316162,0.37440914934016456,0.05842516575298214,0.3990952104139324,0.1315078478291948,0.370952552675975,0.20065344171883887],\"y\":[0.40776011284965935,0.43416784816002824,0.47934311593015494,0.5006835325463129,0.4360901989982413,0.2682518668073653,0.5192035857994822,0.42272017959861746,0.4993646711072353,0.4302371380415764,0.3375124927708329,0.4629619934655726,0.4894528002592385,0.5496075500044202,0.22137312074110874,0.15061207277689828,0.33001422797221147,0.4022064337816122,0.23589460791390127,0.4015065425821934,0.3067490981224618,0.3979180995652897,0.5573391798363693,0.353969864246197,0.4605224907199779,0.3942425605880589,0.39804609984320466,0.37738745645385385,0.3765163426977422,0.4803873119496989,0.4572779131400986,0.3086564665217466,0.45084035272858247,0.2581417608077496,0.42840040302308,0.43845897294070135,0.34817130574660404,0.4690946954116033,0.5491009176863696,0.3982420419600739,0.4355918634537123,0.5234450470868465,0.5567880647473001,0.4029102466838655,0.3096957101210852,0.4339260259407061,0.40711998596268106,0.5006582441802896,0.35066782052085743,0.41801793990349106],\"z\":[0.403727125545284,0.45529470211628964,0.4501725651600523,0.42587144399772375,0.38629479139081774,0.344985496068234,0.36209779402342884,0.40185692863344086,0.5003784726364348,0.475356692046961,0.38594002189082915,0.3894720961538109,0.45612183697778386,0.5427279352038143,0.4644625921443794,0.41554642516781154,0.3260656731130068,0.3701337646797197,0.35588381215011006,0.33157069231282443,0.41376732952427986,0.3053907204817499,0.40117290151459817,0.31825890891860853,0.35016020181556223,0.44745627843181535,0.3364451830910118,0.4011782366181352,0.42378227294354776,0.4045928870373416,0.41391408037130406,0.3597721093968582,0.31524654733542246,0.44342475632403994,0.4383202868246689,0.44486362097334564,0.3899134301331757,0.4116041700568167,0.45449276750707246,0.4069913521333371,0.36943884774732544,0.4750858300433314,0.4365843750263921,0.24599381180061694,0.3310984335622376,0.4386630276275193,0.350390626801706,0.43604473466928806,0.3952187685789639,0.42820808153094186],\"type\":\"scatter3d\"},{\"marker\":{\"color\":\"rgba(55, 128, 191, 1.0)\",\"line\":{\"width\":1.3},\"opacity\":0.8,\"size\":5,\"symbol\":\"circle\"},\"mode\":\"markers\",\"name\":\"versicolor\",\"textfont\":{\"color\":\"#4D5663\"},\"x\":[0.12078960717167003,0.0475775964162119,0.050596466267600934,-0.3278599059161857,-0.08784020031499283,-0.15082753094076684,0.05513558324038816,-0.2897667455021854,-0.022395247464958263,-0.2192467353704174,-0.4255085654463186,-0.0609368357920443,-0.2877701076960553,-0.08934291783485233,-0.08374437195120199,0.05933621756536257,-0.10550373026562875,-0.12686082212697494,-0.3358065195214442,-0.22121939728876472,-0.04630661814823753,-0.08452806818119002,-0.22671348598213917,-0.1074725717780841,-0.029439477249884476,0.013639996112645925,-0.05530365166171481,-0.03288986818592067,-0.1011183704807265,-0.15191070587257074,-0.2630061518910483,-0.25006371911332054,-0.13909490507362324,-0.21146754488270503,-0.12569618223037093,0.0685535017037577,0.03502802237917762,-0.2606570042267751,-0.06709844115785438,-0.2569899876663284,-0.23167479173422625,-0.04785013023507761,-0.17964898761533818,-0.31929131449932696,-0.18125859112840254,-0.04883168072546837,-0.09845142707729794,-0.05098089584533105,-0.2351706367448814,-0.13055691016905907],\"y\":[-0.31920015499378207,-0.16918451829326447,-0.32876723498331945,-0.01681177476195894,-0.24927065045825564,-0.03698765955352499,-0.1516368297890758,0.22367411956804575,-0.25721925584192,0.11102316277358602,0.09210892822358586,-0.0494309309426756,-0.13189747301086127,-0.14339184046368383,0.06224699990514381,-0.24691344035796747,0.004646838114136718,-0.047802018416710196,-0.23800148486816722,-0.002288249398163472,-0.0757496391381797,-0.10627098541585939,-0.25478061058449597,-0.16075172985234443,-0.18696902492798487,-0.2337734207551198,-0.3322822544405377,-0.3043409941638039,-0.10551422380764243,0.01789435913260936,0.018236717581755026,0.03027813494471909,-0.031830500982190056,-0.17265848717519217,0.05563754336845867,-0.05422714293333997,-0.2688740779034082,-0.23764295224009896,0.03391414546258208,0.009272818156234878,0.0017196267264498397,-0.12401721857573705,-0.04919245598050262,0.18697728140975342,-0.005780616715141273,0.006357755172334217,-0.0081978318350581,-0.13716671439271627,0.20777304726414933,-0.012675567064989632],\"z\":[-0.14133963579891162,-0.16723833403101623,-0.16501865550573877,0.06993370806874767,-0.0995528283135394,-0.05180173152276071,-0.2316580916658073,0.15052615574520287,-0.04679091689229148,-0.04193525371125445,0.25984561060038536,-0.12754598708239773,0.19339649843516893,-0.10098926074521153,-0.011567595907737305,-0.10015896465685935,-0.15636537450003823,0.10539219836826234,0.007762080172242208,0.1065133043994797,-0.30050782427552275,-0.0008043814991040855,-0.07195621533729316,-0.005236955437124396,-0.03340420049145389,-0.08578804345727825,-0.07195263707403478,-0.22485712381873205,-0.12670854563786876,0.15170077822768935,0.1276255908744259,0.16551358256237358,0.04498452248946845,-0.16236922686873018,-0.1643198858177827,-0.24316546764545163,-0.1539496457505893,0.064041501954341,-0.06118777110842055,0.03150358559145262,0.014993624394209069,-0.11315290150731178,0.054816580374231844,0.1748369907877199,-0.015673796175668393,-0.03215144899998428,-0.047278706049592036,-0.03953885065879919,0.12713776254390455,-0.02273082648755629],\"type\":\"scatter3d\"},{\"marker\":{\"color\":\"rgba(50, 171, 96, 1.0)\",\"line\":{\"width\":1.3},\"opacity\":0.8,\"size\":5,\"symbol\":\"circle\"},\"mode\":\"markers\",\"name\":\"virginica\",\"textfont\":{\"color\":\"#4D5663\"},\"x\":[-0.08103612788332032,-0.26064568358400275,-0.07099532132433634,-0.14916021590193732,-0.14776620584938377,-0.04840807488611965,-0.39521674130213064,-0.0721977096486942,-0.24931483600621657,0.11028564033161052,-0.018432896108373616,-0.20788769555204578,-0.08651072829251598,-0.34738084706387395,-0.34598301586254365,-0.07145714995428912,-0.08446767131915058,0.2404344948825623,-0.2024714120688128,-0.3731183459890602,-0.03321735818411235,-0.24788192490054936,-0.16834888572054918,-0.1932931609465323,0.011966417949157942,0.043448625486764446,-0.16246553207323866,-0.10235031513127839,-0.2052637533245726,-0.011291169839923188,-0.09921131586632734,0.28815283170133993,-0.21795511617291288,-0.13252034409162133,-0.26873179279462117,-0.0708347829834201,-0.04356656987317113,-0.05376018641149783,-0.10827548856140551,-0.03567591649579035,-0.10029288157570285,-0.043336909046645486,-0.26032790818465557,-0.04699594214291575,-0.033739198062769815,-0.1107449010736522,-0.28592183654546816,-0.0958450655415124,-0.025171449198895832,-0.13179523701655843],\"y\":[-0.2593429791967197,-0.12683158130336633,-0.47223766890620483,-0.2664268861052686,-0.3233253393745721,-0.6501542727855179,0.09725765535054955,-0.5681191602607724,-0.4267574351924222,-0.4616333035895314,-0.24156482669955828,-0.2882816101934103,-0.36903522950831946,-0.10758776803369377,-0.18341950423084816,-0.23416050561846746,-0.29947948047131084,-0.6255782287253914,-0.740794022123154,-0.22004025628058876,-0.3902955255096992,-0.05471212832950902,-0.6676519779797544,-0.2350314318959884,-0.32770729217008326,-0.4892374019934304,-0.18985661586596547,-0.15233043055346432,-0.30105868041056527,-0.4928797092248119,-0.578352586165781,-0.6338245601069891,-0.30607589054407947,-0.23762750905255156,-0.24829533295484293,-0.635807103944971,-0.21049676532885742,-0.2605059299565699,-0.1211593309661563,-0.37598578821479056,-0.33978836637243487,-0.34305799123988767,-0.12636941665790039,-0.38310675651705384,-0.33085482448860337,-0.31365424089172655,-0.2657179268173975,-0.2707141409397111,-0.1735779873165295,-0.11426384182415818],\"z\":[-0.6261814872417439,-0.2741991037170198,-0.40837672570472167,-0.2886524187114702,-0.44970707658111275,-0.4306715533145322,-0.13695213871410966,-0.2943955482454996,-0.21592645346475275,-0.6479058620313284,-0.377047577169435,-0.27085511310624094,-0.3949687749975847,-0.28168748304956553,-0.4139709581963122,-0.49784065310903236,-0.2902729783512624,-0.5794059838786032,-0.4543317028346937,-0.03607203621265787,-0.5065503937483272,-0.31905786749653625,-0.4128561091246952,-0.21377277214827886,-0.4554303484018024,-0.3317257071535109,-0.22914799689310714,-0.26899983699879304,-0.3757811161177602,-0.21528487279846525,-0.3101649182479607,-0.4993750539712768,-0.4083665623654679,-0.13418073402225478,-0.09726264593920811,-0.47959688019078617,-0.5837895654614229,-0.31353908183665524,-0.26534683314288005,-0.4032522877509065,-0.5307500649536977,-0.4796266317702701,-0.2746477451743766,-0.5184152273522499,-0.5999437004255018,-0.46780723897372317,-0.2209926068069577,-0.35113147378554194,-0.5375956039480543,-0.28944892575906644],\"type\":\"scatter3d\"}],                        {\"legend\":{\"bgcolor\":\"#F5F6F9\",\"font\":{\"color\":\"#4D5663\"}},\"paper_bgcolor\":\"#F5F6F9\",\"plot_bgcolor\":\"#F5F6F9\",\"scene\":{\"xaxis\":{\"gridcolor\":\"#9499A3\",\"showgrid\":true,\"tickfont\":{\"color\":\"#4D5663\"},\"title\":{\"font\":{\"color\":\"#4D5663\"},\"text\":\"\"},\"zerolinecolor\":\"#9499A3\"},\"yaxis\":{\"gridcolor\":\"#9499A3\",\"showgrid\":true,\"tickfont\":{\"color\":\"#4D5663\"},\"title\":{\"font\":{\"color\":\"#4D5663\"},\"text\":\"\"},\"zerolinecolor\":\"#9499A3\"},\"zaxis\":{\"gridcolor\":\"#9499A3\",\"showgrid\":true,\"tickfont\":{\"color\":\"#4D5663\"},\"title\":{\"font\":{\"color\":\"#4D5663\"},\"text\":\"\"},\"zerolinecolor\":\"#9499A3\"}},\"template\":{\"data\":{\"barpolar\":[{\"marker\":{\"line\":{\"color\":\"#E5ECF6\",\"width\":0.5},\"pattern\":{\"fillmode\":\"overlay\",\"size\":10,\"solidity\":0.2}},\"type\":\"barpolar\"}],\"bar\":[{\"error_x\":{\"color\":\"#2a3f5f\"},\"error_y\":{\"color\":\"#2a3f5f\"},\"marker\":{\"line\":{\"color\":\"#E5ECF6\",\"width\":0.5},\"pattern\":{\"fillmode\":\"overlay\",\"size\":10,\"solidity\":0.2}},\"type\":\"bar\"}],\"carpet\":[{\"aaxis\":{\"endlinecolor\":\"#2a3f5f\",\"gridcolor\":\"white\",\"linecolor\":\"white\",\"minorgridcolor\":\"white\",\"startlinecolor\":\"#2a3f5f\"},\"baxis\":{\"endlinecolor\":\"#2a3f5f\",\"gridcolor\":\"white\",\"linecolor\":\"white\",\"minorgridcolor\":\"white\",\"startlinecolor\":\"#2a3f5f\"},\"type\":\"carpet\"}],\"choropleth\":[{\"colorbar\":{\"outlinewidth\":0,\"ticks\":\"\"},\"type\":\"choropleth\"}],\"contourcarpet\":[{\"colorbar\":{\"outlinewidth\":0,\"ticks\":\"\"},\"type\":\"contourcarpet\"}],\"contour\":[{\"colorbar\":{\"outlinewidth\":0,\"ticks\":\"\"},\"colorscale\":[[0.0,\"#0d0887\"],[0.1111111111111111,\"#46039f\"],[0.2222222222222222,\"#7201a8\"],[0.3333333333333333,\"#9c179e\"],[0.4444444444444444,\"#bd3786\"],[0.5555555555555556,\"#d8576b\"],[0.6666666666666666,\"#ed7953\"],[0.7777777777777778,\"#fb9f3a\"],[0.8888888888888888,\"#fdca26\"],[1.0,\"#f0f921\"]],\"type\":\"contour\"}],\"heatmapgl\":[{\"colorbar\":{\"outlinewidth\":0,\"ticks\":\"\"},\"colorscale\":[[0.0,\"#0d0887\"],[0.1111111111111111,\"#46039f\"],[0.2222222222222222,\"#7201a8\"],[0.3333333333333333,\"#9c179e\"],[0.4444444444444444,\"#bd3786\"],[0.5555555555555556,\"#d8576b\"],[0.6666666666666666,\"#ed7953\"],[0.7777777777777778,\"#fb9f3a\"],[0.8888888888888888,\"#fdca26\"],[1.0,\"#f0f921\"]],\"type\":\"heatmapgl\"}],\"heatmap\":[{\"colorbar\":{\"outlinewidth\":0,\"ticks\":\"\"},\"colorscale\":[[0.0,\"#0d0887\"],[0.1111111111111111,\"#46039f\"],[0.2222222222222222,\"#7201a8\"],[0.3333333333333333,\"#9c179e\"],[0.4444444444444444,\"#bd3786\"],[0.5555555555555556,\"#d8576b\"],[0.6666666666666666,\"#ed7953\"],[0.7777777777777778,\"#fb9f3a\"],[0.8888888888888888,\"#fdca26\"],[1.0,\"#f0f921\"]],\"type\":\"heatmap\"}],\"histogram2dcontour\":[{\"colorbar\":{\"outlinewidth\":0,\"ticks\":\"\"},\"colorscale\":[[0.0,\"#0d0887\"],[0.1111111111111111,\"#46039f\"],[0.2222222222222222,\"#7201a8\"],[0.3333333333333333,\"#9c179e\"],[0.4444444444444444,\"#bd3786\"],[0.5555555555555556,\"#d8576b\"],[0.6666666666666666,\"#ed7953\"],[0.7777777777777778,\"#fb9f3a\"],[0.8888888888888888,\"#fdca26\"],[1.0,\"#f0f921\"]],\"type\":\"histogram2dcontour\"}],\"histogram2d\":[{\"colorbar\":{\"outlinewidth\":0,\"ticks\":\"\"},\"colorscale\":[[0.0,\"#0d0887\"],[0.1111111111111111,\"#46039f\"],[0.2222222222222222,\"#7201a8\"],[0.3333333333333333,\"#9c179e\"],[0.4444444444444444,\"#bd3786\"],[0.5555555555555556,\"#d8576b\"],[0.6666666666666666,\"#ed7953\"],[0.7777777777777778,\"#fb9f3a\"],[0.8888888888888888,\"#fdca26\"],[1.0,\"#f0f921\"]],\"type\":\"histogram2d\"}],\"histogram\":[{\"marker\":{\"pattern\":{\"fillmode\":\"overlay\",\"size\":10,\"solidity\":0.2}},\"type\":\"histogram\"}],\"mesh3d\":[{\"colorbar\":{\"outlinewidth\":0,\"ticks\":\"\"},\"type\":\"mesh3d\"}],\"parcoords\":[{\"line\":{\"colorbar\":{\"outlinewidth\":0,\"ticks\":\"\"}},\"type\":\"parcoords\"}],\"pie\":[{\"automargin\":true,\"type\":\"pie\"}],\"scatter3d\":[{\"line\":{\"colorbar\":{\"outlinewidth\":0,\"ticks\":\"\"}},\"marker\":{\"colorbar\":{\"outlinewidth\":0,\"ticks\":\"\"}},\"type\":\"scatter3d\"}],\"scattercarpet\":[{\"marker\":{\"colorbar\":{\"outlinewidth\":0,\"ticks\":\"\"}},\"type\":\"scattercarpet\"}],\"scattergeo\":[{\"marker\":{\"colorbar\":{\"outlinewidth\":0,\"ticks\":\"\"}},\"type\":\"scattergeo\"}],\"scattergl\":[{\"marker\":{\"colorbar\":{\"outlinewidth\":0,\"ticks\":\"\"}},\"type\":\"scattergl\"}],\"scattermapbox\":[{\"marker\":{\"colorbar\":{\"outlinewidth\":0,\"ticks\":\"\"}},\"type\":\"scattermapbox\"}],\"scatterpolargl\":[{\"marker\":{\"colorbar\":{\"outlinewidth\":0,\"ticks\":\"\"}},\"type\":\"scatterpolargl\"}],\"scatterpolar\":[{\"marker\":{\"colorbar\":{\"outlinewidth\":0,\"ticks\":\"\"}},\"type\":\"scatterpolar\"}],\"scatter\":[{\"fillpattern\":{\"fillmode\":\"overlay\",\"size\":10,\"solidity\":0.2},\"type\":\"scatter\"}],\"scatterternary\":[{\"marker\":{\"colorbar\":{\"outlinewidth\":0,\"ticks\":\"\"}},\"type\":\"scatterternary\"}],\"surface\":[{\"colorbar\":{\"outlinewidth\":0,\"ticks\":\"\"},\"colorscale\":[[0.0,\"#0d0887\"],[0.1111111111111111,\"#46039f\"],[0.2222222222222222,\"#7201a8\"],[0.3333333333333333,\"#9c179e\"],[0.4444444444444444,\"#bd3786\"],[0.5555555555555556,\"#d8576b\"],[0.6666666666666666,\"#ed7953\"],[0.7777777777777778,\"#fb9f3a\"],[0.8888888888888888,\"#fdca26\"],[1.0,\"#f0f921\"]],\"type\":\"surface\"}],\"table\":[{\"cells\":{\"fill\":{\"color\":\"#EBF0F8\"},\"line\":{\"color\":\"white\"}},\"header\":{\"fill\":{\"color\":\"#C8D4E3\"},\"line\":{\"color\":\"white\"}},\"type\":\"table\"}]},\"layout\":{\"annotationdefaults\":{\"arrowcolor\":\"#2a3f5f\",\"arrowhead\":0,\"arrowwidth\":1},\"autotypenumbers\":\"strict\",\"coloraxis\":{\"colorbar\":{\"outlinewidth\":0,\"ticks\":\"\"}},\"colorscale\":{\"diverging\":[[0,\"#8e0152\"],[0.1,\"#c51b7d\"],[0.2,\"#de77ae\"],[0.3,\"#f1b6da\"],[0.4,\"#fde0ef\"],[0.5,\"#f7f7f7\"],[0.6,\"#e6f5d0\"],[0.7,\"#b8e186\"],[0.8,\"#7fbc41\"],[0.9,\"#4d9221\"],[1,\"#276419\"]],\"sequential\":[[0.0,\"#0d0887\"],[0.1111111111111111,\"#46039f\"],[0.2222222222222222,\"#7201a8\"],[0.3333333333333333,\"#9c179e\"],[0.4444444444444444,\"#bd3786\"],[0.5555555555555556,\"#d8576b\"],[0.6666666666666666,\"#ed7953\"],[0.7777777777777778,\"#fb9f3a\"],[0.8888888888888888,\"#fdca26\"],[1.0,\"#f0f921\"]],\"sequentialminus\":[[0.0,\"#0d0887\"],[0.1111111111111111,\"#46039f\"],[0.2222222222222222,\"#7201a8\"],[0.3333333333333333,\"#9c179e\"],[0.4444444444444444,\"#bd3786\"],[0.5555555555555556,\"#d8576b\"],[0.6666666666666666,\"#ed7953\"],[0.7777777777777778,\"#fb9f3a\"],[0.8888888888888888,\"#fdca26\"],[1.0,\"#f0f921\"]]},\"colorway\":[\"#636efa\",\"#EF553B\",\"#00cc96\",\"#ab63fa\",\"#FFA15A\",\"#19d3f3\",\"#FF6692\",\"#B6E880\",\"#FF97FF\",\"#FECB52\"],\"font\":{\"color\":\"#2a3f5f\"},\"geo\":{\"bgcolor\":\"white\",\"lakecolor\":\"white\",\"landcolor\":\"#E5ECF6\",\"showlakes\":true,\"showland\":true,\"subunitcolor\":\"white\"},\"hoverlabel\":{\"align\":\"left\"},\"hovermode\":\"closest\",\"mapbox\":{\"style\":\"light\"},\"paper_bgcolor\":\"white\",\"plot_bgcolor\":\"#E5ECF6\",\"polar\":{\"angularaxis\":{\"gridcolor\":\"white\",\"linecolor\":\"white\",\"ticks\":\"\"},\"bgcolor\":\"#E5ECF6\",\"radialaxis\":{\"gridcolor\":\"white\",\"linecolor\":\"white\",\"ticks\":\"\"}},\"scene\":{\"xaxis\":{\"backgroundcolor\":\"#E5ECF6\",\"gridcolor\":\"white\",\"gridwidth\":2,\"linecolor\":\"white\",\"showbackground\":true,\"ticks\":\"\",\"zerolinecolor\":\"white\"},\"yaxis\":{\"backgroundcolor\":\"#E5ECF6\",\"gridcolor\":\"white\",\"gridwidth\":2,\"linecolor\":\"white\",\"showbackground\":true,\"ticks\":\"\",\"zerolinecolor\":\"white\"},\"zaxis\":{\"backgroundcolor\":\"#E5ECF6\",\"gridcolor\":\"white\",\"gridwidth\":2,\"linecolor\":\"white\",\"showbackground\":true,\"ticks\":\"\",\"zerolinecolor\":\"white\"}},\"shapedefaults\":{\"line\":{\"color\":\"#2a3f5f\"}},\"ternary\":{\"aaxis\":{\"gridcolor\":\"white\",\"linecolor\":\"white\",\"ticks\":\"\"},\"baxis\":{\"gridcolor\":\"white\",\"linecolor\":\"white\",\"ticks\":\"\"},\"bgcolor\":\"#E5ECF6\",\"caxis\":{\"gridcolor\":\"white\",\"linecolor\":\"white\",\"ticks\":\"\"}},\"title\":{\"x\":0.05},\"xaxis\":{\"automargin\":true,\"gridcolor\":\"white\",\"linecolor\":\"white\",\"ticks\":\"\",\"title\":{\"standoff\":15},\"zerolinecolor\":\"white\",\"zerolinewidth\":2},\"yaxis\":{\"automargin\":true,\"gridcolor\":\"white\",\"linecolor\":\"white\",\"ticks\":\"\",\"title\":{\"standoff\":15},\"zerolinecolor\":\"white\",\"zerolinewidth\":2}}},\"title\":{\"font\":{\"color\":\"#4D5663\"},\"text\":\"MDS\"}},                        {\"showLink\": true, \"linkText\": \"Export to plot.ly\", \"plotlyServerURL\": \"https://plot.ly\", \"responsive\": true}                    ).then(function(){\n",
       "                            \n",
       "var gd = document.getElementById('fe3afb2d-ef4e-4892-8607-1e56ad26c873');\n",
       "var x = new MutationObserver(function (mutations, observer) {{\n",
       "        var display = window.getComputedStyle(gd).display;\n",
       "        if (!display || display === 'none') {{\n",
       "            console.log([gd, 'removed!']);\n",
       "            Plotly.purge(gd);\n",
       "            observer.disconnect();\n",
       "        }}\n",
       "}});\n",
       "\n",
       "// Listen for the removal of the full notebook cells\n",
       "var notebookContainer = gd.closest('#notebook-container');\n",
       "if (notebookContainer) {{\n",
       "    x.observe(notebookContainer, {childList: true});\n",
       "}}\n",
       "\n",
       "// Listen for the clearing of the current output cell\n",
       "var outputEl = gd.closest('.output');\n",
       "if (outputEl) {{\n",
       "    x.observe(outputEl, {childList: true});\n",
       "}}\n",
       "\n",
       "                        })                };                });            </script>        </div>"
      ]
     },
     "metadata": {},
     "output_type": "display_data"
    },
    {
     "data": {
      "application/vnd.plotly.v1+json": {
       "config": {
        "linkText": "Export to plot.ly",
        "plotlyServerURL": "https://plot.ly",
        "showLink": true
       },
       "data": [
        {
         "marker": {
          "color": "rgba(255, 153, 51, 1.0)",
          "line": {
           "width": 1.3
          },
          "opacity": 0.8,
          "size": 5,
          "symbol": "circle"
         },
         "mode": "markers",
         "name": "setosa",
         "textfont": {
          "color": "#4D5663"
         },
         "type": "scatter3d",
         "x": [
          -8.812055587768555,
          -10.667171478271484,
          -9.850708961486816,
          -9.92880916595459,
          -8.933856964111328,
          -8.648571014404297,
          -9.139707565307617,
          -9.271133422851562,
          -10.31039047241211,
          -10.336668014526367,
          -8.214831352233887,
          -9.23123836517334,
          -10.5900239944458,
          -10.131159782409668,
          -7.404778003692627,
          -7.805953502655029,
          -7.892894744873047,
          -9.162734985351562,
          -8.070046424865723,
          -8.933564186096191,
          -8.548192024230957,
          -9.258856773376465,
          -8.953705787658691,
          -9.825222969055176,
          -9.361892700195312,
          -10.631763458251953,
          -9.68614673614502,
          -8.690823554992676,
          -8.593794822692871,
          -9.66295051574707,
          -10.101421356201172,
          -8.530250549316406,
          -8.478169441223145,
          -7.913498878479004,
          -10.275276184082031,
          -10.123714447021484,
          -7.776801109313965,
          -8.804000854492188,
          -10.111227035522461,
          -9.081659317016602,
          -9.251514434814453,
          -11.149480819702148,
          -9.613659858703613,
          -9.924309730529785,
          -9.49199104309082,
          -10.580498695373535,
          -9.002437591552734,
          -9.640323638916016,
          -8.405628204345703,
          -9.647300720214844
         ],
         "y": [
          4.025527477264404,
          2.833418369293213,
          2.286872625350952,
          2.2308967113494873,
          3.903172016143799,
          5.868111610412598,
          2.3043644428253174,
          3.7941439151763916,
          1.5481910705566406,
          3.1408603191375732,
          5.251980781555176,
          3.3454442024230957,
          2.5097601413726807,
          1.1921266317367554,
          5.730191707611084,
          6.085154056549072,
          5.198393821716309,
          4.24155855178833,
          6.063687324523926,
          4.806600570678711,
          5.304225444793701,
          4.872685432434082,
          2.0621187686920166,
          4.795430660247803,
          3.8000597953796387,
          3.4218227863311768,
          4.434746265411377,
          4.53724479675293,
          4.208305835723877,
          2.788280725479126,
          2.979597330093384,
          5.17144250869751,
          5.309908390045166,
          5.713014125823975,
          3.171555995941162,
          3.0421552658081055,
          4.951117992401123,
          3.415239095687866,
          1.4798049926757812,
          4.1077680587768555,
          3.688676357269287,
          1.4966458082199097,
          1.5745677947998047,
          4.963755130767822,
          5.701476097106934,
          2.506988763809204,
          4.932613372802734,
          2.1605043411254883,
          4.983424663543701,
          3.5049052238464355
         ],
         "z": [
          0.1375853270292282,
          -0.668604850769043,
          -0.45686444640159607,
          -1.3614200353622437,
          0.5475633144378662,
          0.8757124543190002,
          -0.6496813297271729,
          -0.38769108057022095,
          -1.2965859174728394,
          -0.9502835869789124,
          0.4227328896522522,
          -1.0411192178726196,
          -0.9564639329910278,
          -0.6991869807243347,
          1.069951057434082,
          1.4723310470581055,
          1.0938552618026733,
          0.17392265796661377,
          0.532439649105072,
          1.0027600526809692,
          -0.5398493409156799,
          0.6089457273483276,
          0.27690860629081726,
          -0.8056790828704834,
          -1.722874402999878,
          -1.1944224834442139,
          -0.5712357759475708,
          -0.06872670352458954,
          -0.2845868766307831,
          -1.4000757932662964,
          -1.4286917448043823,
          -0.4758588969707489,
          1.604515552520752,
          1.4843430519104004,
          -0.9065471887588501,
          0.10898160189390182,
          -0.029650168493390083,
          0.42231667041778564,
          -1.0077005624771118,
          -0.38128089904785156,
          0.4069565534591675,
          -1.2753595113754272,
          -0.7839483618736267,
          -0.24528801441192627,
          0.6988917589187622,
          -0.8117261528968811,
          1.0312092304229736,
          -0.9387125372886658,
          0.5451586246490479,
          -0.24731281399726868
         ]
        },
        {
         "marker": {
          "color": "rgba(55, 128, 191, 1.0)",
          "line": {
           "width": 1.3
          },
          "opacity": 0.8,
          "size": 5,
          "symbol": "circle"
         },
         "mode": "markers",
         "name": "versicolor",
         "textfont": {
          "color": "#4D5663"
         },
         "type": "scatter3d",
         "x": [
          5.346317768096924,
          4.451855659484863,
          5.401478290557861,
          0.3708038330078125,
          4.082280158996582,
          2.116431713104248,
          4.601754188537598,
          -0.3540985882282257,
          4.33969783782959,
          0.6347722411155701,
          -0.47661471366882324,
          2.7158310413360596,
          0.7456443309783936,
          3.4047882556915283,
          1.1412116289138794,
          4.676051139831543,
          2.3998007774353027,
          1.4416385889053345,
          2.275859832763672,
          0.7010926008224487,
          4.025182723999023,
          2.2787363529205322,
          3.372262716293335,
          3.0874946117401123,
          3.6447856426239014,
          4.359016418457031,
          4.844976902008057,
          5.415088176727295,
          3.13080096244812,
          0.6181849837303162,
          0.3424978256225586,
          0.2579996883869171,
          1.4141554832458496,
          3.6136832237243652,
          2.056342124938965,
          4.086117744445801,
          5.012660026550293,
          2.241021156311035,
          1.9055601358413696,
          0.7117649912834167,
          1.232446551322937,
          3.4814367294311523,
          1.2769694328308105,
          -0.3441591262817383,
          1.4002549648284912,
          2.1392736434936523,
          2.011122226715088,
          3.148909330368042,
          -0.3295559883117676,
          1.7066943645477295
         ],
         "y": [
          -1.9639755487442017,
          -2.989805221557617,
          -1.6746916770935059,
          -4.069694995880127,
          -2.0598459243774414,
          -3.7747843265533447,
          -3.0429253578186035,
          -5.220719814300537,
          -2.17081618309021,
          -4.9587578773498535,
          -4.942596912384033,
          -4.046602725982666,
          -3.2497196197509766,
          -2.7359743118286133,
          -5.066577434539795,
          -2.5356476306915283,
          -4.118740081787109,
          -3.797055721282959,
          -1.5584720373153687,
          -4.152133464813232,
          -3.019864082336426,
          -3.702017068862915,
          -1.2745214700698853,
          -2.6270453929901123,
          -2.8619680404663086,
          -2.5678281784057617,
          -1.6383973360061646,
          -1.279924988746643,
          -3.287050247192383,
          -4.655888080596924,
          -4.316847324371338,
          -4.412869930267334,
          -4.267281532287598,
          -1.4520413875579834,
          -4.342628479003906,
          -3.730273962020874,
          -2.113454580307007,
          -1.7602580785751343,
          -4.706046104431152,
          -4.327617168426514,
          -3.9927003383636475,
          -3.0542163848876953,
          -3.9130101203918457,
          -5.160954475402832,
          -4.178469657897949,
          -4.432307720184326,
          -4.250011444091797,
          -3.212240695953369,
          -5.305253028869629,
          -4.305078029632568
         ],
         "z": [
          2.0282623767852783,
          1.5080924034118652,
          1.6755086183547974,
          1.6290799379348755,
          1.6044061183929443,
          0.8456041812896729,
          0.8460096716880798,
          2.373115301132202,
          1.9727301597595215,
          1.3603787422180176,
          2.209087610244751,
          1.4937591552734375,
          2.3880953788757324,
          0.8461279273033142,
          2.3374063968658447,
          2.164553165435791,
          0.4876924157142639,
          2.1327929496765137,
          1.2613108158111572,
          2.131997585296631,
          -0.38726165890693665,
          2.3222029209136963,
          0.4834616482257843,
          1.1154074668884277,
          2.129848003387451,
          2.116652011871338,
          1.8119640350341797,
          0.965152382850647,
          0.9548043012619019,
          2.7616183757781982,
          2.143134832382202,
          2.3929643630981445,
          2.3292458057403564,
          -0.5350169539451599,
          0.33075249195098877,
          0.5847795009613037,
          1.7125531435012817,
          1.5157239437103271,
          1.4589295387268066,
          1.5660308599472046,
          0.9211363792419434,
          1.0153861045837402,
          2.1391537189483643,
          2.381366014480591,
          1.29342520236969,
          1.5040092468261719,
          1.4225910902023315,
          1.899105429649353,
          2.530473232269287,
          1.6962578296661377
         ]
        },
        {
         "marker": {
          "color": "rgba(50, 171, 96, 1.0)",
          "line": {
           "width": 1.3
          },
          "opacity": 0.8,
          "size": 5,
          "symbol": "circle"
         },
         "mode": "markers",
         "name": "virginica",
         "textfont": {
          "color": "#4D5663"
         },
         "type": "scatter3d",
         "x": [
          6.513221740722656,
          3.568929672241211,
          7.527822971343994,
          5.306088924407959,
          6.283143520355225,
          8.390230178833008,
          0.9301718473434448,
          7.964391708374023,
          6.104107856750488,
          8.055095672607422,
          5.907570838928223,
          4.992597579956055,
          6.7517313957214355,
          3.2545626163482666,
          3.7754809856414795,
          6.122779369354248,
          5.711834907531738,
          8.677247047424316,
          8.397056579589844,
          2.753488779067993,
          7.336332321166992,
          3.3838798999786377,
          8.39518928527832,
          4.094744682312012,
          6.866186141967773,
          7.788331508636475,
          4.03017520904541,
          4.193018436431885,
          5.705870628356934,
          7.580099582672119,
          7.942142009735107,
          8.730305671691895,
          5.775160789489746,
          4.144362926483154,
          4.112176418304443,
          8.445015907287598,
          6.277772903442383,
          5.618259429931641,
          3.967790126800537,
          7.002509117126465,
          6.873316764831543,
          6.926577568054199,
          3.568929672241211,
          7.1792120933532715,
          7.06048583984375,
          6.6124138832092285,
          3.922685384750366,
          5.771744728088379,
          5.988070964813232,
          4.072029113769531
         ],
         "y": [
          1.666420340538025,
          -1.8459910154342651,
          0.42579203844070435,
          -0.12197618931531906,
          0.8090076446533203,
          0.9598702192306519,
          -4.55905818939209,
          0.4284268915653229,
          -0.038096267729997635,
          1.3297429084777832,
          -0.4761815369129181,
          -0.5454922318458557,
          0.001521168858744204,
          -1.8941351175308228,
          -1.9128791093826294,
          0.5103868842124939,
          -0.2585372030735016,
          1.46907639503479,
          1.0451843738555908,
          -1.1030443906784058,
          0.644740104675293,
          -2.3376283645629883,
          0.9250842332839966,
          -1.4248791933059692,
          0.6734728217124939,
          0.24276301264762878,
          -1.919228434562683,
          -2.3037514686584473,
          0.30043449997901917,
          -0.08940460532903671,
          0.35065099596977234,
          1.3986997604370117,
          0.4903307259082794,
          -1.2183878421783447,
          -0.28904902935028076,
          0.7148983478546143,
          1.297349452972412,
          -0.2200895994901657,
          -2.6042447090148926,
          -0.08915739506483078,
          0.7147675156593323,
          -0.21084260940551758,
          -1.8459910154342651,
          1.0152919292449951,
          1.165488600730896,
          -0.08044020086526871,
          -0.9899213910102844,
          -0.4400058090686798,
          1.0729550123214722,
          -2.1963441371917725
         ],
         "z": [
          -0.6838542819023132,
          -1.2588183879852295,
          -1.6522568464279175,
          -1.1526410579681396,
          -1.1406806707382202,
          -2.4956555366516113,
          0.038563478738069534,
          -2.40602970123291,
          -2.012482166290283,
          -1.3134574890136719,
          0.1936599463224411,
          -0.6392317414283752,
          -0.8108331561088562,
          -1.4647743701934814,
          -1.9457050561904907,
          0.04836983233690262,
          -0.913392186164856,
          -1.9895095825195312,
          -2.8800222873687744,
          0.06463950872421265,
          -0.8594428300857544,
          -1.4463915824890137,
          -2.7058916091918945,
          0.010811232961714268,
          -0.932752251625061,
          -1.9385651350021362,
          -0.006387603934854269,
          -0.3239586353302002,
          -1.142903208732605,
          -2.075091600418091,
          -2.331840991973877,
          -1.9525352716445923,
          -1.0834494829177856,
          0.18760700523853302,
          -1.1757529973983765,
          -2.100188732147217,
          -0.1784592717885971,
          -0.8400464057922363,
          -0.3354537785053253,
          -0.5419149994850159,
          -0.5082005858421326,
          0.13661766052246094,
          -1.2588183879852295,
          -1.1447046995162964,
          -0.5229882001876831,
          0.021964507177472115,
          -0.2588336765766144,
          -0.12961634993553162,
          0.08707635849714279,
          -0.932768702507019
         ]
        }
       ],
       "layout": {
        "legend": {
         "bgcolor": "#F5F6F9",
         "font": {
          "color": "#4D5663"
         }
        },
        "paper_bgcolor": "#F5F6F9",
        "plot_bgcolor": "#F5F6F9",
        "scene": {
         "xaxis": {
          "gridcolor": "#9499A3",
          "showgrid": true,
          "tickfont": {
           "color": "#4D5663"
          },
          "title": {
           "font": {
            "color": "#4D5663"
           },
           "text": ""
          },
          "zerolinecolor": "#9499A3"
         },
         "yaxis": {
          "gridcolor": "#9499A3",
          "showgrid": true,
          "tickfont": {
           "color": "#4D5663"
          },
          "title": {
           "font": {
            "color": "#4D5663"
           },
           "text": ""
          },
          "zerolinecolor": "#9499A3"
         },
         "zaxis": {
          "gridcolor": "#9499A3",
          "showgrid": true,
          "tickfont": {
           "color": "#4D5663"
          },
          "title": {
           "font": {
            "color": "#4D5663"
           },
           "text": ""
          },
          "zerolinecolor": "#9499A3"
         }
        },
        "template": {
         "data": {
          "bar": [
           {
            "error_x": {
             "color": "#2a3f5f"
            },
            "error_y": {
             "color": "#2a3f5f"
            },
            "marker": {
             "line": {
              "color": "#E5ECF6",
              "width": 0.5
             },
             "pattern": {
              "fillmode": "overlay",
              "size": 10,
              "solidity": 0.2
             }
            },
            "type": "bar"
           }
          ],
          "barpolar": [
           {
            "marker": {
             "line": {
              "color": "#E5ECF6",
              "width": 0.5
             },
             "pattern": {
              "fillmode": "overlay",
              "size": 10,
              "solidity": 0.2
             }
            },
            "type": "barpolar"
           }
          ],
          "carpet": [
           {
            "aaxis": {
             "endlinecolor": "#2a3f5f",
             "gridcolor": "white",
             "linecolor": "white",
             "minorgridcolor": "white",
             "startlinecolor": "#2a3f5f"
            },
            "baxis": {
             "endlinecolor": "#2a3f5f",
             "gridcolor": "white",
             "linecolor": "white",
             "minorgridcolor": "white",
             "startlinecolor": "#2a3f5f"
            },
            "type": "carpet"
           }
          ],
          "choropleth": [
           {
            "colorbar": {
             "outlinewidth": 0,
             "ticks": ""
            },
            "type": "choropleth"
           }
          ],
          "contour": [
           {
            "colorbar": {
             "outlinewidth": 0,
             "ticks": ""
            },
            "colorscale": [
             [
              0,
              "#0d0887"
             ],
             [
              0.1111111111111111,
              "#46039f"
             ],
             [
              0.2222222222222222,
              "#7201a8"
             ],
             [
              0.3333333333333333,
              "#9c179e"
             ],
             [
              0.4444444444444444,
              "#bd3786"
             ],
             [
              0.5555555555555556,
              "#d8576b"
             ],
             [
              0.6666666666666666,
              "#ed7953"
             ],
             [
              0.7777777777777778,
              "#fb9f3a"
             ],
             [
              0.8888888888888888,
              "#fdca26"
             ],
             [
              1,
              "#f0f921"
             ]
            ],
            "type": "contour"
           }
          ],
          "contourcarpet": [
           {
            "colorbar": {
             "outlinewidth": 0,
             "ticks": ""
            },
            "type": "contourcarpet"
           }
          ],
          "heatmap": [
           {
            "colorbar": {
             "outlinewidth": 0,
             "ticks": ""
            },
            "colorscale": [
             [
              0,
              "#0d0887"
             ],
             [
              0.1111111111111111,
              "#46039f"
             ],
             [
              0.2222222222222222,
              "#7201a8"
             ],
             [
              0.3333333333333333,
              "#9c179e"
             ],
             [
              0.4444444444444444,
              "#bd3786"
             ],
             [
              0.5555555555555556,
              "#d8576b"
             ],
             [
              0.6666666666666666,
              "#ed7953"
             ],
             [
              0.7777777777777778,
              "#fb9f3a"
             ],
             [
              0.8888888888888888,
              "#fdca26"
             ],
             [
              1,
              "#f0f921"
             ]
            ],
            "type": "heatmap"
           }
          ],
          "heatmapgl": [
           {
            "colorbar": {
             "outlinewidth": 0,
             "ticks": ""
            },
            "colorscale": [
             [
              0,
              "#0d0887"
             ],
             [
              0.1111111111111111,
              "#46039f"
             ],
             [
              0.2222222222222222,
              "#7201a8"
             ],
             [
              0.3333333333333333,
              "#9c179e"
             ],
             [
              0.4444444444444444,
              "#bd3786"
             ],
             [
              0.5555555555555556,
              "#d8576b"
             ],
             [
              0.6666666666666666,
              "#ed7953"
             ],
             [
              0.7777777777777778,
              "#fb9f3a"
             ],
             [
              0.8888888888888888,
              "#fdca26"
             ],
             [
              1,
              "#f0f921"
             ]
            ],
            "type": "heatmapgl"
           }
          ],
          "histogram": [
           {
            "marker": {
             "pattern": {
              "fillmode": "overlay",
              "size": 10,
              "solidity": 0.2
             }
            },
            "type": "histogram"
           }
          ],
          "histogram2d": [
           {
            "colorbar": {
             "outlinewidth": 0,
             "ticks": ""
            },
            "colorscale": [
             [
              0,
              "#0d0887"
             ],
             [
              0.1111111111111111,
              "#46039f"
             ],
             [
              0.2222222222222222,
              "#7201a8"
             ],
             [
              0.3333333333333333,
              "#9c179e"
             ],
             [
              0.4444444444444444,
              "#bd3786"
             ],
             [
              0.5555555555555556,
              "#d8576b"
             ],
             [
              0.6666666666666666,
              "#ed7953"
             ],
             [
              0.7777777777777778,
              "#fb9f3a"
             ],
             [
              0.8888888888888888,
              "#fdca26"
             ],
             [
              1,
              "#f0f921"
             ]
            ],
            "type": "histogram2d"
           }
          ],
          "histogram2dcontour": [
           {
            "colorbar": {
             "outlinewidth": 0,
             "ticks": ""
            },
            "colorscale": [
             [
              0,
              "#0d0887"
             ],
             [
              0.1111111111111111,
              "#46039f"
             ],
             [
              0.2222222222222222,
              "#7201a8"
             ],
             [
              0.3333333333333333,
              "#9c179e"
             ],
             [
              0.4444444444444444,
              "#bd3786"
             ],
             [
              0.5555555555555556,
              "#d8576b"
             ],
             [
              0.6666666666666666,
              "#ed7953"
             ],
             [
              0.7777777777777778,
              "#fb9f3a"
             ],
             [
              0.8888888888888888,
              "#fdca26"
             ],
             [
              1,
              "#f0f921"
             ]
            ],
            "type": "histogram2dcontour"
           }
          ],
          "mesh3d": [
           {
            "colorbar": {
             "outlinewidth": 0,
             "ticks": ""
            },
            "type": "mesh3d"
           }
          ],
          "parcoords": [
           {
            "line": {
             "colorbar": {
              "outlinewidth": 0,
              "ticks": ""
             }
            },
            "type": "parcoords"
           }
          ],
          "pie": [
           {
            "automargin": true,
            "type": "pie"
           }
          ],
          "scatter": [
           {
            "fillpattern": {
             "fillmode": "overlay",
             "size": 10,
             "solidity": 0.2
            },
            "type": "scatter"
           }
          ],
          "scatter3d": [
           {
            "line": {
             "colorbar": {
              "outlinewidth": 0,
              "ticks": ""
             }
            },
            "marker": {
             "colorbar": {
              "outlinewidth": 0,
              "ticks": ""
             }
            },
            "type": "scatter3d"
           }
          ],
          "scattercarpet": [
           {
            "marker": {
             "colorbar": {
              "outlinewidth": 0,
              "ticks": ""
             }
            },
            "type": "scattercarpet"
           }
          ],
          "scattergeo": [
           {
            "marker": {
             "colorbar": {
              "outlinewidth": 0,
              "ticks": ""
             }
            },
            "type": "scattergeo"
           }
          ],
          "scattergl": [
           {
            "marker": {
             "colorbar": {
              "outlinewidth": 0,
              "ticks": ""
             }
            },
            "type": "scattergl"
           }
          ],
          "scattermapbox": [
           {
            "marker": {
             "colorbar": {
              "outlinewidth": 0,
              "ticks": ""
             }
            },
            "type": "scattermapbox"
           }
          ],
          "scatterpolar": [
           {
            "marker": {
             "colorbar": {
              "outlinewidth": 0,
              "ticks": ""
             }
            },
            "type": "scatterpolar"
           }
          ],
          "scatterpolargl": [
           {
            "marker": {
             "colorbar": {
              "outlinewidth": 0,
              "ticks": ""
             }
            },
            "type": "scatterpolargl"
           }
          ],
          "scatterternary": [
           {
            "marker": {
             "colorbar": {
              "outlinewidth": 0,
              "ticks": ""
             }
            },
            "type": "scatterternary"
           }
          ],
          "surface": [
           {
            "colorbar": {
             "outlinewidth": 0,
             "ticks": ""
            },
            "colorscale": [
             [
              0,
              "#0d0887"
             ],
             [
              0.1111111111111111,
              "#46039f"
             ],
             [
              0.2222222222222222,
              "#7201a8"
             ],
             [
              0.3333333333333333,
              "#9c179e"
             ],
             [
              0.4444444444444444,
              "#bd3786"
             ],
             [
              0.5555555555555556,
              "#d8576b"
             ],
             [
              0.6666666666666666,
              "#ed7953"
             ],
             [
              0.7777777777777778,
              "#fb9f3a"
             ],
             [
              0.8888888888888888,
              "#fdca26"
             ],
             [
              1,
              "#f0f921"
             ]
            ],
            "type": "surface"
           }
          ],
          "table": [
           {
            "cells": {
             "fill": {
              "color": "#EBF0F8"
             },
             "line": {
              "color": "white"
             }
            },
            "header": {
             "fill": {
              "color": "#C8D4E3"
             },
             "line": {
              "color": "white"
             }
            },
            "type": "table"
           }
          ]
         },
         "layout": {
          "annotationdefaults": {
           "arrowcolor": "#2a3f5f",
           "arrowhead": 0,
           "arrowwidth": 1
          },
          "autotypenumbers": "strict",
          "coloraxis": {
           "colorbar": {
            "outlinewidth": 0,
            "ticks": ""
           }
          },
          "colorscale": {
           "diverging": [
            [
             0,
             "#8e0152"
            ],
            [
             0.1,
             "#c51b7d"
            ],
            [
             0.2,
             "#de77ae"
            ],
            [
             0.3,
             "#f1b6da"
            ],
            [
             0.4,
             "#fde0ef"
            ],
            [
             0.5,
             "#f7f7f7"
            ],
            [
             0.6,
             "#e6f5d0"
            ],
            [
             0.7,
             "#b8e186"
            ],
            [
             0.8,
             "#7fbc41"
            ],
            [
             0.9,
             "#4d9221"
            ],
            [
             1,
             "#276419"
            ]
           ],
           "sequential": [
            [
             0,
             "#0d0887"
            ],
            [
             0.1111111111111111,
             "#46039f"
            ],
            [
             0.2222222222222222,
             "#7201a8"
            ],
            [
             0.3333333333333333,
             "#9c179e"
            ],
            [
             0.4444444444444444,
             "#bd3786"
            ],
            [
             0.5555555555555556,
             "#d8576b"
            ],
            [
             0.6666666666666666,
             "#ed7953"
            ],
            [
             0.7777777777777778,
             "#fb9f3a"
            ],
            [
             0.8888888888888888,
             "#fdca26"
            ],
            [
             1,
             "#f0f921"
            ]
           ],
           "sequentialminus": [
            [
             0,
             "#0d0887"
            ],
            [
             0.1111111111111111,
             "#46039f"
            ],
            [
             0.2222222222222222,
             "#7201a8"
            ],
            [
             0.3333333333333333,
             "#9c179e"
            ],
            [
             0.4444444444444444,
             "#bd3786"
            ],
            [
             0.5555555555555556,
             "#d8576b"
            ],
            [
             0.6666666666666666,
             "#ed7953"
            ],
            [
             0.7777777777777778,
             "#fb9f3a"
            ],
            [
             0.8888888888888888,
             "#fdca26"
            ],
            [
             1,
             "#f0f921"
            ]
           ]
          },
          "colorway": [
           "#636efa",
           "#EF553B",
           "#00cc96",
           "#ab63fa",
           "#FFA15A",
           "#19d3f3",
           "#FF6692",
           "#B6E880",
           "#FF97FF",
           "#FECB52"
          ],
          "font": {
           "color": "#2a3f5f"
          },
          "geo": {
           "bgcolor": "white",
           "lakecolor": "white",
           "landcolor": "#E5ECF6",
           "showlakes": true,
           "showland": true,
           "subunitcolor": "white"
          },
          "hoverlabel": {
           "align": "left"
          },
          "hovermode": "closest",
          "mapbox": {
           "style": "light"
          },
          "paper_bgcolor": "white",
          "plot_bgcolor": "#E5ECF6",
          "polar": {
           "angularaxis": {
            "gridcolor": "white",
            "linecolor": "white",
            "ticks": ""
           },
           "bgcolor": "#E5ECF6",
           "radialaxis": {
            "gridcolor": "white",
            "linecolor": "white",
            "ticks": ""
           }
          },
          "scene": {
           "xaxis": {
            "backgroundcolor": "#E5ECF6",
            "gridcolor": "white",
            "gridwidth": 2,
            "linecolor": "white",
            "showbackground": true,
            "ticks": "",
            "zerolinecolor": "white"
           },
           "yaxis": {
            "backgroundcolor": "#E5ECF6",
            "gridcolor": "white",
            "gridwidth": 2,
            "linecolor": "white",
            "showbackground": true,
            "ticks": "",
            "zerolinecolor": "white"
           },
           "zaxis": {
            "backgroundcolor": "#E5ECF6",
            "gridcolor": "white",
            "gridwidth": 2,
            "linecolor": "white",
            "showbackground": true,
            "ticks": "",
            "zerolinecolor": "white"
           }
          },
          "shapedefaults": {
           "line": {
            "color": "#2a3f5f"
           }
          },
          "ternary": {
           "aaxis": {
            "gridcolor": "white",
            "linecolor": "white",
            "ticks": ""
           },
           "baxis": {
            "gridcolor": "white",
            "linecolor": "white",
            "ticks": ""
           },
           "bgcolor": "#E5ECF6",
           "caxis": {
            "gridcolor": "white",
            "linecolor": "white",
            "ticks": ""
           }
          },
          "title": {
           "x": 0.05
          },
          "xaxis": {
           "automargin": true,
           "gridcolor": "white",
           "linecolor": "white",
           "ticks": "",
           "title": {
            "standoff": 15
           },
           "zerolinecolor": "white",
           "zerolinewidth": 2
          },
          "yaxis": {
           "automargin": true,
           "gridcolor": "white",
           "linecolor": "white",
           "ticks": "",
           "title": {
            "standoff": 15
           },
           "zerolinecolor": "white",
           "zerolinewidth": 2
          }
         }
        },
        "title": {
         "font": {
          "color": "#4D5663"
         },
         "text": "TSNE"
        }
       }
      },
      "text/html": [
       "<div>                            <div id=\"265582cd-5bca-4619-9ac5-100dd6818a8d\" class=\"plotly-graph-div\" style=\"height:525px; width:100%;\"></div>            <script type=\"text/javascript\">                require([\"plotly\"], function(Plotly) {                    window.PLOTLYENV=window.PLOTLYENV || {};\n",
       "                    window.PLOTLYENV.BASE_URL='https://plot.ly';                                    if (document.getElementById(\"265582cd-5bca-4619-9ac5-100dd6818a8d\")) {                    Plotly.newPlot(                        \"265582cd-5bca-4619-9ac5-100dd6818a8d\",                        [{\"marker\":{\"color\":\"rgba(255, 153, 51, 1.0)\",\"line\":{\"width\":1.3},\"opacity\":0.8,\"size\":5,\"symbol\":\"circle\"},\"mode\":\"markers\",\"name\":\"setosa\",\"textfont\":{\"color\":\"#4D5663\"},\"x\":[-8.812055587768555,-10.667171478271484,-9.850708961486816,-9.92880916595459,-8.933856964111328,-8.648571014404297,-9.139707565307617,-9.271133422851562,-10.31039047241211,-10.336668014526367,-8.214831352233887,-9.23123836517334,-10.5900239944458,-10.131159782409668,-7.404778003692627,-7.805953502655029,-7.892894744873047,-9.162734985351562,-8.070046424865723,-8.933564186096191,-8.548192024230957,-9.258856773376465,-8.953705787658691,-9.825222969055176,-9.361892700195312,-10.631763458251953,-9.68614673614502,-8.690823554992676,-8.593794822692871,-9.66295051574707,-10.101421356201172,-8.530250549316406,-8.478169441223145,-7.913498878479004,-10.275276184082031,-10.123714447021484,-7.776801109313965,-8.804000854492188,-10.111227035522461,-9.081659317016602,-9.251514434814453,-11.149480819702148,-9.613659858703613,-9.924309730529785,-9.49199104309082,-10.580498695373535,-9.002437591552734,-9.640323638916016,-8.405628204345703,-9.647300720214844],\"y\":[4.025527477264404,2.833418369293213,2.286872625350952,2.2308967113494873,3.903172016143799,5.868111610412598,2.3043644428253174,3.7941439151763916,1.5481910705566406,3.1408603191375732,5.251980781555176,3.3454442024230957,2.5097601413726807,1.1921266317367554,5.730191707611084,6.085154056549072,5.198393821716309,4.24155855178833,6.063687324523926,4.806600570678711,5.304225444793701,4.872685432434082,2.0621187686920166,4.795430660247803,3.8000597953796387,3.4218227863311768,4.434746265411377,4.53724479675293,4.208305835723877,2.788280725479126,2.979597330093384,5.17144250869751,5.309908390045166,5.713014125823975,3.171555995941162,3.0421552658081055,4.951117992401123,3.415239095687866,1.4798049926757812,4.1077680587768555,3.688676357269287,1.4966458082199097,1.5745677947998047,4.963755130767822,5.701476097106934,2.506988763809204,4.932613372802734,2.1605043411254883,4.983424663543701,3.5049052238464355],\"z\":[0.1375853270292282,-0.668604850769043,-0.45686444640159607,-1.3614200353622437,0.5475633144378662,0.8757124543190002,-0.6496813297271729,-0.38769108057022095,-1.2965859174728394,-0.9502835869789124,0.4227328896522522,-1.0411192178726196,-0.9564639329910278,-0.6991869807243347,1.069951057434082,1.4723310470581055,1.0938552618026733,0.17392265796661377,0.532439649105072,1.0027600526809692,-0.5398493409156799,0.6089457273483276,0.27690860629081726,-0.8056790828704834,-1.722874402999878,-1.1944224834442139,-0.5712357759475708,-0.06872670352458954,-0.2845868766307831,-1.4000757932662964,-1.4286917448043823,-0.4758588969707489,1.604515552520752,1.4843430519104004,-0.9065471887588501,0.10898160189390182,-0.029650168493390083,0.42231667041778564,-1.0077005624771118,-0.38128089904785156,0.4069565534591675,-1.2753595113754272,-0.7839483618736267,-0.24528801441192627,0.6988917589187622,-0.8117261528968811,1.0312092304229736,-0.9387125372886658,0.5451586246490479,-0.24731281399726868],\"type\":\"scatter3d\"},{\"marker\":{\"color\":\"rgba(55, 128, 191, 1.0)\",\"line\":{\"width\":1.3},\"opacity\":0.8,\"size\":5,\"symbol\":\"circle\"},\"mode\":\"markers\",\"name\":\"versicolor\",\"textfont\":{\"color\":\"#4D5663\"},\"x\":[5.346317768096924,4.451855659484863,5.401478290557861,0.3708038330078125,4.082280158996582,2.116431713104248,4.601754188537598,-0.3540985882282257,4.33969783782959,0.6347722411155701,-0.47661471366882324,2.7158310413360596,0.7456443309783936,3.4047882556915283,1.1412116289138794,4.676051139831543,2.3998007774353027,1.4416385889053345,2.275859832763672,0.7010926008224487,4.025182723999023,2.2787363529205322,3.372262716293335,3.0874946117401123,3.6447856426239014,4.359016418457031,4.844976902008057,5.415088176727295,3.13080096244812,0.6181849837303162,0.3424978256225586,0.2579996883869171,1.4141554832458496,3.6136832237243652,2.056342124938965,4.086117744445801,5.012660026550293,2.241021156311035,1.9055601358413696,0.7117649912834167,1.232446551322937,3.4814367294311523,1.2769694328308105,-0.3441591262817383,1.4002549648284912,2.1392736434936523,2.011122226715088,3.148909330368042,-0.3295559883117676,1.7066943645477295],\"y\":[-1.9639755487442017,-2.989805221557617,-1.6746916770935059,-4.069694995880127,-2.0598459243774414,-3.7747843265533447,-3.0429253578186035,-5.220719814300537,-2.17081618309021,-4.9587578773498535,-4.942596912384033,-4.046602725982666,-3.2497196197509766,-2.7359743118286133,-5.066577434539795,-2.5356476306915283,-4.118740081787109,-3.797055721282959,-1.5584720373153687,-4.152133464813232,-3.019864082336426,-3.702017068862915,-1.2745214700698853,-2.6270453929901123,-2.8619680404663086,-2.5678281784057617,-1.6383973360061646,-1.279924988746643,-3.287050247192383,-4.655888080596924,-4.316847324371338,-4.412869930267334,-4.267281532287598,-1.4520413875579834,-4.342628479003906,-3.730273962020874,-2.113454580307007,-1.7602580785751343,-4.706046104431152,-4.327617168426514,-3.9927003383636475,-3.0542163848876953,-3.9130101203918457,-5.160954475402832,-4.178469657897949,-4.432307720184326,-4.250011444091797,-3.212240695953369,-5.305253028869629,-4.305078029632568],\"z\":[2.0282623767852783,1.5080924034118652,1.6755086183547974,1.6290799379348755,1.6044061183929443,0.8456041812896729,0.8460096716880798,2.373115301132202,1.9727301597595215,1.3603787422180176,2.209087610244751,1.4937591552734375,2.3880953788757324,0.8461279273033142,2.3374063968658447,2.164553165435791,0.4876924157142639,2.1327929496765137,1.2613108158111572,2.131997585296631,-0.38726165890693665,2.3222029209136963,0.4834616482257843,1.1154074668884277,2.129848003387451,2.116652011871338,1.8119640350341797,0.965152382850647,0.9548043012619019,2.7616183757781982,2.143134832382202,2.3929643630981445,2.3292458057403564,-0.5350169539451599,0.33075249195098877,0.5847795009613037,1.7125531435012817,1.5157239437103271,1.4589295387268066,1.5660308599472046,0.9211363792419434,1.0153861045837402,2.1391537189483643,2.381366014480591,1.29342520236969,1.5040092468261719,1.4225910902023315,1.899105429649353,2.530473232269287,1.6962578296661377],\"type\":\"scatter3d\"},{\"marker\":{\"color\":\"rgba(50, 171, 96, 1.0)\",\"line\":{\"width\":1.3},\"opacity\":0.8,\"size\":5,\"symbol\":\"circle\"},\"mode\":\"markers\",\"name\":\"virginica\",\"textfont\":{\"color\":\"#4D5663\"},\"x\":[6.513221740722656,3.568929672241211,7.527822971343994,5.306088924407959,6.283143520355225,8.390230178833008,0.9301718473434448,7.964391708374023,6.104107856750488,8.055095672607422,5.907570838928223,4.992597579956055,6.7517313957214355,3.2545626163482666,3.7754809856414795,6.122779369354248,5.711834907531738,8.677247047424316,8.397056579589844,2.753488779067993,7.336332321166992,3.3838798999786377,8.39518928527832,4.094744682312012,6.866186141967773,7.788331508636475,4.03017520904541,4.193018436431885,5.705870628356934,7.580099582672119,7.942142009735107,8.730305671691895,5.775160789489746,4.144362926483154,4.112176418304443,8.445015907287598,6.277772903442383,5.618259429931641,3.967790126800537,7.002509117126465,6.873316764831543,6.926577568054199,3.568929672241211,7.1792120933532715,7.06048583984375,6.6124138832092285,3.922685384750366,5.771744728088379,5.988070964813232,4.072029113769531],\"y\":[1.666420340538025,-1.8459910154342651,0.42579203844070435,-0.12197618931531906,0.8090076446533203,0.9598702192306519,-4.55905818939209,0.4284268915653229,-0.038096267729997635,1.3297429084777832,-0.4761815369129181,-0.5454922318458557,0.001521168858744204,-1.8941351175308228,-1.9128791093826294,0.5103868842124939,-0.2585372030735016,1.46907639503479,1.0451843738555908,-1.1030443906784058,0.644740104675293,-2.3376283645629883,0.9250842332839966,-1.4248791933059692,0.6734728217124939,0.24276301264762878,-1.919228434562683,-2.3037514686584473,0.30043449997901917,-0.08940460532903671,0.35065099596977234,1.3986997604370117,0.4903307259082794,-1.2183878421783447,-0.28904902935028076,0.7148983478546143,1.297349452972412,-0.2200895994901657,-2.6042447090148926,-0.08915739506483078,0.7147675156593323,-0.21084260940551758,-1.8459910154342651,1.0152919292449951,1.165488600730896,-0.08044020086526871,-0.9899213910102844,-0.4400058090686798,1.0729550123214722,-2.1963441371917725],\"z\":[-0.6838542819023132,-1.2588183879852295,-1.6522568464279175,-1.1526410579681396,-1.1406806707382202,-2.4956555366516113,0.038563478738069534,-2.40602970123291,-2.012482166290283,-1.3134574890136719,0.1936599463224411,-0.6392317414283752,-0.8108331561088562,-1.4647743701934814,-1.9457050561904907,0.04836983233690262,-0.913392186164856,-1.9895095825195312,-2.8800222873687744,0.06463950872421265,-0.8594428300857544,-1.4463915824890137,-2.7058916091918945,0.010811232961714268,-0.932752251625061,-1.9385651350021362,-0.006387603934854269,-0.3239586353302002,-1.142903208732605,-2.075091600418091,-2.331840991973877,-1.9525352716445923,-1.0834494829177856,0.18760700523853302,-1.1757529973983765,-2.100188732147217,-0.1784592717885971,-0.8400464057922363,-0.3354537785053253,-0.5419149994850159,-0.5082005858421326,0.13661766052246094,-1.2588183879852295,-1.1447046995162964,-0.5229882001876831,0.021964507177472115,-0.2588336765766144,-0.12961634993553162,0.08707635849714279,-0.932768702507019],\"type\":\"scatter3d\"}],                        {\"legend\":{\"bgcolor\":\"#F5F6F9\",\"font\":{\"color\":\"#4D5663\"}},\"paper_bgcolor\":\"#F5F6F9\",\"plot_bgcolor\":\"#F5F6F9\",\"scene\":{\"xaxis\":{\"gridcolor\":\"#9499A3\",\"showgrid\":true,\"tickfont\":{\"color\":\"#4D5663\"},\"title\":{\"font\":{\"color\":\"#4D5663\"},\"text\":\"\"},\"zerolinecolor\":\"#9499A3\"},\"yaxis\":{\"gridcolor\":\"#9499A3\",\"showgrid\":true,\"tickfont\":{\"color\":\"#4D5663\"},\"title\":{\"font\":{\"color\":\"#4D5663\"},\"text\":\"\"},\"zerolinecolor\":\"#9499A3\"},\"zaxis\":{\"gridcolor\":\"#9499A3\",\"showgrid\":true,\"tickfont\":{\"color\":\"#4D5663\"},\"title\":{\"font\":{\"color\":\"#4D5663\"},\"text\":\"\"},\"zerolinecolor\":\"#9499A3\"}},\"template\":{\"data\":{\"barpolar\":[{\"marker\":{\"line\":{\"color\":\"#E5ECF6\",\"width\":0.5},\"pattern\":{\"fillmode\":\"overlay\",\"size\":10,\"solidity\":0.2}},\"type\":\"barpolar\"}],\"bar\":[{\"error_x\":{\"color\":\"#2a3f5f\"},\"error_y\":{\"color\":\"#2a3f5f\"},\"marker\":{\"line\":{\"color\":\"#E5ECF6\",\"width\":0.5},\"pattern\":{\"fillmode\":\"overlay\",\"size\":10,\"solidity\":0.2}},\"type\":\"bar\"}],\"carpet\":[{\"aaxis\":{\"endlinecolor\":\"#2a3f5f\",\"gridcolor\":\"white\",\"linecolor\":\"white\",\"minorgridcolor\":\"white\",\"startlinecolor\":\"#2a3f5f\"},\"baxis\":{\"endlinecolor\":\"#2a3f5f\",\"gridcolor\":\"white\",\"linecolor\":\"white\",\"minorgridcolor\":\"white\",\"startlinecolor\":\"#2a3f5f\"},\"type\":\"carpet\"}],\"choropleth\":[{\"colorbar\":{\"outlinewidth\":0,\"ticks\":\"\"},\"type\":\"choropleth\"}],\"contourcarpet\":[{\"colorbar\":{\"outlinewidth\":0,\"ticks\":\"\"},\"type\":\"contourcarpet\"}],\"contour\":[{\"colorbar\":{\"outlinewidth\":0,\"ticks\":\"\"},\"colorscale\":[[0.0,\"#0d0887\"],[0.1111111111111111,\"#46039f\"],[0.2222222222222222,\"#7201a8\"],[0.3333333333333333,\"#9c179e\"],[0.4444444444444444,\"#bd3786\"],[0.5555555555555556,\"#d8576b\"],[0.6666666666666666,\"#ed7953\"],[0.7777777777777778,\"#fb9f3a\"],[0.8888888888888888,\"#fdca26\"],[1.0,\"#f0f921\"]],\"type\":\"contour\"}],\"heatmapgl\":[{\"colorbar\":{\"outlinewidth\":0,\"ticks\":\"\"},\"colorscale\":[[0.0,\"#0d0887\"],[0.1111111111111111,\"#46039f\"],[0.2222222222222222,\"#7201a8\"],[0.3333333333333333,\"#9c179e\"],[0.4444444444444444,\"#bd3786\"],[0.5555555555555556,\"#d8576b\"],[0.6666666666666666,\"#ed7953\"],[0.7777777777777778,\"#fb9f3a\"],[0.8888888888888888,\"#fdca26\"],[1.0,\"#f0f921\"]],\"type\":\"heatmapgl\"}],\"heatmap\":[{\"colorbar\":{\"outlinewidth\":0,\"ticks\":\"\"},\"colorscale\":[[0.0,\"#0d0887\"],[0.1111111111111111,\"#46039f\"],[0.2222222222222222,\"#7201a8\"],[0.3333333333333333,\"#9c179e\"],[0.4444444444444444,\"#bd3786\"],[0.5555555555555556,\"#d8576b\"],[0.6666666666666666,\"#ed7953\"],[0.7777777777777778,\"#fb9f3a\"],[0.8888888888888888,\"#fdca26\"],[1.0,\"#f0f921\"]],\"type\":\"heatmap\"}],\"histogram2dcontour\":[{\"colorbar\":{\"outlinewidth\":0,\"ticks\":\"\"},\"colorscale\":[[0.0,\"#0d0887\"],[0.1111111111111111,\"#46039f\"],[0.2222222222222222,\"#7201a8\"],[0.3333333333333333,\"#9c179e\"],[0.4444444444444444,\"#bd3786\"],[0.5555555555555556,\"#d8576b\"],[0.6666666666666666,\"#ed7953\"],[0.7777777777777778,\"#fb9f3a\"],[0.8888888888888888,\"#fdca26\"],[1.0,\"#f0f921\"]],\"type\":\"histogram2dcontour\"}],\"histogram2d\":[{\"colorbar\":{\"outlinewidth\":0,\"ticks\":\"\"},\"colorscale\":[[0.0,\"#0d0887\"],[0.1111111111111111,\"#46039f\"],[0.2222222222222222,\"#7201a8\"],[0.3333333333333333,\"#9c179e\"],[0.4444444444444444,\"#bd3786\"],[0.5555555555555556,\"#d8576b\"],[0.6666666666666666,\"#ed7953\"],[0.7777777777777778,\"#fb9f3a\"],[0.8888888888888888,\"#fdca26\"],[1.0,\"#f0f921\"]],\"type\":\"histogram2d\"}],\"histogram\":[{\"marker\":{\"pattern\":{\"fillmode\":\"overlay\",\"size\":10,\"solidity\":0.2}},\"type\":\"histogram\"}],\"mesh3d\":[{\"colorbar\":{\"outlinewidth\":0,\"ticks\":\"\"},\"type\":\"mesh3d\"}],\"parcoords\":[{\"line\":{\"colorbar\":{\"outlinewidth\":0,\"ticks\":\"\"}},\"type\":\"parcoords\"}],\"pie\":[{\"automargin\":true,\"type\":\"pie\"}],\"scatter3d\":[{\"line\":{\"colorbar\":{\"outlinewidth\":0,\"ticks\":\"\"}},\"marker\":{\"colorbar\":{\"outlinewidth\":0,\"ticks\":\"\"}},\"type\":\"scatter3d\"}],\"scattercarpet\":[{\"marker\":{\"colorbar\":{\"outlinewidth\":0,\"ticks\":\"\"}},\"type\":\"scattercarpet\"}],\"scattergeo\":[{\"marker\":{\"colorbar\":{\"outlinewidth\":0,\"ticks\":\"\"}},\"type\":\"scattergeo\"}],\"scattergl\":[{\"marker\":{\"colorbar\":{\"outlinewidth\":0,\"ticks\":\"\"}},\"type\":\"scattergl\"}],\"scattermapbox\":[{\"marker\":{\"colorbar\":{\"outlinewidth\":0,\"ticks\":\"\"}},\"type\":\"scattermapbox\"}],\"scatterpolargl\":[{\"marker\":{\"colorbar\":{\"outlinewidth\":0,\"ticks\":\"\"}},\"type\":\"scatterpolargl\"}],\"scatterpolar\":[{\"marker\":{\"colorbar\":{\"outlinewidth\":0,\"ticks\":\"\"}},\"type\":\"scatterpolar\"}],\"scatter\":[{\"fillpattern\":{\"fillmode\":\"overlay\",\"size\":10,\"solidity\":0.2},\"type\":\"scatter\"}],\"scatterternary\":[{\"marker\":{\"colorbar\":{\"outlinewidth\":0,\"ticks\":\"\"}},\"type\":\"scatterternary\"}],\"surface\":[{\"colorbar\":{\"outlinewidth\":0,\"ticks\":\"\"},\"colorscale\":[[0.0,\"#0d0887\"],[0.1111111111111111,\"#46039f\"],[0.2222222222222222,\"#7201a8\"],[0.3333333333333333,\"#9c179e\"],[0.4444444444444444,\"#bd3786\"],[0.5555555555555556,\"#d8576b\"],[0.6666666666666666,\"#ed7953\"],[0.7777777777777778,\"#fb9f3a\"],[0.8888888888888888,\"#fdca26\"],[1.0,\"#f0f921\"]],\"type\":\"surface\"}],\"table\":[{\"cells\":{\"fill\":{\"color\":\"#EBF0F8\"},\"line\":{\"color\":\"white\"}},\"header\":{\"fill\":{\"color\":\"#C8D4E3\"},\"line\":{\"color\":\"white\"}},\"type\":\"table\"}]},\"layout\":{\"annotationdefaults\":{\"arrowcolor\":\"#2a3f5f\",\"arrowhead\":0,\"arrowwidth\":1},\"autotypenumbers\":\"strict\",\"coloraxis\":{\"colorbar\":{\"outlinewidth\":0,\"ticks\":\"\"}},\"colorscale\":{\"diverging\":[[0,\"#8e0152\"],[0.1,\"#c51b7d\"],[0.2,\"#de77ae\"],[0.3,\"#f1b6da\"],[0.4,\"#fde0ef\"],[0.5,\"#f7f7f7\"],[0.6,\"#e6f5d0\"],[0.7,\"#b8e186\"],[0.8,\"#7fbc41\"],[0.9,\"#4d9221\"],[1,\"#276419\"]],\"sequential\":[[0.0,\"#0d0887\"],[0.1111111111111111,\"#46039f\"],[0.2222222222222222,\"#7201a8\"],[0.3333333333333333,\"#9c179e\"],[0.4444444444444444,\"#bd3786\"],[0.5555555555555556,\"#d8576b\"],[0.6666666666666666,\"#ed7953\"],[0.7777777777777778,\"#fb9f3a\"],[0.8888888888888888,\"#fdca26\"],[1.0,\"#f0f921\"]],\"sequentialminus\":[[0.0,\"#0d0887\"],[0.1111111111111111,\"#46039f\"],[0.2222222222222222,\"#7201a8\"],[0.3333333333333333,\"#9c179e\"],[0.4444444444444444,\"#bd3786\"],[0.5555555555555556,\"#d8576b\"],[0.6666666666666666,\"#ed7953\"],[0.7777777777777778,\"#fb9f3a\"],[0.8888888888888888,\"#fdca26\"],[1.0,\"#f0f921\"]]},\"colorway\":[\"#636efa\",\"#EF553B\",\"#00cc96\",\"#ab63fa\",\"#FFA15A\",\"#19d3f3\",\"#FF6692\",\"#B6E880\",\"#FF97FF\",\"#FECB52\"],\"font\":{\"color\":\"#2a3f5f\"},\"geo\":{\"bgcolor\":\"white\",\"lakecolor\":\"white\",\"landcolor\":\"#E5ECF6\",\"showlakes\":true,\"showland\":true,\"subunitcolor\":\"white\"},\"hoverlabel\":{\"align\":\"left\"},\"hovermode\":\"closest\",\"mapbox\":{\"style\":\"light\"},\"paper_bgcolor\":\"white\",\"plot_bgcolor\":\"#E5ECF6\",\"polar\":{\"angularaxis\":{\"gridcolor\":\"white\",\"linecolor\":\"white\",\"ticks\":\"\"},\"bgcolor\":\"#E5ECF6\",\"radialaxis\":{\"gridcolor\":\"white\",\"linecolor\":\"white\",\"ticks\":\"\"}},\"scene\":{\"xaxis\":{\"backgroundcolor\":\"#E5ECF6\",\"gridcolor\":\"white\",\"gridwidth\":2,\"linecolor\":\"white\",\"showbackground\":true,\"ticks\":\"\",\"zerolinecolor\":\"white\"},\"yaxis\":{\"backgroundcolor\":\"#E5ECF6\",\"gridcolor\":\"white\",\"gridwidth\":2,\"linecolor\":\"white\",\"showbackground\":true,\"ticks\":\"\",\"zerolinecolor\":\"white\"},\"zaxis\":{\"backgroundcolor\":\"#E5ECF6\",\"gridcolor\":\"white\",\"gridwidth\":2,\"linecolor\":\"white\",\"showbackground\":true,\"ticks\":\"\",\"zerolinecolor\":\"white\"}},\"shapedefaults\":{\"line\":{\"color\":\"#2a3f5f\"}},\"ternary\":{\"aaxis\":{\"gridcolor\":\"white\",\"linecolor\":\"white\",\"ticks\":\"\"},\"baxis\":{\"gridcolor\":\"white\",\"linecolor\":\"white\",\"ticks\":\"\"},\"bgcolor\":\"#E5ECF6\",\"caxis\":{\"gridcolor\":\"white\",\"linecolor\":\"white\",\"ticks\":\"\"}},\"title\":{\"x\":0.05},\"xaxis\":{\"automargin\":true,\"gridcolor\":\"white\",\"linecolor\":\"white\",\"ticks\":\"\",\"title\":{\"standoff\":15},\"zerolinecolor\":\"white\",\"zerolinewidth\":2},\"yaxis\":{\"automargin\":true,\"gridcolor\":\"white\",\"linecolor\":\"white\",\"ticks\":\"\",\"title\":{\"standoff\":15},\"zerolinecolor\":\"white\",\"zerolinewidth\":2}}},\"title\":{\"font\":{\"color\":\"#4D5663\"},\"text\":\"TSNE\"}},                        {\"showLink\": true, \"linkText\": \"Export to plot.ly\", \"plotlyServerURL\": \"https://plot.ly\", \"responsive\": true}                    ).then(function(){\n",
       "                            \n",
       "var gd = document.getElementById('265582cd-5bca-4619-9ac5-100dd6818a8d');\n",
       "var x = new MutationObserver(function (mutations, observer) {{\n",
       "        var display = window.getComputedStyle(gd).display;\n",
       "        if (!display || display === 'none') {{\n",
       "            console.log([gd, 'removed!']);\n",
       "            Plotly.purge(gd);\n",
       "            observer.disconnect();\n",
       "        }}\n",
       "}});\n",
       "\n",
       "// Listen for the removal of the full notebook cells\n",
       "var notebookContainer = gd.closest('#notebook-container');\n",
       "if (notebookContainer) {{\n",
       "    x.observe(notebookContainer, {childList: true});\n",
       "}}\n",
       "\n",
       "// Listen for the clearing of the current output cell\n",
       "var outputEl = gd.closest('.output');\n",
       "if (outputEl) {{\n",
       "    x.observe(outputEl, {childList: true});\n",
       "}}\n",
       "\n",
       "                        })                };                });            </script>        </div>"
      ]
     },
     "metadata": {},
     "output_type": "display_data"
    }
   ],
   "source": [
    "Xp.iplot(kind='scatter3d',x='d1',y='d2',z='d3',categories='target',size=5,title='PCA')\n",
    "Xm.iplot(kind='scatter3d',x='d1',y='d2',z='d3',categories='target',size=5,title='MDS')\n",
    "Xt.iplot(kind='scatter3d',x='d1',y='d2',z='d3',categories='target',size=5,title='TSNE')"
   ]
  },
  {
   "cell_type": "code",
   "execution_count": null,
   "metadata": {},
   "outputs": [],
   "source": []
  }
 ],
 "metadata": {
  "kernelspec": {
   "display_name": "TSE MAC",
   "language": "python",
   "name": "tse"
  },
  "language_info": {
   "codemirror_mode": {
    "name": "ipython",
    "version": 3
   },
   "file_extension": ".py",
   "mimetype": "text/x-python",
   "name": "python",
   "nbconvert_exporter": "python",
   "pygments_lexer": "ipython3",
   "version": "3.10.12"
  },
  "orig_nbformat": 4
 },
 "nbformat": 4,
 "nbformat_minor": 2
}
